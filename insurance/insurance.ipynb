{
 "cells": [
  {
   "cell_type": "code",
   "execution_count": 1,
   "id": "0635bc58",
   "metadata": {},
   "outputs": [],
   "source": [
    "import pandas as pd\n",
    "import numpy as np\n",
    "import matplotlib.pyplot as plt\n",
    "import seaborn as sns\n",
    "\n",
    "from sklearn.model_selection import train_test_split\n",
    "from sklearn.model_selection import RandomizedSearchCV\n",
    "from sklearn.model_selection import GridSearchCV\n",
    "\n",
    "from sklearn.preprocessing import StandardScaler\n",
    "\n",
    "from sklearn.decomposition import PCA\n",
    "\n",
    "from sklearn.linear_model import LogisticRegression\n",
    "from sklearn.neighbors import KNeighborsClassifier\n",
    "from sklearn.ensemble import RandomForestClassifier\n",
    "\n",
    "from sklearn.metrics import classification_report\n",
    "from sklearn.metrics import confusion_matrix\n",
    "from sklearn.metrics import plot_roc_curve\n",
    "from sklearn.metrics import accuracy_score\n",
    "from sklearn.metrics import precision_score\n",
    "from sklearn.metrics import recall_score\n",
    "from sklearn.metrics import f1_score\n",
    "from sklearn.metrics import roc_auc_score"
   ]
  },
  {
   "cell_type": "markdown",
   "id": "3640b0b8",
   "metadata": {},
   "source": [
    "Age - Age Of The Customer (Возраст клиента)\n",
    "\n",
    "Government Sector Worker - If The Customer is Employed By The Government Or Not (Является ли клиент сотрудником гос. организации) \n",
    "\n",
    "GraduateOrNot - Whether The Customer Is College Graduate Or Not (Есть ли у клиента высшее образование)\n",
    "\n",
    "AnnualIncome - The Yearly Income Of The Customer In Indian Rupees (Rounded To Nearest 50 Thousand Rupees) (Годовой доход клиента в рупиях)  \n",
    "\n",
    "FamilyMembers - Number Of Members In Customer's Family (Количество членов семьи клиента)\n",
    "\n",
    "ChronicDisease - Whether The Customer Suffers From Any Major Disease Or Conditions Like Diabetes/High BP or Asthama,etc. (Есть ли у клиента серьезные хронические заболевания)\n",
    "\n",
    "FrequentFlyer - Derived Data Based On Customer's History Of Booking Air Tickets On Atleast 4 Different Instances In The Last 2 Years (2017-2019). (Бронировал ли клиент как минимум 4 билета на самолет за 2017-19 года)\n",
    "\n",
    "EverTravelledAbroad - Has The Customer Ever Travelled To A Foreign Country (Not Necessarily Using The Company's Services)  (Был ли клиента когда-нибудь заграницей)\n",
    "\n",
    "TravelInsurance (1st File Only)- Did The Customer Buy Travel Insurance Package During Introductory Offering  (Брал ли клиент туристическую вводную страховку)\n",
    "\n",
    "Note: 1=Yes and 0=No"
   ]
  },
  {
   "cell_type": "code",
   "execution_count": 2,
   "id": "e9cd5167",
   "metadata": {
    "scrolled": false
   },
   "outputs": [],
   "source": [
    "df = pd.read_csv('Travel Company Old Clients.csv', sep=';')"
   ]
  },
  {
   "cell_type": "code",
   "execution_count": 3,
   "id": "6824aa91",
   "metadata": {
    "scrolled": false
   },
   "outputs": [
    {
     "data": {
      "text/html": [
       "<div>\n",
       "<style scoped>\n",
       "    .dataframe tbody tr th:only-of-type {\n",
       "        vertical-align: middle;\n",
       "    }\n",
       "\n",
       "    .dataframe tbody tr th {\n",
       "        vertical-align: top;\n",
       "    }\n",
       "\n",
       "    .dataframe thead th {\n",
       "        text-align: right;\n",
       "    }\n",
       "</style>\n",
       "<table border=\"1\" class=\"dataframe\">\n",
       "  <thead>\n",
       "    <tr style=\"text-align: right;\">\n",
       "      <th></th>\n",
       "      <th>Age</th>\n",
       "      <th>Government Sector Worker</th>\n",
       "      <th>GraduateOrNot</th>\n",
       "      <th>AnnualIncome</th>\n",
       "      <th>FamilyMembers</th>\n",
       "      <th>ChronicDiseases</th>\n",
       "      <th>FrequentFlyer</th>\n",
       "      <th>EverTravelledAbroad</th>\n",
       "      <th>TravelInsurance</th>\n",
       "    </tr>\n",
       "  </thead>\n",
       "  <tbody>\n",
       "    <tr>\n",
       "      <th>0</th>\n",
       "      <td>31</td>\n",
       "      <td>1</td>\n",
       "      <td>1</td>\n",
       "      <td>400000</td>\n",
       "      <td>6</td>\n",
       "      <td>1</td>\n",
       "      <td>0</td>\n",
       "      <td>0</td>\n",
       "      <td>0</td>\n",
       "    </tr>\n",
       "    <tr>\n",
       "      <th>1</th>\n",
       "      <td>31</td>\n",
       "      <td>0</td>\n",
       "      <td>1</td>\n",
       "      <td>1250000</td>\n",
       "      <td>7</td>\n",
       "      <td>0</td>\n",
       "      <td>0</td>\n",
       "      <td>0</td>\n",
       "      <td>0</td>\n",
       "    </tr>\n",
       "    <tr>\n",
       "      <th>2</th>\n",
       "      <td>34</td>\n",
       "      <td>0</td>\n",
       "      <td>1</td>\n",
       "      <td>500000</td>\n",
       "      <td>4</td>\n",
       "      <td>1</td>\n",
       "      <td>0</td>\n",
       "      <td>0</td>\n",
       "      <td>1</td>\n",
       "    </tr>\n",
       "    <tr>\n",
       "      <th>3</th>\n",
       "      <td>28</td>\n",
       "      <td>0</td>\n",
       "      <td>1</td>\n",
       "      <td>700000</td>\n",
       "      <td>3</td>\n",
       "      <td>1</td>\n",
       "      <td>0</td>\n",
       "      <td>0</td>\n",
       "      <td>0</td>\n",
       "    </tr>\n",
       "    <tr>\n",
       "      <th>4</th>\n",
       "      <td>28</td>\n",
       "      <td>0</td>\n",
       "      <td>1</td>\n",
       "      <td>700000</td>\n",
       "      <td>8</td>\n",
       "      <td>1</td>\n",
       "      <td>1</td>\n",
       "      <td>0</td>\n",
       "      <td>0</td>\n",
       "    </tr>\n",
       "  </tbody>\n",
       "</table>\n",
       "</div>"
      ],
      "text/plain": [
       "   Age  Government Sector Worker  GraduateOrNot  AnnualIncome  FamilyMembers  \\\n",
       "0   31                         1              1        400000              6   \n",
       "1   31                         0              1       1250000              7   \n",
       "2   34                         0              1        500000              4   \n",
       "3   28                         0              1        700000              3   \n",
       "4   28                         0              1        700000              8   \n",
       "\n",
       "   ChronicDiseases  FrequentFlyer  EverTravelledAbroad  TravelInsurance  \n",
       "0                1              0                    0                0  \n",
       "1                0              0                    0                0  \n",
       "2                1              0                    0                1  \n",
       "3                1              0                    0                0  \n",
       "4                1              1                    0                0  "
      ]
     },
     "execution_count": 3,
     "metadata": {},
     "output_type": "execute_result"
    }
   ],
   "source": [
    "df.head()"
   ]
  },
  {
   "cell_type": "markdown",
   "id": "450defec",
   "metadata": {},
   "source": [
    "Задача заключается в том, чтобы спрогнозировать на новых клиентах будут ли они брать страховки"
   ]
  },
  {
   "cell_type": "markdown",
   "id": "9724a2d9",
   "metadata": {},
   "source": [
    "Для этого я буду использовать несколько методов:\n",
    "1. Модель логистической регрессии\n",
    "2. KNN \n",
    "3. Random Forest (использовать просто дерево решений не стоит, т.к. очевидно, что случайный лес будет эффективнее)"
   ]
  },
  {
   "cell_type": "markdown",
   "id": "c76b2be6",
   "metadata": {},
   "source": [
    "Для начала в целях удобства преобразую датафрейм"
   ]
  },
  {
   "cell_type": "code",
   "execution_count": 4,
   "id": "8c159652",
   "metadata": {},
   "outputs": [],
   "source": [
    "df.rename(columns={'Age':'age',\n",
    "                  'Government Sector Worker':'gov_sector_worker',\n",
    "                  'GraduateOrNot':'graduated',\n",
    "                  'AnnualIncome':'annual_income',\n",
    "                  'FamilyMembers': 'family_members',\n",
    "                  'ChronicDiseases': 'chronic_diseases',\n",
    "                  'FrequentFlyer': 'frequent_flyer',\n",
    "                  'EverTravelledAbroad': 'travelled_abroad',\n",
    "                  'TravelInsurance': 'travel_insurance'}, inplace=True)"
   ]
  },
  {
   "cell_type": "code",
   "execution_count": 5,
   "id": "25be488a",
   "metadata": {
    "scrolled": true
   },
   "outputs": [
    {
     "data": {
      "text/html": [
       "<div>\n",
       "<style scoped>\n",
       "    .dataframe tbody tr th:only-of-type {\n",
       "        vertical-align: middle;\n",
       "    }\n",
       "\n",
       "    .dataframe tbody tr th {\n",
       "        vertical-align: top;\n",
       "    }\n",
       "\n",
       "    .dataframe thead th {\n",
       "        text-align: right;\n",
       "    }\n",
       "</style>\n",
       "<table border=\"1\" class=\"dataframe\">\n",
       "  <thead>\n",
       "    <tr style=\"text-align: right;\">\n",
       "      <th></th>\n",
       "      <th>age</th>\n",
       "      <th>gov_sector_worker</th>\n",
       "      <th>graduated</th>\n",
       "      <th>annual_income</th>\n",
       "      <th>family_members</th>\n",
       "      <th>chronic_diseases</th>\n",
       "      <th>frequent_flyer</th>\n",
       "      <th>travelled_abroad</th>\n",
       "      <th>travel_insurance</th>\n",
       "    </tr>\n",
       "  </thead>\n",
       "  <tbody>\n",
       "    <tr>\n",
       "      <th>0</th>\n",
       "      <td>31</td>\n",
       "      <td>1</td>\n",
       "      <td>1</td>\n",
       "      <td>400000</td>\n",
       "      <td>6</td>\n",
       "      <td>1</td>\n",
       "      <td>0</td>\n",
       "      <td>0</td>\n",
       "      <td>0</td>\n",
       "    </tr>\n",
       "    <tr>\n",
       "      <th>1</th>\n",
       "      <td>31</td>\n",
       "      <td>0</td>\n",
       "      <td>1</td>\n",
       "      <td>1250000</td>\n",
       "      <td>7</td>\n",
       "      <td>0</td>\n",
       "      <td>0</td>\n",
       "      <td>0</td>\n",
       "      <td>0</td>\n",
       "    </tr>\n",
       "    <tr>\n",
       "      <th>2</th>\n",
       "      <td>34</td>\n",
       "      <td>0</td>\n",
       "      <td>1</td>\n",
       "      <td>500000</td>\n",
       "      <td>4</td>\n",
       "      <td>1</td>\n",
       "      <td>0</td>\n",
       "      <td>0</td>\n",
       "      <td>1</td>\n",
       "    </tr>\n",
       "    <tr>\n",
       "      <th>3</th>\n",
       "      <td>28</td>\n",
       "      <td>0</td>\n",
       "      <td>1</td>\n",
       "      <td>700000</td>\n",
       "      <td>3</td>\n",
       "      <td>1</td>\n",
       "      <td>0</td>\n",
       "      <td>0</td>\n",
       "      <td>0</td>\n",
       "    </tr>\n",
       "    <tr>\n",
       "      <th>4</th>\n",
       "      <td>28</td>\n",
       "      <td>0</td>\n",
       "      <td>1</td>\n",
       "      <td>700000</td>\n",
       "      <td>8</td>\n",
       "      <td>1</td>\n",
       "      <td>1</td>\n",
       "      <td>0</td>\n",
       "      <td>0</td>\n",
       "    </tr>\n",
       "  </tbody>\n",
       "</table>\n",
       "</div>"
      ],
      "text/plain": [
       "   age  gov_sector_worker  graduated  annual_income  family_members  \\\n",
       "0   31                  1          1         400000               6   \n",
       "1   31                  0          1        1250000               7   \n",
       "2   34                  0          1         500000               4   \n",
       "3   28                  0          1         700000               3   \n",
       "4   28                  0          1         700000               8   \n",
       "\n",
       "   chronic_diseases  frequent_flyer  travelled_abroad  travel_insurance  \n",
       "0                 1               0                 0                 0  \n",
       "1                 0               0                 0                 0  \n",
       "2                 1               0                 0                 1  \n",
       "3                 1               0                 0                 0  \n",
       "4                 1               1                 0                 0  "
      ]
     },
     "execution_count": 5,
     "metadata": {},
     "output_type": "execute_result"
    }
   ],
   "source": [
    "df.head()"
   ]
  },
  {
   "cell_type": "markdown",
   "id": "a50914cc",
   "metadata": {},
   "source": [
    "#### EDA:"
   ]
  },
  {
   "cell_type": "code",
   "execution_count": 6,
   "id": "7b3106e9",
   "metadata": {
    "scrolled": true
   },
   "outputs": [
    {
     "name": "stdout",
     "output_type": "stream",
     "text": [
      "<class 'pandas.core.frame.DataFrame'>\n",
      "RangeIndex: 682 entries, 0 to 681\n",
      "Data columns (total 9 columns):\n",
      " #   Column             Non-Null Count  Dtype\n",
      "---  ------             --------------  -----\n",
      " 0   age                682 non-null    int64\n",
      " 1   gov_sector_worker  682 non-null    int64\n",
      " 2   graduated          682 non-null    int64\n",
      " 3   annual_income      682 non-null    int64\n",
      " 4   family_members     682 non-null    int64\n",
      " 5   chronic_diseases   682 non-null    int64\n",
      " 6   frequent_flyer     682 non-null    int64\n",
      " 7   travelled_abroad   682 non-null    int64\n",
      " 8   travel_insurance   682 non-null    int64\n",
      "dtypes: int64(9)\n",
      "memory usage: 48.1 KB\n"
     ]
    }
   ],
   "source": [
    "df.info()"
   ]
  },
  {
   "cell_type": "code",
   "execution_count": 7,
   "id": "7fa16b41",
   "metadata": {
    "scrolled": true
   },
   "outputs": [
    {
     "data": {
      "text/html": [
       "<div>\n",
       "<style scoped>\n",
       "    .dataframe tbody tr th:only-of-type {\n",
       "        vertical-align: middle;\n",
       "    }\n",
       "\n",
       "    .dataframe tbody tr th {\n",
       "        vertical-align: top;\n",
       "    }\n",
       "\n",
       "    .dataframe thead th {\n",
       "        text-align: right;\n",
       "    }\n",
       "</style>\n",
       "<table border=\"1\" class=\"dataframe\">\n",
       "  <thead>\n",
       "    <tr style=\"text-align: right;\">\n",
       "      <th></th>\n",
       "      <th>age</th>\n",
       "      <th>gov_sector_worker</th>\n",
       "      <th>graduated</th>\n",
       "      <th>annual_income</th>\n",
       "      <th>family_members</th>\n",
       "      <th>chronic_diseases</th>\n",
       "      <th>frequent_flyer</th>\n",
       "      <th>travelled_abroad</th>\n",
       "      <th>travel_insurance</th>\n",
       "    </tr>\n",
       "  </thead>\n",
       "  <tbody>\n",
       "    <tr>\n",
       "      <th>count</th>\n",
       "      <td>682.000000</td>\n",
       "      <td>682.000000</td>\n",
       "      <td>682.000000</td>\n",
       "      <td>6.820000e+02</td>\n",
       "      <td>682.000000</td>\n",
       "      <td>682.000000</td>\n",
       "      <td>682.000000</td>\n",
       "      <td>682.000000</td>\n",
       "      <td>682.000000</td>\n",
       "    </tr>\n",
       "    <tr>\n",
       "      <th>mean</th>\n",
       "      <td>29.640762</td>\n",
       "      <td>0.258065</td>\n",
       "      <td>0.850440</td>\n",
       "      <td>9.478006e+05</td>\n",
       "      <td>4.835777</td>\n",
       "      <td>0.280059</td>\n",
       "      <td>0.211144</td>\n",
       "      <td>0.187683</td>\n",
       "      <td>0.337243</td>\n",
       "    </tr>\n",
       "    <tr>\n",
       "      <th>std</th>\n",
       "      <td>2.900956</td>\n",
       "      <td>0.437891</td>\n",
       "      <td>0.356901</td>\n",
       "      <td>3.713920e+05</td>\n",
       "      <td>1.622894</td>\n",
       "      <td>0.449357</td>\n",
       "      <td>0.408420</td>\n",
       "      <td>0.390746</td>\n",
       "      <td>0.473116</td>\n",
       "    </tr>\n",
       "    <tr>\n",
       "      <th>min</th>\n",
       "      <td>25.000000</td>\n",
       "      <td>0.000000</td>\n",
       "      <td>0.000000</td>\n",
       "      <td>3.000000e+05</td>\n",
       "      <td>2.000000</td>\n",
       "      <td>0.000000</td>\n",
       "      <td>0.000000</td>\n",
       "      <td>0.000000</td>\n",
       "      <td>0.000000</td>\n",
       "    </tr>\n",
       "    <tr>\n",
       "      <th>25%</th>\n",
       "      <td>28.000000</td>\n",
       "      <td>0.000000</td>\n",
       "      <td>1.000000</td>\n",
       "      <td>6.500000e+05</td>\n",
       "      <td>4.000000</td>\n",
       "      <td>0.000000</td>\n",
       "      <td>0.000000</td>\n",
       "      <td>0.000000</td>\n",
       "      <td>0.000000</td>\n",
       "    </tr>\n",
       "    <tr>\n",
       "      <th>50%</th>\n",
       "      <td>29.000000</td>\n",
       "      <td>0.000000</td>\n",
       "      <td>1.000000</td>\n",
       "      <td>9.500000e+05</td>\n",
       "      <td>5.000000</td>\n",
       "      <td>0.000000</td>\n",
       "      <td>0.000000</td>\n",
       "      <td>0.000000</td>\n",
       "      <td>0.000000</td>\n",
       "    </tr>\n",
       "    <tr>\n",
       "      <th>75%</th>\n",
       "      <td>32.000000</td>\n",
       "      <td>1.000000</td>\n",
       "      <td>1.000000</td>\n",
       "      <td>1.250000e+06</td>\n",
       "      <td>6.000000</td>\n",
       "      <td>1.000000</td>\n",
       "      <td>0.000000</td>\n",
       "      <td>0.000000</td>\n",
       "      <td>1.000000</td>\n",
       "    </tr>\n",
       "    <tr>\n",
       "      <th>max</th>\n",
       "      <td>35.000000</td>\n",
       "      <td>1.000000</td>\n",
       "      <td>1.000000</td>\n",
       "      <td>1.800000e+06</td>\n",
       "      <td>9.000000</td>\n",
       "      <td>1.000000</td>\n",
       "      <td>1.000000</td>\n",
       "      <td>1.000000</td>\n",
       "      <td>1.000000</td>\n",
       "    </tr>\n",
       "  </tbody>\n",
       "</table>\n",
       "</div>"
      ],
      "text/plain": [
       "              age  gov_sector_worker   graduated  annual_income  \\\n",
       "count  682.000000         682.000000  682.000000   6.820000e+02   \n",
       "mean    29.640762           0.258065    0.850440   9.478006e+05   \n",
       "std      2.900956           0.437891    0.356901   3.713920e+05   \n",
       "min     25.000000           0.000000    0.000000   3.000000e+05   \n",
       "25%     28.000000           0.000000    1.000000   6.500000e+05   \n",
       "50%     29.000000           0.000000    1.000000   9.500000e+05   \n",
       "75%     32.000000           1.000000    1.000000   1.250000e+06   \n",
       "max     35.000000           1.000000    1.000000   1.800000e+06   \n",
       "\n",
       "       family_members  chronic_diseases  frequent_flyer  travelled_abroad  \\\n",
       "count      682.000000        682.000000      682.000000        682.000000   \n",
       "mean         4.835777          0.280059        0.211144          0.187683   \n",
       "std          1.622894          0.449357        0.408420          0.390746   \n",
       "min          2.000000          0.000000        0.000000          0.000000   \n",
       "25%          4.000000          0.000000        0.000000          0.000000   \n",
       "50%          5.000000          0.000000        0.000000          0.000000   \n",
       "75%          6.000000          1.000000        0.000000          0.000000   \n",
       "max          9.000000          1.000000        1.000000          1.000000   \n",
       "\n",
       "       travel_insurance  \n",
       "count        682.000000  \n",
       "mean           0.337243  \n",
       "std            0.473116  \n",
       "min            0.000000  \n",
       "25%            0.000000  \n",
       "50%            0.000000  \n",
       "75%            1.000000  \n",
       "max            1.000000  "
      ]
     },
     "execution_count": 7,
     "metadata": {},
     "output_type": "execute_result"
    }
   ],
   "source": [
    "df.describe()"
   ]
  },
  {
   "cell_type": "code",
   "execution_count": 8,
   "id": "7fbb216e",
   "metadata": {
    "scrolled": false
   },
   "outputs": [
    {
     "data": {
      "text/plain": [
       "age                  0\n",
       "gov_sector_worker    0\n",
       "graduated            0\n",
       "annual_income        0\n",
       "family_members       0\n",
       "chronic_diseases     0\n",
       "frequent_flyer       0\n",
       "travelled_abroad     0\n",
       "travel_insurance     0\n",
       "dtype: int64"
      ]
     },
     "execution_count": 8,
     "metadata": {},
     "output_type": "execute_result"
    }
   ],
   "source": [
    "df.isna().sum()"
   ]
  },
  {
   "cell_type": "markdown",
   "id": "172d92e4",
   "metadata": {},
   "source": [
    "Наличие выбросов:"
   ]
  },
  {
   "cell_type": "markdown",
   "id": "a686cd7e",
   "metadata": {},
   "source": [
    "несмотря на то, что у всех переменных целочисленный тип данных, не каждая переменная отражает одну суть, существуют количественные переменные как непрерывные, так и дискретные, и есть также номинативные"
   ]
  },
  {
   "cell_type": "code",
   "execution_count": 9,
   "id": "bf18ccba",
   "metadata": {},
   "outputs": [],
   "source": [
    "categorial = ['gov_sector_worker', 'graduated', 'chronic_diseases', 'frequent_flyer', 'travelled_abroad']\n",
    "numeric = ['age', 'annual_income', 'family_members']"
   ]
  },
  {
   "cell_type": "code",
   "execution_count": 10,
   "id": "000038a6",
   "metadata": {
    "scrolled": true
   },
   "outputs": [
    {
     "data": {
      "text/plain": [
       "<AxesSubplot:xlabel='family_members'>"
      ]
     },
     "execution_count": 10,
     "metadata": {},
     "output_type": "execute_result"
    },
    {
     "data": {
      "image/png": "[encoded data removed]",
      "text/plain": [
       "<Figure size 1440x360 with 3 Axes>"
      ]
     },
     "metadata": {
      "needs_background": "light"
     },
     "output_type": "display_data"
    }
   ],
   "source": [
    "fig, ax = plt.subplots(1,3, figsize=(20,5))\n",
    "\n",
    "sns.boxplot(data=df, x='age', ax=ax[0])\n",
    "sns.boxplot(data=df, x='annual_income', ax=ax[1])\n",
    "sns.boxplot(data=df, x='family_members', ax=ax[2])"
   ]
  },
  {
   "cell_type": "markdown",
   "id": "830d3116",
   "metadata": {},
   "source": [
    "из графиков видно, что выбросов нет"
   ]
  },
  {
   "cell_type": "markdown",
   "id": "e5635171",
   "metadata": {},
   "source": [
    "Процент людей, кто брал страховку"
   ]
  },
  {
   "cell_type": "code",
   "execution_count": 11,
   "id": "a985b032",
   "metadata": {
    "scrolled": false
   },
   "outputs": [
    {
     "data": {
      "text/plain": [
       "([<matplotlib.patches.Wedge at 0x20e000538b0>,\n",
       "  <matplotlib.patches.Wedge at 0x20e00064040>],\n",
       " [Text(-0.5382569390286421, 0.9593119761514065, '0'),\n",
       "  Text(0.5382570288459094, -0.9593119257561505, '1')],\n",
       " [Text(-0.29359469401562294, 0.5232610779007671, '66.28%'),\n",
       "  Text(0.29359474300685967, -0.5232610504124456, '33.72%')])"
      ]
     },
     "execution_count": 11,
     "metadata": {},
     "output_type": "execute_result"
    },
    {
     "data": {
      "image/png": "[encoded data removed]",
      "text/plain": [
       "<Figure size 432x288 with 1 Axes>"
      ]
     },
     "metadata": {},
     "output_type": "display_data"
    }
   ],
   "source": [
    "plt.pie(df['travel_insurance'].value_counts(), labels=df['travel_insurance'].value_counts().index, autopct='%.2f%%')"
   ]
  },
  {
   "cell_type": "markdown",
   "id": "b25ecdc2",
   "metadata": {},
   "source": [
    "дисбаланс классов хоть и есть, но он не является на столько существенным, чтобы применять методы для несбалансированных классов"
   ]
  },
  {
   "cell_type": "markdown",
   "id": "63da2300",
   "metadata": {},
   "source": [
    "Люди какого возраста больше всего брали страховку"
   ]
  },
  {
   "cell_type": "code",
   "execution_count": 12,
   "id": "df04a2d7",
   "metadata": {
    "scrolled": true
   },
   "outputs": [
    {
     "data": {
      "text/plain": [
       "<AxesSubplot:xlabel='age', ylabel='count'>"
      ]
     },
     "execution_count": 12,
     "metadata": {},
     "output_type": "execute_result"
    },
    {
     "data": {
      "image/png": "[encoded data removed]",
      "text/plain": [
       "<Figure size 432x288 with 1 Axes>"
      ]
     },
     "metadata": {
      "needs_background": "light"
     },
     "output_type": "display_data"
    }
   ],
   "source": [
    "sns.countplot(x=df[df['travel_insurance']==1]['age'], order=df[df['travel_insurance']==1]['age'].value_counts().index)"
   ]
  },
  {
   "cell_type": "markdown",
   "id": "237882da",
   "metadata": {},
   "source": [
    "Как распределен доход тех, кто брал страховку и кто не брал"
   ]
  },
  {
   "cell_type": "code",
   "execution_count": 13,
   "id": "b46cda6e",
   "metadata": {
    "scrolled": true
   },
   "outputs": [
    {
     "data": {
      "image/png": "[encoded data removed]",
      "text/plain": [
       "<Figure size 648x360 with 1 Axes>"
      ]
     },
     "metadata": {
      "needs_background": "light"
     },
     "output_type": "display_data"
    }
   ],
   "source": [
    "fig, ax = plt.subplots(figsize=(9,5))\n",
    "\n",
    "ax1 = sns.kdeplot(data=df[df['travel_insurance']==1], x='annual_income', label='With insurance', fill='full')\n",
    "ax2 = sns.kdeplot(data=df[df['travel_insurance']==0], x='annual_income', label='Without insurance', fill='full')\n",
    "\n",
    "ax = plt.grid()\n",
    "ax = plt.legend()"
   ]
  },
  {
   "cell_type": "markdown",
   "id": "b695b8f4",
   "metadata": {},
   "source": [
    "Процентное соотношение людей в зависимости от того были ли они заграницей и брали ли страховку"
   ]
  },
  {
   "cell_type": "code",
   "execution_count": 14,
   "id": "a719a902",
   "metadata": {
    "scrolled": true
   },
   "outputs": [
    {
     "data": {
      "text/plain": [
       "Text(0.5, 1.0, 'abroad=1   insurance=1')"
      ]
     },
     "execution_count": 14,
     "metadata": {},
     "output_type": "execute_result"
    },
    {
     "data": {
      "image/png": "[encoded data removed]",
      "text/plain": [
       "<Figure size 1296x720 with 4 Axes>"
      ]
     },
     "metadata": {},
     "output_type": "display_data"
    }
   ],
   "source": [
    "fig, ax = plt.subplots(1, 4, figsize=(18,10))\n",
    "\n",
    "ax[0].pie(((df['travelled_abroad']==0) & (df['travel_insurance']==0)).value_counts(), labels=((df['travelled_abroad']==0) & (df['travel_insurance']==0)).value_counts().index, autopct='%.2f%%')\n",
    "ax[1].pie(((df['travelled_abroad']==0) & (df['travel_insurance']==1)).value_counts(), labels=((df['travelled_abroad']==0) & (df['travel_insurance']==1)).value_counts().index, autopct='%.2f%%')\n",
    "ax[2].pie(((df['travelled_abroad']==1) & (df['travel_insurance']==0)).value_counts(), labels=((df['travelled_abroad']==1) & (df['travel_insurance']==0)).value_counts().index, autopct='%.2f%%')\n",
    "ax[3].pie(((df['travelled_abroad']==1) & (df['travel_insurance']==1)).value_counts(), labels=((df['travelled_abroad']==1) & (df['travel_insurance']==1)).value_counts().index, autopct='%.2f%%')\n",
    "\n",
    "ax[0].set_title('abroad=0   insurance=0')\n",
    "ax[1].set_title('abroad=0   insurance=1')\n",
    "ax[2].set_title('abroad=1   insurance=0')\n",
    "ax[3].set_title('abroad=1   insurance=1')"
   ]
  },
  {
   "cell_type": "markdown",
   "id": "98dcace7",
   "metadata": {},
   "source": [
    "Препроцессинг данных:"
   ]
  },
  {
   "cell_type": "code",
   "execution_count": 15,
   "id": "04a2d49e",
   "metadata": {},
   "outputs": [],
   "source": [
    "X = df.drop(columns='travel_insurance')\n",
    "y = df['travel_insurance']"
   ]
  },
  {
   "cell_type": "code",
   "execution_count": 16,
   "id": "10a6f213",
   "metadata": {},
   "outputs": [
    {
     "data": {
      "text/plain": [
       "((477, 8), (205, 8))"
      ]
     },
     "execution_count": 16,
     "metadata": {},
     "output_type": "execute_result"
    }
   ],
   "source": [
    "X_train, X_test, y_train, y_test = train_test_split(X, y, test_size=0.3, random_state=42)\n",
    "X_train.shape, X_test.shape"
   ]
  },
  {
   "cell_type": "markdown",
   "id": "9a5a7685",
   "metadata": {},
   "source": [
    "проверка на соотношение классов в обучающей и тестовой выборках"
   ]
  },
  {
   "cell_type": "code",
   "execution_count": 17,
   "id": "23a7731e",
   "metadata": {
    "scrolled": true
   },
   "outputs": [
    {
     "data": {
      "text/plain": [
       "0.31865828092243187"
      ]
     },
     "execution_count": 17,
     "metadata": {},
     "output_type": "execute_result"
    }
   ],
   "source": [
    "(y_train).sum()/(y_train).count()"
   ]
  },
  {
   "cell_type": "code",
   "execution_count": 18,
   "id": "ff61fc88",
   "metadata": {},
   "outputs": [
    {
     "data": {
      "text/plain": [
       "0.3804878048780488"
      ]
     },
     "execution_count": 18,
     "metadata": {},
     "output_type": "execute_result"
    }
   ],
   "source": [
    "(y_test).sum()/(y_test).count()"
   ]
  },
  {
   "cell_type": "markdown",
   "id": "20301955",
   "metadata": {},
   "source": [
    "как видно выше, соотношение можно считать схожим"
   ]
  },
  {
   "cell_type": "code",
   "execution_count": 19,
   "id": "1ba5394d",
   "metadata": {},
   "outputs": [],
   "source": [
    "cols = X_train.columns"
   ]
  },
  {
   "cell_type": "markdown",
   "id": "1bd9c145",
   "metadata": {},
   "source": [
    "данные выражены в разных единицах измерения, поэтому их нужно масштабировать"
   ]
  },
  {
   "cell_type": "code",
   "execution_count": 20,
   "id": "ae66671f",
   "metadata": {},
   "outputs": [],
   "source": [
    "scaler = StandardScaler()\n",
    "X_train = scaler.fit_transform(X_train)\n",
    "X_test = scaler.transform(X_test)"
   ]
  },
  {
   "cell_type": "code",
   "execution_count": 21,
   "id": "54c2d721",
   "metadata": {},
   "outputs": [],
   "source": [
    "X_train = pd.DataFrame(X_train, columns=cols)\n",
    "X_test = pd.DataFrame(X_test, columns=cols)"
   ]
  },
  {
   "cell_type": "markdown",
   "id": "9a7e7f49",
   "metadata": {},
   "source": [
    "Перед построением моделей можно посмотреть \"важность\" всех переменных методом главных компонент"
   ]
  },
  {
   "cell_type": "code",
   "execution_count": 22,
   "id": "c59ad173",
   "metadata": {
    "scrolled": false
   },
   "outputs": [
    {
     "data": {
      "image/png": "[encoded data removed]",
      "text/plain": [
       "<Figure size 432x288 with 1 Axes>"
      ]
     },
     "metadata": {
      "needs_background": "light"
     },
     "output_type": "display_data"
    }
   ],
   "source": [
    "pca_test = PCA(n_components=8)\n",
    "pca_test.fit(X_train)\n",
    "plt.plot(np.cumsum(pca_test.explained_variance_ratio_))\n",
    "plt.xlabel('number of components')\n",
    "plt.ylabel('cumulative explained variance')\n",
    "plt.grid()"
   ]
  },
  {
   "cell_type": "markdown",
   "id": "1a623092",
   "metadata": {},
   "source": [
    "Из графика видно, что кумулятивная сумма не выходит на асимптоту при имеющемся количестве переменных, хоть и ближе к концу видно затухание, следовательно, все переменные \"важны\", поэтому построение моделей будет с использованием всех переменных"
   ]
  },
  {
   "cell_type": "markdown",
   "id": "f18fef0c",
   "metadata": {},
   "source": [
    "### Логистическая регрессия:"
   ]
  },
  {
   "cell_type": "code",
   "execution_count": 23,
   "id": "f89469b6",
   "metadata": {},
   "outputs": [],
   "source": [
    "logist = LogisticRegression(random_state=42)\n",
    "logist.fit(X_train, y_train)\n",
    "\n",
    "y_logist = logist.predict(X_test)"
   ]
  },
  {
   "cell_type": "markdown",
   "id": "7dfa08cd",
   "metadata": {},
   "source": [
    "некоторые метрики качества для логистической регрессии"
   ]
  },
  {
   "cell_type": "code",
   "execution_count": 24,
   "id": "b205e342",
   "metadata": {
    "scrolled": false
   },
   "outputs": [
    {
     "data": {
      "text/plain": [
       "<AxesSubplot:>"
      ]
     },
     "execution_count": 24,
     "metadata": {},
     "output_type": "execute_result"
    },
    {
     "data": {
      "image/png": "[encoded data removed]",
      "text/plain": [
       "<Figure size 432x288 with 2 Axes>"
      ]
     },
     "metadata": {
      "needs_background": "light"
     },
     "output_type": "display_data"
    }
   ],
   "source": [
    "cm_logist = confusion_matrix(y_test, y_logist)\n",
    "\n",
    "cm_logist_matrix = pd.DataFrame(data=cm_logist, columns=['Actual 1', 'Actual 0'], \n",
    "                                                  index=['Predict 1', 'Predict 0'])\n",
    "\n",
    "sns.heatmap(cm_logist_matrix, annot=True, fmt='d')"
   ]
  },
  {
   "cell_type": "code",
   "execution_count": 25,
   "id": "26988596",
   "metadata": {
    "scrolled": false
   },
   "outputs": [
    {
     "name": "stderr",
     "output_type": "stream",
     "text": [
      "D:\\anaconda3\\lib\\site-packages\\sklearn\\utils\\deprecation.py:87: FutureWarning: Function plot_roc_curve is deprecated; Function :func:`plot_roc_curve` is deprecated in 1.0 and will be removed in 1.2. Use one of the class methods: :meth:`sklearn.metric.RocCurveDisplay.from_predictions` or :meth:`sklearn.metric.RocCurveDisplay.from_estimator`.\n",
      "  warnings.warn(msg, category=FutureWarning)\n"
     ]
    },
    {
     "data": {
      "text/plain": [
       "[<matplotlib.lines.Line2D at 0x20e01cd5ca0>]"
      ]
     },
     "execution_count": 25,
     "metadata": {},
     "output_type": "execute_result"
    },
    {
     "data": {
      "image/png": "[encoded data removed]",
      "text/plain": [
       "<Figure size 432x288 with 1 Axes>"
      ]
     },
     "metadata": {
      "needs_background": "light"
     },
     "output_type": "display_data"
    }
   ],
   "source": [
    "plot_roc_curve(logist, X_test, y_test)\n",
    "plt.plot([0,1],'--')"
   ]
  },
  {
   "cell_type": "markdown",
   "id": "dea6f7e8",
   "metadata": {},
   "source": [
    "вероятность быть первым классом (вероятность того, что клиент возьмет страховку) для первых 10 объектов"
   ]
  },
  {
   "cell_type": "code",
   "execution_count": 26,
   "id": "189abc69",
   "metadata": {
    "scrolled": true
   },
   "outputs": [
    {
     "data": {
      "text/plain": [
       "array([0.13055335, 0.30104973, 0.13340271, 0.80292352, 0.22463721,\n",
       "       0.27852818, 0.61540077, 0.47514745, 0.08856389, 0.29973746])"
      ]
     },
     "execution_count": 26,
     "metadata": {},
     "output_type": "execute_result"
    }
   ],
   "source": [
    "logist.predict_proba(X_test)[:10,1]"
   ]
  },
  {
   "cell_type": "markdown",
   "id": "6a891ab9",
   "metadata": {},
   "source": [
    "### KNN:"
   ]
  },
  {
   "cell_type": "markdown",
   "id": "13192afa",
   "metadata": {},
   "source": [
    "сначала построю модель со стандартными параметрами"
   ]
  },
  {
   "cell_type": "code",
   "execution_count": 27,
   "id": "f9cfb5b3",
   "metadata": {},
   "outputs": [],
   "source": [
    "knn = KNeighborsClassifier()\n",
    "knn.fit(X_train, y_train)\n",
    "\n",
    "y_knn = knn.predict(X_test)"
   ]
  },
  {
   "cell_type": "markdown",
   "id": "c37e6f0a",
   "metadata": {},
   "source": [
    "некоторые метрики качества для knn со стандартными параметрами"
   ]
  },
  {
   "cell_type": "code",
   "execution_count": 28,
   "id": "ec8d4826",
   "metadata": {
    "scrolled": true
   },
   "outputs": [
    {
     "data": {
      "text/plain": [
       "<AxesSubplot:>"
      ]
     },
     "execution_count": 28,
     "metadata": {},
     "output_type": "execute_result"
    },
    {
     "data": {
      "image/png": "[encoded data removed]",
      "text/plain": [
       "<Figure size 432x288 with 2 Axes>"
      ]
     },
     "metadata": {
      "needs_background": "light"
     },
     "output_type": "display_data"
    }
   ],
   "source": [
    "cm_knn = confusion_matrix(y_test, y_knn)\n",
    "\n",
    "cm_knn_matrix = pd.DataFrame(data=cm_knn, columns=['Actual 1', 'Actual 0'], \n",
    "                                            index=['Predict 1', 'Predict 0'])\n",
    "\n",
    "sns.heatmap(cm_knn_matrix, annot=True, fmt='d')"
   ]
  },
  {
   "cell_type": "code",
   "execution_count": 29,
   "id": "d7acbc97",
   "metadata": {},
   "outputs": [
    {
     "name": "stderr",
     "output_type": "stream",
     "text": [
      "D:\\anaconda3\\lib\\site-packages\\sklearn\\utils\\deprecation.py:87: FutureWarning: Function plot_roc_curve is deprecated; Function :func:`plot_roc_curve` is deprecated in 1.0 and will be removed in 1.2. Use one of the class methods: :meth:`sklearn.metric.RocCurveDisplay.from_predictions` or :meth:`sklearn.metric.RocCurveDisplay.from_estimator`.\n",
      "  warnings.warn(msg, category=FutureWarning)\n"
     ]
    },
    {
     "data": {
      "text/plain": [
       "[<matplotlib.lines.Line2D at 0x20e01dfe940>]"
      ]
     },
     "execution_count": 29,
     "metadata": {},
     "output_type": "execute_result"
    },
    {
     "data": {
      "image/png": "[encoded data removed]",
      "text/plain": [
       "<Figure size 432x288 with 1 Axes>"
      ]
     },
     "metadata": {
      "needs_background": "light"
     },
     "output_type": "display_data"
    }
   ],
   "source": [
    "plot_roc_curve(knn, X_test, y_test)\n",
    "plt.plot([0,1],'--')"
   ]
  },
  {
   "cell_type": "code",
   "execution_count": 30,
   "id": "c03599ec",
   "metadata": {
    "scrolled": true
   },
   "outputs": [
    {
     "data": {
      "text/plain": [
       "array([0.2, 0. , 0.2, 1. , 0.8, 0.2, 0.8, 0. , 0.2, 0.4])"
      ]
     },
     "execution_count": 30,
     "metadata": {},
     "output_type": "execute_result"
    }
   ],
   "source": [
    "knn.predict_proba(X_test)[:10,1]"
   ]
  },
  {
   "cell_type": "markdown",
   "id": "dd29e73a",
   "metadata": {},
   "source": [
    "Теперь оптимизирую гиперпараметры для модели knn:"
   ]
  },
  {
   "cell_type": "markdown",
   "id": "d1abb68d",
   "metadata": {},
   "source": [
    "для подсчета расстояния весов можно использовать другую функцию, т.к. по умолчанию стоит 1/distance (при этом если расстояние равно 0, то такому объекту дается вес равный 1), буду передавать ее для подбора параметров"
   ]
  },
  {
   "cell_type": "code",
   "execution_count": 31,
   "id": "307408f0",
   "metadata": {},
   "outputs": [],
   "source": [
    "def my_weight_dist(dists):\n",
    "    return 0.5 ** dists"
   ]
  },
  {
   "cell_type": "code",
   "execution_count": 32,
   "id": "ba59a080",
   "metadata": {},
   "outputs": [],
   "source": [
    "knn_params = {'n_neighbors':np.arange(2,16),\n",
    "             'weights':['uniform','distance', my_weight_dist]}"
   ]
  },
  {
   "cell_type": "code",
   "execution_count": 33,
   "id": "d0e162b5",
   "metadata": {},
   "outputs": [
    {
     "data": {
      "text/plain": [
       "{'n_neighbors': 15, 'weights': <function __main__.my_weight_dist(dists)>}"
      ]
     },
     "execution_count": 33,
     "metadata": {},
     "output_type": "execute_result"
    }
   ],
   "source": [
    "rs_knn = GridSearchCV(knn, \n",
    "                      param_grid=knn_params, \n",
    "                      cv=3)\n",
    "rs_knn.fit(X_train, y_train)\n",
    "rs_knn.best_params_"
   ]
  },
  {
   "cell_type": "code",
   "execution_count": 34,
   "id": "c17ca250",
   "metadata": {},
   "outputs": [],
   "source": [
    "best_knn = rs_knn.best_estimator_\n",
    "y_best_knn = best_knn.predict(X_test)"
   ]
  },
  {
   "cell_type": "markdown",
   "id": "d2c6c519",
   "metadata": {},
   "source": [
    "некоторые метрики качества для knn с оптимизированными параметрами"
   ]
  },
  {
   "cell_type": "code",
   "execution_count": 35,
   "id": "32e02826",
   "metadata": {
    "scrolled": false
   },
   "outputs": [
    {
     "data": {
      "text/plain": [
       "<AxesSubplot:>"
      ]
     },
     "execution_count": 35,
     "metadata": {},
     "output_type": "execute_result"
    },
    {
     "data": {
      "image/png": "[encoded data removed]",
      "text/plain": [
       "<Figure size 432x288 with 2 Axes>"
      ]
     },
     "metadata": {
      "needs_background": "light"
     },
     "output_type": "display_data"
    }
   ],
   "source": [
    "cm_best_knn = confusion_matrix(y_test, y_best_knn)\n",
    "\n",
    "cm_best_knn_matrix = pd.DataFrame(data=cm_best_knn, columns=['Actual 1', 'Actual 0'], \n",
    "                                                      index=['Predict 1', 'Predict 0'])\n",
    "\n",
    "sns.heatmap(cm_best_knn_matrix, annot=True, fmt='d')"
   ]
  },
  {
   "cell_type": "code",
   "execution_count": 36,
   "id": "2f60b199",
   "metadata": {
    "scrolled": false
   },
   "outputs": [
    {
     "name": "stderr",
     "output_type": "stream",
     "text": [
      "D:\\anaconda3\\lib\\site-packages\\sklearn\\utils\\deprecation.py:87: FutureWarning: Function plot_roc_curve is deprecated; Function :func:`plot_roc_curve` is deprecated in 1.0 and will be removed in 1.2. Use one of the class methods: :meth:`sklearn.metric.RocCurveDisplay.from_predictions` or :meth:`sklearn.metric.RocCurveDisplay.from_estimator`.\n",
      "  warnings.warn(msg, category=FutureWarning)\n"
     ]
    },
    {
     "data": {
      "text/plain": [
       "[<matplotlib.lines.Line2D at 0x20e01f26430>]"
      ]
     },
     "execution_count": 36,
     "metadata": {},
     "output_type": "execute_result"
    },
    {
     "data": {
      "image/png": "[encoded data removed]",
      "text/plain": [
       "<Figure size 432x288 with 1 Axes>"
      ]
     },
     "metadata": {
      "needs_background": "light"
     },
     "output_type": "display_data"
    }
   ],
   "source": [
    "plot_roc_curve(best_knn, X_test, y_test)\n",
    "plt.plot([0,1],'--')"
   ]
  },
  {
   "cell_type": "code",
   "execution_count": 37,
   "id": "e6c59eea",
   "metadata": {
    "scrolled": false
   },
   "outputs": [
    {
     "data": {
      "text/plain": [
       "array([0.26240531, 0.24864299, 0.08848721, 0.70351734, 0.5006231 ,\n",
       "       0.19116537, 0.74745098, 0.18227709, 0.07546534, 0.18737236])"
      ]
     },
     "execution_count": 37,
     "metadata": {},
     "output_type": "execute_result"
    }
   ],
   "source": [
    "best_knn.predict_proba(X_test)[:10,1]"
   ]
  },
  {
   "cell_type": "markdown",
   "id": "0f24a3e6",
   "metadata": {},
   "source": [
    "### Random Forest:"
   ]
  },
  {
   "cell_type": "markdown",
   "id": "8f085fa9",
   "metadata": {},
   "source": [
    "сначала построю модель со стандартными параметрами"
   ]
  },
  {
   "cell_type": "code",
   "execution_count": 38,
   "id": "bc1f0380",
   "metadata": {},
   "outputs": [],
   "source": [
    "forest = RandomForestClassifier(random_state=42)\n",
    "forest.fit(X_train, y_train)\n",
    "\n",
    "y_forest = forest.predict(X_test)"
   ]
  },
  {
   "cell_type": "markdown",
   "id": "d00e33bb",
   "metadata": {},
   "source": [
    "некоторые метрики качества для леса со стандартными параметрами"
   ]
  },
  {
   "cell_type": "code",
   "execution_count": 39,
   "id": "c7f50d53",
   "metadata": {
    "scrolled": true
   },
   "outputs": [
    {
     "data": {
      "text/plain": [
       "<AxesSubplot:>"
      ]
     },
     "execution_count": 39,
     "metadata": {},
     "output_type": "execute_result"
    },
    {
     "data": {
      "image/png": "[encoded data removed]",
      "text/plain": [
       "<Figure size 432x288 with 2 Axes>"
      ]
     },
     "metadata": {
      "needs_background": "light"
     },
     "output_type": "display_data"
    }
   ],
   "source": [
    "cm_forest = confusion_matrix(y_test, y_forest)\n",
    "\n",
    "cm_forest_matrix = pd.DataFrame(data=cm_forest, columns=['Actual 1', 'Actual 0'], \n",
    "                                                  index=['Predict 1', 'Predict 0'])\n",
    "\n",
    "sns.heatmap(cm_forest_matrix, annot=True, fmt='d')"
   ]
  },
  {
   "cell_type": "code",
   "execution_count": 40,
   "id": "cdc27aaa",
   "metadata": {
    "scrolled": false
   },
   "outputs": [
    {
     "name": "stderr",
     "output_type": "stream",
     "text": [
      "D:\\anaconda3\\lib\\site-packages\\sklearn\\utils\\deprecation.py:87: FutureWarning: Function plot_roc_curve is deprecated; Function :func:`plot_roc_curve` is deprecated in 1.0 and will be removed in 1.2. Use one of the class methods: :meth:`sklearn.metric.RocCurveDisplay.from_predictions` or :meth:`sklearn.metric.RocCurveDisplay.from_estimator`.\n",
      "  warnings.warn(msg, category=FutureWarning)\n"
     ]
    },
    {
     "data": {
      "text/plain": [
       "[<matplotlib.lines.Line2D at 0x20e02042a90>]"
      ]
     },
     "execution_count": 40,
     "metadata": {},
     "output_type": "execute_result"
    },
    {
     "data": {
      "image/png": "[encoded data removed]",
      "text/plain": [
       "<Figure size 432x288 with 1 Axes>"
      ]
     },
     "metadata": {
      "needs_background": "light"
     },
     "output_type": "display_data"
    }
   ],
   "source": [
    "plot_roc_curve(forest, X_test, y_test)\n",
    "plt.plot([0,1],'--')"
   ]
  },
  {
   "cell_type": "code",
   "execution_count": 41,
   "id": "19d3a886",
   "metadata": {
    "scrolled": true
   },
   "outputs": [
    {
     "data": {
      "text/plain": [
       "array([0.19369048, 0.3       , 0.20866667, 0.66      , 0.57      ,\n",
       "       0.16630952, 0.93      , 0.19      , 0.04      , 0.0685    ])"
      ]
     },
     "execution_count": 41,
     "metadata": {},
     "output_type": "execute_result"
    }
   ],
   "source": [
    "forest.predict_proba(X_test)[:10,1]"
   ]
  },
  {
   "cell_type": "markdown",
   "id": "37165b42",
   "metadata": {},
   "source": [
    "Теперь оптимизирую гиперпараметры для random forest"
   ]
  },
  {
   "cell_type": "code",
   "execution_count": 42,
   "id": "4684a494",
   "metadata": {},
   "outputs": [],
   "source": [
    "forest_params = {'n_estimators': np.arange(50,401,50),\n",
    "                'criterion':['gini', 'entropy'],\n",
    "                'max_depth':np.arange(2,6),\n",
    "                'min_samples_split':np.arange(2,11),\n",
    "                'min_samples_leaf':np.arange(2,11)}"
   ]
  },
  {
   "cell_type": "code",
   "execution_count": 43,
   "id": "493025c5",
   "metadata": {},
   "outputs": [
    {
     "data": {
      "text/plain": [
       "{'n_estimators': 200,\n",
       " 'min_samples_split': 10,\n",
       " 'min_samples_leaf': 2,\n",
       " 'max_depth': 5,\n",
       " 'criterion': 'gini'}"
      ]
     },
     "execution_count": 43,
     "metadata": {},
     "output_type": "execute_result"
    }
   ],
   "source": [
    "rs_forest = RandomizedSearchCV(forest, \n",
    "                               param_distributions=forest_params, \n",
    "                               cv=3, \n",
    "                               n_iter=100, \n",
    "                               random_state=42)\n",
    "rs_forest.fit(X_train, y_train)\n",
    "rs_forest.best_params_"
   ]
  },
  {
   "cell_type": "code",
   "execution_count": 44,
   "id": "1e4a1e4b",
   "metadata": {},
   "outputs": [],
   "source": [
    "rs_forest_df = pd.DataFrame(rs_forest.cv_results_).sort_values('rank_test_score')[['param_n_estimators',\n",
    "                                                                    'param_criterion',\n",
    "                                                                    'param_max_depth',\n",
    "                                                                    'param_min_samples_split',\n",
    "                                                                    'param_min_samples_leaf',\n",
    "                                                                    'mean_test_score',\n",
    "                                                                    'rank_test_score']]"
   ]
  },
  {
   "cell_type": "code",
   "execution_count": 45,
   "id": "219fa91d",
   "metadata": {
    "scrolled": false
   },
   "outputs": [
    {
     "data": {
      "text/html": [
       "<div>\n",
       "<style scoped>\n",
       "    .dataframe tbody tr th:only-of-type {\n",
       "        vertical-align: middle;\n",
       "    }\n",
       "\n",
       "    .dataframe tbody tr th {\n",
       "        vertical-align: top;\n",
       "    }\n",
       "\n",
       "    .dataframe thead th {\n",
       "        text-align: right;\n",
       "    }\n",
       "</style>\n",
       "<table border=\"1\" class=\"dataframe\">\n",
       "  <thead>\n",
       "    <tr style=\"text-align: right;\">\n",
       "      <th></th>\n",
       "      <th>param_n_estimators</th>\n",
       "      <th>param_criterion</th>\n",
       "      <th>param_max_depth</th>\n",
       "      <th>param_min_samples_split</th>\n",
       "      <th>param_min_samples_leaf</th>\n",
       "      <th>mean_test_score</th>\n",
       "      <th>rank_test_score</th>\n",
       "    </tr>\n",
       "  </thead>\n",
       "  <tbody>\n",
       "    <tr>\n",
       "      <th>22</th>\n",
       "      <td>200</td>\n",
       "      <td>gini</td>\n",
       "      <td>5</td>\n",
       "      <td>10</td>\n",
       "      <td>2</td>\n",
       "      <td>0.823899</td>\n",
       "      <td>1</td>\n",
       "    </tr>\n",
       "    <tr>\n",
       "      <th>23</th>\n",
       "      <td>250</td>\n",
       "      <td>entropy</td>\n",
       "      <td>5</td>\n",
       "      <td>9</td>\n",
       "      <td>2</td>\n",
       "      <td>0.821803</td>\n",
       "      <td>2</td>\n",
       "    </tr>\n",
       "    <tr>\n",
       "      <th>52</th>\n",
       "      <td>200</td>\n",
       "      <td>entropy</td>\n",
       "      <td>5</td>\n",
       "      <td>3</td>\n",
       "      <td>2</td>\n",
       "      <td>0.819706</td>\n",
       "      <td>3</td>\n",
       "    </tr>\n",
       "    <tr>\n",
       "      <th>0</th>\n",
       "      <td>400</td>\n",
       "      <td>entropy</td>\n",
       "      <td>5</td>\n",
       "      <td>10</td>\n",
       "      <td>3</td>\n",
       "      <td>0.817610</td>\n",
       "      <td>4</td>\n",
       "    </tr>\n",
       "    <tr>\n",
       "      <th>7</th>\n",
       "      <td>50</td>\n",
       "      <td>entropy</td>\n",
       "      <td>4</td>\n",
       "      <td>7</td>\n",
       "      <td>4</td>\n",
       "      <td>0.817610</td>\n",
       "      <td>4</td>\n",
       "    </tr>\n",
       "  </tbody>\n",
       "</table>\n",
       "</div>"
      ],
      "text/plain": [
       "   param_n_estimators param_criterion param_max_depth param_min_samples_split  \\\n",
       "22                200            gini               5                      10   \n",
       "23                250         entropy               5                       9   \n",
       "52                200         entropy               5                       3   \n",
       "0                 400         entropy               5                      10   \n",
       "7                  50         entropy               4                       7   \n",
       "\n",
       "   param_min_samples_leaf  mean_test_score  rank_test_score  \n",
       "22                      2         0.823899                1  \n",
       "23                      2         0.821803                2  \n",
       "52                      2         0.819706                3  \n",
       "0                       3         0.817610                4  \n",
       "7                       4         0.817610                4  "
      ]
     },
     "execution_count": 45,
     "metadata": {},
     "output_type": "execute_result"
    }
   ],
   "source": [
    "rs_forest_df.head()"
   ]
  },
  {
   "cell_type": "code",
   "execution_count": 46,
   "id": "41623251",
   "metadata": {
    "scrolled": false
   },
   "outputs": [
    {
     "data": {
      "image/png": "[encoded data removed]",
      "text/plain": [
       "<Figure size 1368x864 with 6 Axes>"
      ]
     },
     "metadata": {
      "needs_background": "light"
     },
     "output_type": "display_data"
    }
   ],
   "source": [
    "fig, ax = plt.subplots(2,3, figsize=(19,12))\n",
    "\n",
    "sns.barplot(data=rs_forest_df, x='param_n_estimators', y='mean_test_score', color='#c23434', ax=ax[0,0])\n",
    "sns.barplot(data=rs_forest_df, x='param_criterion', y='mean_test_score', color='#c27934', ax=ax[0,1])\n",
    "sns.barplot(data=rs_forest_df, x='param_max_depth', y='mean_test_score', color='#b634c2', ax=ax[0,2])\n",
    "sns.barplot(data=rs_forest_df, x='param_min_samples_split', y='mean_test_score', color='#4034c2', ax=ax[1,0])\n",
    "sns.barplot(data=rs_forest_df, x='param_min_samples_leaf', y='mean_test_score', color='#34c26d', ax=ax[1,1])\n",
    "\n",
    "for axis in ax.ravel():\n",
    "    axis.set_ylim([0.8,0.817])\n",
    "    axis.grid(axis='y', linewidth=0.5)\n",
    "\n",
    "ax[1,2].set_visible(False)"
   ]
  },
  {
   "cell_type": "code",
   "execution_count": 47,
   "id": "2a3afbbe",
   "metadata": {},
   "outputs": [],
   "source": [
    "best_forest = rs_forest.best_estimator_\n",
    "y_best_forest = best_forest.predict(X_test)"
   ]
  },
  {
   "cell_type": "markdown",
   "id": "c30201e1",
   "metadata": {},
   "source": [
    "некоторые метрики качества для леса с лучшими параметрами, но без oob_score"
   ]
  },
  {
   "cell_type": "code",
   "execution_count": 48,
   "id": "69aa5bcd",
   "metadata": {
    "scrolled": false
   },
   "outputs": [
    {
     "data": {
      "text/plain": [
       "<AxesSubplot:>"
      ]
     },
     "execution_count": 48,
     "metadata": {},
     "output_type": "execute_result"
    },
    {
     "data": {
      "image/png": "[encoded data removed]",
      "text/plain": [
       "<Figure size 432x288 with 2 Axes>"
      ]
     },
     "metadata": {
      "needs_background": "light"
     },
     "output_type": "display_data"
    }
   ],
   "source": [
    "cm_best_forest = confusion_matrix(y_test, y_best_forest)\n",
    "\n",
    "cm_best_forest_matrix = pd.DataFrame(data=cm_best_forest, columns=['Actual 1', 'Actual 0'], \n",
    "                                                  index=['Predict 1', 'Predict 0'])\n",
    "\n",
    "sns.heatmap(cm_best_forest_matrix, annot=True, fmt='d')"
   ]
  },
  {
   "cell_type": "code",
   "execution_count": 49,
   "id": "fe64e2ef",
   "metadata": {
    "scrolled": false
   },
   "outputs": [
    {
     "name": "stderr",
     "output_type": "stream",
     "text": [
      "D:\\anaconda3\\lib\\site-packages\\sklearn\\utils\\deprecation.py:87: FutureWarning: Function plot_roc_curve is deprecated; Function :func:`plot_roc_curve` is deprecated in 1.0 and will be removed in 1.2. Use one of the class methods: :meth:`sklearn.metric.RocCurveDisplay.from_predictions` or :meth:`sklearn.metric.RocCurveDisplay.from_estimator`.\n",
      "  warnings.warn(msg, category=FutureWarning)\n"
     ]
    },
    {
     "data": {
      "text/plain": [
       "[<matplotlib.lines.Line2D at 0x20e0239ed60>]"
      ]
     },
     "execution_count": 49,
     "metadata": {},
     "output_type": "execute_result"
    },
    {
     "data": {
      "image/png": "[encoded data removed]",
      "text/plain": [
       "<Figure size 432x288 with 1 Axes>"
      ]
     },
     "metadata": {
      "needs_background": "light"
     },
     "output_type": "display_data"
    }
   ],
   "source": [
    "plot_roc_curve(best_forest, X_test, y_test)\n",
    "plt.plot([0,1],'--')"
   ]
  },
  {
   "cell_type": "code",
   "execution_count": 50,
   "id": "ff712552",
   "metadata": {
    "scrolled": true
   },
   "outputs": [
    {
     "data": {
      "text/plain": [
       "array([0.16221945, 0.20203127, 0.13569712, 0.61855249, 0.4580548 ,\n",
       "       0.20111085, 0.8213055 , 0.20424754, 0.15742661, 0.18181999])"
      ]
     },
     "execution_count": 50,
     "metadata": {},
     "output_type": "execute_result"
    }
   ],
   "source": [
    "best_forest.predict_proba(X_test)[:10,1]"
   ]
  },
  {
   "cell_type": "markdown",
   "id": "88d6449c",
   "metadata": {},
   "source": [
    "Теперь оптимизирую random forest с параметром oob_score, который можно считать как бы аналогом кросс-валидации"
   ]
  },
  {
   "cell_type": "code",
   "execution_count": 51,
   "id": "fa135e67",
   "metadata": {},
   "outputs": [],
   "source": [
    "forest_params_oob = {'n_estimators': np.arange(50,401,50),\n",
    "                'criterion':['gini', 'entropy'],\n",
    "                'max_depth':np.arange(2,6),\n",
    "                'min_samples_split':np.arange(2,11),\n",
    "                'min_samples_leaf':np.arange(2,11),\n",
    "                'oob_score':[True, False]}"
   ]
  },
  {
   "cell_type": "code",
   "execution_count": 52,
   "id": "28dca7ef",
   "metadata": {},
   "outputs": [
    {
     "data": {
      "text/plain": [
       "{'oob_score': True,\n",
       " 'n_estimators': 100,\n",
       " 'min_samples_split': 2,\n",
       " 'min_samples_leaf': 2,\n",
       " 'max_depth': 5,\n",
       " 'criterion': 'gini'}"
      ]
     },
     "execution_count": 52,
     "metadata": {},
     "output_type": "execute_result"
    }
   ],
   "source": [
    "rs_forest_oob = RandomizedSearchCV(forest, \n",
    "                               param_distributions=forest_params_oob, \n",
    "                               cv=3, \n",
    "                               n_iter=100, \n",
    "                               random_state=42)\n",
    "rs_forest_oob.fit(X_train, y_train)\n",
    "rs_forest_oob.best_params_"
   ]
  },
  {
   "cell_type": "code",
   "execution_count": 53,
   "id": "6b33f129",
   "metadata": {},
   "outputs": [],
   "source": [
    "rs_forest_df_oob = pd.DataFrame(rs_forest_oob.cv_results_).sort_values('rank_test_score')[['param_n_estimators',\n",
    "                                                                    'param_criterion',\n",
    "                                                                    'param_max_depth',\n",
    "                                                                    'param_min_samples_split',\n",
    "                                                                    'param_min_samples_leaf',\n",
    "                                                                    'param_oob_score',\n",
    "                                                                    'mean_test_score',\n",
    "                                                                    'rank_test_score']]"
   ]
  },
  {
   "cell_type": "code",
   "execution_count": 54,
   "id": "c6550d96",
   "metadata": {
    "scrolled": true
   },
   "outputs": [
    {
     "data": {
      "text/html": [
       "<div>\n",
       "<style scoped>\n",
       "    .dataframe tbody tr th:only-of-type {\n",
       "        vertical-align: middle;\n",
       "    }\n",
       "\n",
       "    .dataframe tbody tr th {\n",
       "        vertical-align: top;\n",
       "    }\n",
       "\n",
       "    .dataframe thead th {\n",
       "        text-align: right;\n",
       "    }\n",
       "</style>\n",
       "<table border=\"1\" class=\"dataframe\">\n",
       "  <thead>\n",
       "    <tr style=\"text-align: right;\">\n",
       "      <th></th>\n",
       "      <th>param_n_estimators</th>\n",
       "      <th>param_criterion</th>\n",
       "      <th>param_max_depth</th>\n",
       "      <th>param_min_samples_split</th>\n",
       "      <th>param_min_samples_leaf</th>\n",
       "      <th>param_oob_score</th>\n",
       "      <th>mean_test_score</th>\n",
       "      <th>rank_test_score</th>\n",
       "    </tr>\n",
       "  </thead>\n",
       "  <tbody>\n",
       "    <tr>\n",
       "      <th>38</th>\n",
       "      <td>100</td>\n",
       "      <td>gini</td>\n",
       "      <td>5</td>\n",
       "      <td>2</td>\n",
       "      <td>2</td>\n",
       "      <td>True</td>\n",
       "      <td>0.823899</td>\n",
       "      <td>1</td>\n",
       "    </tr>\n",
       "    <tr>\n",
       "      <th>27</th>\n",
       "      <td>400</td>\n",
       "      <td>entropy</td>\n",
       "      <td>5</td>\n",
       "      <td>7</td>\n",
       "      <td>2</td>\n",
       "      <td>False</td>\n",
       "      <td>0.819706</td>\n",
       "      <td>2</td>\n",
       "    </tr>\n",
       "    <tr>\n",
       "      <th>58</th>\n",
       "      <td>200</td>\n",
       "      <td>gini</td>\n",
       "      <td>5</td>\n",
       "      <td>5</td>\n",
       "      <td>2</td>\n",
       "      <td>False</td>\n",
       "      <td>0.819706</td>\n",
       "      <td>2</td>\n",
       "    </tr>\n",
       "    <tr>\n",
       "      <th>54</th>\n",
       "      <td>100</td>\n",
       "      <td>entropy</td>\n",
       "      <td>4</td>\n",
       "      <td>3</td>\n",
       "      <td>5</td>\n",
       "      <td>True</td>\n",
       "      <td>0.817610</td>\n",
       "      <td>4</td>\n",
       "    </tr>\n",
       "    <tr>\n",
       "      <th>95</th>\n",
       "      <td>200</td>\n",
       "      <td>gini</td>\n",
       "      <td>4</td>\n",
       "      <td>8</td>\n",
       "      <td>2</td>\n",
       "      <td>False</td>\n",
       "      <td>0.817610</td>\n",
       "      <td>4</td>\n",
       "    </tr>\n",
       "  </tbody>\n",
       "</table>\n",
       "</div>"
      ],
      "text/plain": [
       "   param_n_estimators param_criterion param_max_depth param_min_samples_split  \\\n",
       "38                100            gini               5                       2   \n",
       "27                400         entropy               5                       7   \n",
       "58                200            gini               5                       5   \n",
       "54                100         entropy               4                       3   \n",
       "95                200            gini               4                       8   \n",
       "\n",
       "   param_min_samples_leaf param_oob_score  mean_test_score  rank_test_score  \n",
       "38                      2            True         0.823899                1  \n",
       "27                      2           False         0.819706                2  \n",
       "58                      2           False         0.819706                2  \n",
       "54                      5            True         0.817610                4  \n",
       "95                      2           False         0.817610                4  "
      ]
     },
     "execution_count": 54,
     "metadata": {},
     "output_type": "execute_result"
    }
   ],
   "source": [
    "rs_forest_df_oob.head()"
   ]
  },
  {
   "cell_type": "code",
   "execution_count": 55,
   "id": "8934b247",
   "metadata": {},
   "outputs": [
    {
     "data": {
      "image/png": "[encoded data removed]",
      "text/plain": [
       "<Figure size 1368x864 with 6 Axes>"
      ]
     },
     "metadata": {
      "needs_background": "light"
     },
     "output_type": "display_data"
    }
   ],
   "source": [
    "fig, ax = plt.subplots(2,3, figsize=(19,12))\n",
    "\n",
    "sns.barplot(data=rs_forest_df_oob, x='param_n_estimators', y='mean_test_score', color='#c23434', ax=ax[0,0])\n",
    "sns.barplot(data=rs_forest_df_oob, x='param_criterion', y='mean_test_score', color='#c27934', ax=ax[0,1])\n",
    "sns.barplot(data=rs_forest_df_oob, x='param_max_depth', y='mean_test_score', color='#b634c2', ax=ax[0,2])\n",
    "sns.barplot(data=rs_forest_df_oob, x='param_min_samples_split', y='mean_test_score', color='#4034c2', ax=ax[1,0])\n",
    "sns.barplot(data=rs_forest_df_oob, x='param_min_samples_leaf', y='mean_test_score', color='#34c26d', ax=ax[1,1])\n",
    "sns.barplot(data=rs_forest_df_oob, x='param_oob_score', y='mean_test_score', color='#bfc234', ax=ax[1,2])\n",
    "\n",
    "for axis in ax.ravel():\n",
    "    axis.set_ylim([0.8,0.817])\n",
    "    axis.grid(axis='y', linewidth=0.5)"
   ]
  },
  {
   "cell_type": "code",
   "execution_count": 56,
   "id": "b18bd5d6",
   "metadata": {},
   "outputs": [],
   "source": [
    "best_forest_oob = rs_forest_oob.best_estimator_\n",
    "y_best_forest_oob = best_forest_oob.predict(X_test)"
   ]
  },
  {
   "cell_type": "markdown",
   "id": "b8d59b34",
   "metadata": {},
   "source": [
    "некоторые метрики качества для леса с лучшими параметрами с oob_score"
   ]
  },
  {
   "cell_type": "code",
   "execution_count": 57,
   "id": "50d0aeaf",
   "metadata": {
    "scrolled": false
   },
   "outputs": [
    {
     "data": {
      "text/plain": [
       "<AxesSubplot:>"
      ]
     },
     "execution_count": 57,
     "metadata": {},
     "output_type": "execute_result"
    },
    {
     "data": {
      "image/png": "[encoded data removed]",
      "text/plain": [
       "<Figure size 432x288 with 2 Axes>"
      ]
     },
     "metadata": {
      "needs_background": "light"
     },
     "output_type": "display_data"
    }
   ],
   "source": [
    "cm_best_forest_oob = confusion_matrix(y_test, y_best_forest_oob)\n",
    "\n",
    "cm_best_forest_oob_matrix = pd.DataFrame(data=cm_best_forest_oob, columns=['Actual 1', 'Actual 0'], \n",
    "                                                  index=['Predict 1', 'Predict 0'])\n",
    "\n",
    "sns.heatmap(cm_best_forest_oob_matrix, annot=True, fmt='d')"
   ]
  },
  {
   "cell_type": "code",
   "execution_count": 58,
   "id": "74a1b065",
   "metadata": {
    "scrolled": false
   },
   "outputs": [
    {
     "name": "stderr",
     "output_type": "stream",
     "text": [
      "D:\\anaconda3\\lib\\site-packages\\sklearn\\utils\\deprecation.py:87: FutureWarning: Function plot_roc_curve is deprecated; Function :func:`plot_roc_curve` is deprecated in 1.0 and will be removed in 1.2. Use one of the class methods: :meth:`sklearn.metric.RocCurveDisplay.from_predictions` or :meth:`sklearn.metric.RocCurveDisplay.from_estimator`.\n",
      "  warnings.warn(msg, category=FutureWarning)\n"
     ]
    },
    {
     "data": {
      "text/plain": [
       "[<matplotlib.lines.Line2D at 0x20e02b35280>]"
      ]
     },
     "execution_count": 58,
     "metadata": {},
     "output_type": "execute_result"
    },
    {
     "data": {
      "image/png": "[encoded data removed]",
      "text/plain": [
       "<Figure size 432x288 with 1 Axes>"
      ]
     },
     "metadata": {
      "needs_background": "light"
     },
     "output_type": "display_data"
    }
   ],
   "source": [
    "plot_roc_curve(best_forest_oob, X_test, y_test)\n",
    "plt.plot([0,1],'--')"
   ]
  },
  {
   "cell_type": "code",
   "execution_count": 59,
   "id": "155ebf78",
   "metadata": {
    "scrolled": false
   },
   "outputs": [
    {
     "data": {
      "text/plain": [
       "array([0.1701527 , 0.22022977, 0.12991355, 0.60099394, 0.46788038,\n",
       "       0.21674702, 0.83888276, 0.20719194, 0.14845929, 0.1808202 ])"
      ]
     },
     "execution_count": 59,
     "metadata": {},
     "output_type": "execute_result"
    }
   ],
   "source": [
    "best_forest_oob.predict_proba(X_test)[:10,1]"
   ]
  },
  {
   "cell_type": "markdown",
   "id": "d71d9f95",
   "metadata": {},
   "source": [
    "можно посмотреть в скольких объектах лес с oob параметром и лес без него дали разные предсказания"
   ]
  },
  {
   "cell_type": "code",
   "execution_count": 60,
   "id": "160e41b9",
   "metadata": {},
   "outputs": [
    {
     "data": {
      "text/plain": [
       "2"
      ]
     },
     "execution_count": 60,
     "metadata": {},
     "output_type": "execute_result"
    }
   ],
   "source": [
    "sum((y_best_forest==y_best_forest_oob)==False)"
   ]
  },
  {
   "cell_type": "markdown",
   "id": "3cd680ec",
   "metadata": {},
   "source": [
    "судя по этому числу, можно сказать, что используя oob, разница в предсказаниях небольшая"
   ]
  },
  {
   "cell_type": "markdown",
   "id": "9906acda",
   "metadata": {},
   "source": [
    "Хотя уже и ясно, что все параметры важны, можно посмотреть в какой степени этот параметр важен.  \n",
    "Сделаю это для каждого леса"
   ]
  },
  {
   "cell_type": "code",
   "execution_count": 61,
   "id": "6bbfdd54",
   "metadata": {
    "scrolled": false
   },
   "outputs": [],
   "source": [
    "forest_importances = pd.DataFrame({'feature':X_test.columns,\n",
    "                                   'gini_importance_forest':forest.feature_importances_}) \\\n",
    "                                   .sort_values('gini_importance_forest', ascending=False)\n",
    "\n",
    "best_forest_importances = pd.DataFrame({'feature':X_test.columns,\n",
    "                                        'gini_importance_best_forest':best_forest.feature_importances_}) \\\n",
    "                                        .sort_values('gini_importance_best_forest', ascending=False)\n",
    "\n",
    "best_forest_oob_importances = pd.DataFrame({'feature':X_test.columns,\n",
    "                                            'gini_importance_best_forest_oob':best_forest_oob.feature_importances_}) \\\n",
    "                                            .sort_values('gini_importance_best_forest_oob', ascending=False)"
   ]
  },
  {
   "cell_type": "code",
   "execution_count": 62,
   "id": "d3f7f413",
   "metadata": {},
   "outputs": [],
   "source": [
    "all_importances = forest_importances.merge(best_forest_importances).merge(best_forest_oob_importances)"
   ]
  },
  {
   "cell_type": "code",
   "execution_count": 63,
   "id": "9db13922",
   "metadata": {},
   "outputs": [
    {
     "data": {
      "text/html": [
       "<div>\n",
       "<style scoped>\n",
       "    .dataframe tbody tr th:only-of-type {\n",
       "        vertical-align: middle;\n",
       "    }\n",
       "\n",
       "    .dataframe tbody tr th {\n",
       "        vertical-align: top;\n",
       "    }\n",
       "\n",
       "    .dataframe thead th {\n",
       "        text-align: right;\n",
       "    }\n",
       "</style>\n",
       "<table border=\"1\" class=\"dataframe\">\n",
       "  <thead>\n",
       "    <tr style=\"text-align: right;\">\n",
       "      <th></th>\n",
       "      <th>feature</th>\n",
       "      <th>gini_importance_forest</th>\n",
       "      <th>gini_importance_best_forest</th>\n",
       "      <th>gini_importance_best_forest_oob</th>\n",
       "    </tr>\n",
       "  </thead>\n",
       "  <tbody>\n",
       "    <tr>\n",
       "      <th>0</th>\n",
       "      <td>annual_income</td>\n",
       "      <td>0.417929</td>\n",
       "      <td>0.459750</td>\n",
       "      <td>0.488500</td>\n",
       "    </tr>\n",
       "    <tr>\n",
       "      <th>1</th>\n",
       "      <td>family_members</td>\n",
       "      <td>0.191798</td>\n",
       "      <td>0.089209</td>\n",
       "      <td>0.098105</td>\n",
       "    </tr>\n",
       "    <tr>\n",
       "      <th>2</th>\n",
       "      <td>age</td>\n",
       "      <td>0.185966</td>\n",
       "      <td>0.152829</td>\n",
       "      <td>0.149730</td>\n",
       "    </tr>\n",
       "    <tr>\n",
       "      <th>3</th>\n",
       "      <td>travelled_abroad</td>\n",
       "      <td>0.084259</td>\n",
       "      <td>0.197004</td>\n",
       "      <td>0.168479</td>\n",
       "    </tr>\n",
       "    <tr>\n",
       "      <th>4</th>\n",
       "      <td>chronic_diseases</td>\n",
       "      <td>0.037636</td>\n",
       "      <td>0.020210</td>\n",
       "      <td>0.016727</td>\n",
       "    </tr>\n",
       "    <tr>\n",
       "      <th>5</th>\n",
       "      <td>frequent_flyer</td>\n",
       "      <td>0.034577</td>\n",
       "      <td>0.035755</td>\n",
       "      <td>0.033300</td>\n",
       "    </tr>\n",
       "    <tr>\n",
       "      <th>6</th>\n",
       "      <td>gov_sector_worker</td>\n",
       "      <td>0.026189</td>\n",
       "      <td>0.027697</td>\n",
       "      <td>0.025219</td>\n",
       "    </tr>\n",
       "    <tr>\n",
       "      <th>7</th>\n",
       "      <td>graduated</td>\n",
       "      <td>0.021645</td>\n",
       "      <td>0.017545</td>\n",
       "      <td>0.019940</td>\n",
       "    </tr>\n",
       "  </tbody>\n",
       "</table>\n",
       "</div>"
      ],
      "text/plain": [
       "             feature  gini_importance_forest  gini_importance_best_forest  \\\n",
       "0      annual_income                0.417929                     0.459750   \n",
       "1     family_members                0.191798                     0.089209   \n",
       "2                age                0.185966                     0.152829   \n",
       "3   travelled_abroad                0.084259                     0.197004   \n",
       "4   chronic_diseases                0.037636                     0.020210   \n",
       "5     frequent_flyer                0.034577                     0.035755   \n",
       "6  gov_sector_worker                0.026189                     0.027697   \n",
       "7          graduated                0.021645                     0.017545   \n",
       "\n",
       "   gini_importance_best_forest_oob  \n",
       "0                         0.488500  \n",
       "1                         0.098105  \n",
       "2                         0.149730  \n",
       "3                         0.168479  \n",
       "4                         0.016727  \n",
       "5                         0.033300  \n",
       "6                         0.025219  \n",
       "7                         0.019940  "
      ]
     },
     "execution_count": 63,
     "metadata": {},
     "output_type": "execute_result"
    }
   ],
   "source": [
    "all_importances"
   ]
  },
  {
   "cell_type": "code",
   "execution_count": 64,
   "id": "80eb1d55",
   "metadata": {},
   "outputs": [],
   "source": [
    "all_importances_melted = pd.melt(all_importances, \n",
    "                                 id_vars='feature', \n",
    "                                 value_vars=['gini_importance_forest',\n",
    "                                             'gini_importance_best_forest',\n",
    "                                             'gini_importance_best_forest_oob']) \\\n",
    "                                 .rename(columns={'variable':'type'})"
   ]
  },
  {
   "cell_type": "code",
   "execution_count": 65,
   "id": "c1870da0",
   "metadata": {
    "scrolled": false
   },
   "outputs": [
    {
     "data": {
      "image/png": "[encoded data removed]",
      "text/plain": [
       "<Figure size 1080x504 with 1 Axes>"
      ]
     },
     "metadata": {
      "needs_background": "light"
     },
     "output_type": "display_data"
    }
   ],
   "source": [
    "fig, ax = plt.subplots(figsize=(15,7))\n",
    "\n",
    "ax = sns.barplot(data=all_importances_melted, x='feature', y='value', hue='type')"
   ]
  },
  {
   "cell_type": "markdown",
   "id": "c733754b",
   "metadata": {},
   "source": [
    "Также для грубой оценки важности признаков можно использовать коэффициенты логистической регрессии"
   ]
  },
  {
   "cell_type": "code",
   "execution_count": 66,
   "id": "2366f015",
   "metadata": {},
   "outputs": [],
   "source": [
    "logist_importances = pd.DataFrame({'feature':X_test.columns,\n",
    "                                   'importance':logist.coef_[0]}) \\\n",
    "                                   .sort_values('importance', ascending=False)"
   ]
  },
  {
   "cell_type": "code",
   "execution_count": 67,
   "id": "3088756c",
   "metadata": {},
   "outputs": [
    {
     "data": {
      "image/png": "[encoded data removed]",
      "text/plain": [
       "<Figure size 1080x360 with 1 Axes>"
      ]
     },
     "metadata": {
      "needs_background": "light"
     },
     "output_type": "display_data"
    }
   ],
   "source": [
    "fig, ax = plt.subplots(figsize=(15,5))\n",
    "\n",
    "ax = sns.barplot(data=logist_importances, x='feature', y='importance')"
   ]
  },
  {
   "cell_type": "markdown",
   "id": "56a71e56",
   "metadata": {},
   "source": [
    "Атрибуты 'важности' признаков как для логистической регрессии, так и для случайного леса говорят об этой самой 'важности' признаков для модели в целом. Для модели knn таких атрибутов не существует, для нее можно узнать 'важность' лишь для предсказываемых значений"
   ]
  },
  {
   "cell_type": "code",
   "execution_count": 68,
   "id": "655fb0d8",
   "metadata": {
    "scrolled": true
   },
   "outputs": [
    {
     "data": {
      "text/html": [
       "<div>\n",
       "<style scoped>\n",
       "    .dataframe tbody tr th:only-of-type {\n",
       "        vertical-align: middle;\n",
       "    }\n",
       "\n",
       "    .dataframe tbody tr th {\n",
       "        vertical-align: top;\n",
       "    }\n",
       "\n",
       "    .dataframe thead th {\n",
       "        text-align: right;\n",
       "    }\n",
       "</style>\n",
       "<table border=\"1\" class=\"dataframe\">\n",
       "  <thead>\n",
       "    <tr style=\"text-align: right;\">\n",
       "      <th></th>\n",
       "      <th>model</th>\n",
       "      <th>accuracy</th>\n",
       "      <th>precision</th>\n",
       "      <th>recall</th>\n",
       "      <th>f1_score</th>\n",
       "      <th>roc_auc</th>\n",
       "    </tr>\n",
       "  </thead>\n",
       "  <tbody>\n",
       "    <tr>\n",
       "      <th>0</th>\n",
       "      <td>logist</td>\n",
       "      <td>0.765854</td>\n",
       "      <td>0.840909</td>\n",
       "      <td>0.474359</td>\n",
       "      <td>0.606557</td>\n",
       "      <td>0.709620</td>\n",
       "    </tr>\n",
       "    <tr>\n",
       "      <th>1</th>\n",
       "      <td>knn</td>\n",
       "      <td>0.760976</td>\n",
       "      <td>0.763636</td>\n",
       "      <td>0.538462</td>\n",
       "      <td>0.631579</td>\n",
       "      <td>0.718050</td>\n",
       "    </tr>\n",
       "    <tr>\n",
       "      <th>2</th>\n",
       "      <td>best_knn</td>\n",
       "      <td>0.751220</td>\n",
       "      <td>0.800000</td>\n",
       "      <td>0.461538</td>\n",
       "      <td>0.585366</td>\n",
       "      <td>0.695336</td>\n",
       "    </tr>\n",
       "    <tr>\n",
       "      <th>3</th>\n",
       "      <td>forest</td>\n",
       "      <td>0.760976</td>\n",
       "      <td>0.723077</td>\n",
       "      <td>0.602564</td>\n",
       "      <td>0.657343</td>\n",
       "      <td>0.730416</td>\n",
       "    </tr>\n",
       "    <tr>\n",
       "      <th>4</th>\n",
       "      <td>best_forest</td>\n",
       "      <td>0.804878</td>\n",
       "      <td>0.913043</td>\n",
       "      <td>0.538462</td>\n",
       "      <td>0.677419</td>\n",
       "      <td>0.753483</td>\n",
       "    </tr>\n",
       "    <tr>\n",
       "      <th>5</th>\n",
       "      <td>best_forest_oob</td>\n",
       "      <td>0.795122</td>\n",
       "      <td>0.909091</td>\n",
       "      <td>0.512821</td>\n",
       "      <td>0.655738</td>\n",
       "      <td>0.740662</td>\n",
       "    </tr>\n",
       "  </tbody>\n",
       "</table>\n",
       "</div>"
      ],
      "text/plain": [
       "             model  accuracy  precision    recall  f1_score   roc_auc\n",
       "0           logist  0.765854   0.840909  0.474359  0.606557  0.709620\n",
       "1              knn  0.760976   0.763636  0.538462  0.631579  0.718050\n",
       "2         best_knn  0.751220   0.800000  0.461538  0.585366  0.695336\n",
       "3           forest  0.760976   0.723077  0.602564  0.657343  0.730416\n",
       "4      best_forest  0.804878   0.913043  0.538462  0.677419  0.753483\n",
       "5  best_forest_oob  0.795122   0.909091  0.512821  0.655738  0.740662"
      ]
     },
     "execution_count": 68,
     "metadata": {},
     "output_type": "execute_result"
    }
   ],
   "source": [
    "all_metrics = pd.DataFrame({'model':['logist','knn','best_knn','forest','best_forest','best_forest_oob'],\n",
    "             'accuracy':[accuracy_score(y_test,y_logist),\n",
    "                        accuracy_score(y_test,y_knn),\n",
    "                        accuracy_score(y_test,y_best_knn),\n",
    "                        accuracy_score(y_test,y_forest),\n",
    "                        accuracy_score(y_test,y_best_forest),\n",
    "                        accuracy_score(y_test,y_best_forest_oob)],\n",
    "             'precision':[precision_score(y_test,y_logist),\n",
    "                         precision_score(y_test,y_knn),\n",
    "                         precision_score(y_test,y_best_knn),\n",
    "                         precision_score(y_test,y_forest),\n",
    "                         precision_score(y_test,y_best_forest),\n",
    "                         precision_score(y_test,y_best_forest_oob)],\n",
    "             'recall':[recall_score(y_test,y_logist),\n",
    "                      recall_score(y_test,y_knn),\n",
    "                      recall_score(y_test,y_best_knn),\n",
    "                      recall_score(y_test,y_forest),\n",
    "                      recall_score(y_test,y_best_forest),\n",
    "                      recall_score(y_test,y_best_forest_oob)],\n",
    "             'f1_score':[f1_score(y_test,y_logist),\n",
    "                        f1_score(y_test,y_knn),\n",
    "                        f1_score(y_test,y_best_knn),\n",
    "                        f1_score(y_test,y_forest),\n",
    "                        f1_score(y_test,y_best_forest),\n",
    "                        f1_score(y_test,y_best_forest_oob)],\n",
    "             'roc_auc':[roc_auc_score(y_test,y_logist),\n",
    "                       roc_auc_score(y_test,y_knn),\n",
    "                       roc_auc_score(y_test,y_best_knn),\n",
    "                       roc_auc_score(y_test,y_forest),\n",
    "                       roc_auc_score(y_test,y_best_forest),\n",
    "                       roc_auc_score(y_test,y_best_forest_oob)]})\n",
    "all_metrics"
   ]
  },
  {
   "cell_type": "markdown",
   "id": "cd1f2286",
   "metadata": {},
   "source": [
    "В данной задаче можно считать, что в равной степени важны как ложные срабатывания, так и ложные пропуски, поэтому буду выбирать лучшую модель по метрике roc-auc"
   ]
  },
  {
   "cell_type": "markdown",
   "id": "5a3b8915",
   "metadata": {},
   "source": [
    "Для прогнозирования выбираю модель с максимальным roc-auc - это модель best_forest"
   ]
  },
  {
   "cell_type": "code",
   "execution_count": 69,
   "id": "c3190119",
   "metadata": {},
   "outputs": [],
   "source": [
    "df_new = pd.read_csv('Travel Company New Clients.csv', sep=';')"
   ]
  },
  {
   "cell_type": "code",
   "execution_count": 70,
   "id": "75ef0c99",
   "metadata": {},
   "outputs": [
    {
     "data": {
      "text/html": [
       "<div>\n",
       "<style scoped>\n",
       "    .dataframe tbody tr th:only-of-type {\n",
       "        vertical-align: middle;\n",
       "    }\n",
       "\n",
       "    .dataframe tbody tr th {\n",
       "        vertical-align: top;\n",
       "    }\n",
       "\n",
       "    .dataframe thead th {\n",
       "        text-align: right;\n",
       "    }\n",
       "</style>\n",
       "<table border=\"1\" class=\"dataframe\">\n",
       "  <thead>\n",
       "    <tr style=\"text-align: right;\">\n",
       "      <th></th>\n",
       "      <th>Age</th>\n",
       "      <th>Government Sector Worker</th>\n",
       "      <th>GraduateOrNot</th>\n",
       "      <th>AnnualIncome</th>\n",
       "      <th>FamilyMembers</th>\n",
       "      <th>ChronicDiseases</th>\n",
       "      <th>FrequentFlyer</th>\n",
       "      <th>EverTravelledAbroad</th>\n",
       "    </tr>\n",
       "  </thead>\n",
       "  <tbody>\n",
       "    <tr>\n",
       "      <th>0</th>\n",
       "      <td>25</td>\n",
       "      <td>0</td>\n",
       "      <td>0</td>\n",
       "      <td>1150000</td>\n",
       "      <td>4</td>\n",
       "      <td>0</td>\n",
       "      <td>0</td>\n",
       "      <td>0</td>\n",
       "    </tr>\n",
       "    <tr>\n",
       "      <th>1</th>\n",
       "      <td>34</td>\n",
       "      <td>0</td>\n",
       "      <td>1</td>\n",
       "      <td>1500000</td>\n",
       "      <td>4</td>\n",
       "      <td>1</td>\n",
       "      <td>1</td>\n",
       "      <td>1</td>\n",
       "    </tr>\n",
       "    <tr>\n",
       "      <th>2</th>\n",
       "      <td>33</td>\n",
       "      <td>0</td>\n",
       "      <td>1</td>\n",
       "      <td>1500000</td>\n",
       "      <td>3</td>\n",
       "      <td>0</td>\n",
       "      <td>1</td>\n",
       "      <td>1</td>\n",
       "    </tr>\n",
       "    <tr>\n",
       "      <th>3</th>\n",
       "      <td>28</td>\n",
       "      <td>0</td>\n",
       "      <td>1</td>\n",
       "      <td>1150000</td>\n",
       "      <td>3</td>\n",
       "      <td>0</td>\n",
       "      <td>0</td>\n",
       "      <td>0</td>\n",
       "    </tr>\n",
       "    <tr>\n",
       "      <th>4</th>\n",
       "      <td>33</td>\n",
       "      <td>1</td>\n",
       "      <td>1</td>\n",
       "      <td>400000</td>\n",
       "      <td>5</td>\n",
       "      <td>1</td>\n",
       "      <td>0</td>\n",
       "      <td>0</td>\n",
       "    </tr>\n",
       "    <tr>\n",
       "      <th>...</th>\n",
       "      <td>...</td>\n",
       "      <td>...</td>\n",
       "      <td>...</td>\n",
       "      <td>...</td>\n",
       "      <td>...</td>\n",
       "      <td>...</td>\n",
       "      <td>...</td>\n",
       "      <td>...</td>\n",
       "    </tr>\n",
       "    <tr>\n",
       "      <th>1298</th>\n",
       "      <td>33</td>\n",
       "      <td>0</td>\n",
       "      <td>1</td>\n",
       "      <td>1500000</td>\n",
       "      <td>4</td>\n",
       "      <td>0</td>\n",
       "      <td>1</td>\n",
       "      <td>1</td>\n",
       "    </tr>\n",
       "    <tr>\n",
       "      <th>1299</th>\n",
       "      <td>28</td>\n",
       "      <td>0</td>\n",
       "      <td>1</td>\n",
       "      <td>1750000</td>\n",
       "      <td>5</td>\n",
       "      <td>1</td>\n",
       "      <td>0</td>\n",
       "      <td>1</td>\n",
       "    </tr>\n",
       "    <tr>\n",
       "      <th>1300</th>\n",
       "      <td>28</td>\n",
       "      <td>0</td>\n",
       "      <td>1</td>\n",
       "      <td>1150000</td>\n",
       "      <td>6</td>\n",
       "      <td>1</td>\n",
       "      <td>0</td>\n",
       "      <td>0</td>\n",
       "    </tr>\n",
       "    <tr>\n",
       "      <th>1301</th>\n",
       "      <td>34</td>\n",
       "      <td>0</td>\n",
       "      <td>1</td>\n",
       "      <td>1000000</td>\n",
       "      <td>6</td>\n",
       "      <td>0</td>\n",
       "      <td>1</td>\n",
       "      <td>1</td>\n",
       "    </tr>\n",
       "    <tr>\n",
       "      <th>1302</th>\n",
       "      <td>34</td>\n",
       "      <td>0</td>\n",
       "      <td>1</td>\n",
       "      <td>500000</td>\n",
       "      <td>4</td>\n",
       "      <td>0</td>\n",
       "      <td>0</td>\n",
       "      <td>0</td>\n",
       "    </tr>\n",
       "  </tbody>\n",
       "</table>\n",
       "<p>1303 rows × 8 columns</p>\n",
       "</div>"
      ],
      "text/plain": [
       "      Age  Government Sector Worker  GraduateOrNot  AnnualIncome  \\\n",
       "0      25                         0              0       1150000   \n",
       "1      34                         0              1       1500000   \n",
       "2      33                         0              1       1500000   \n",
       "3      28                         0              1       1150000   \n",
       "4      33                         1              1        400000   \n",
       "...   ...                       ...            ...           ...   \n",
       "1298   33                         0              1       1500000   \n",
       "1299   28                         0              1       1750000   \n",
       "1300   28                         0              1       1150000   \n",
       "1301   34                         0              1       1000000   \n",
       "1302   34                         0              1        500000   \n",
       "\n",
       "      FamilyMembers  ChronicDiseases  FrequentFlyer  EverTravelledAbroad  \n",
       "0                 4                0              0                    0  \n",
       "1                 4                1              1                    1  \n",
       "2                 3                0              1                    1  \n",
       "3                 3                0              0                    0  \n",
       "4                 5                1              0                    0  \n",
       "...             ...              ...            ...                  ...  \n",
       "1298              4                0              1                    1  \n",
       "1299              5                1              0                    1  \n",
       "1300              6                1              0                    0  \n",
       "1301              6                0              1                    1  \n",
       "1302              4                0              0                    0  \n",
       "\n",
       "[1303 rows x 8 columns]"
      ]
     },
     "execution_count": 70,
     "metadata": {},
     "output_type": "execute_result"
    }
   ],
   "source": [
    "df_new"
   ]
  },
  {
   "cell_type": "code",
   "execution_count": 71,
   "id": "0ff68c66",
   "metadata": {},
   "outputs": [],
   "source": [
    "df_new.rename(columns={'Age':'age',\n",
    "                  'Government Sector Worker':'gov_sector_worker',\n",
    "                  'GraduateOrNot':'graduated',\n",
    "                  'AnnualIncome':'annual_income',\n",
    "                  'FamilyMembers': 'family_members',\n",
    "                  'ChronicDiseases': 'chronic_diseases',\n",
    "                  'FrequentFlyer': 'frequent_flyer',\n",
    "                  'EverTravelledAbroad': 'travelled_abroad',\n",
    "                  'TravelInsurance': 'travel_insurance'}, inplace=True)"
   ]
  },
  {
   "cell_type": "code",
   "execution_count": 72,
   "id": "3d744aca",
   "metadata": {},
   "outputs": [
    {
     "name": "stdout",
     "output_type": "stream",
     "text": [
      "<class 'pandas.core.frame.DataFrame'>\n",
      "RangeIndex: 1303 entries, 0 to 1302\n",
      "Data columns (total 8 columns):\n",
      " #   Column             Non-Null Count  Dtype\n",
      "---  ------             --------------  -----\n",
      " 0   age                1303 non-null   int64\n",
      " 1   gov_sector_worker  1303 non-null   int64\n",
      " 2   graduated          1303 non-null   int64\n",
      " 3   annual_income      1303 non-null   int64\n",
      " 4   family_members     1303 non-null   int64\n",
      " 5   chronic_diseases   1303 non-null   int64\n",
      " 6   frequent_flyer     1303 non-null   int64\n",
      " 7   travelled_abroad   1303 non-null   int64\n",
      "dtypes: int64(8)\n",
      "memory usage: 81.6 KB\n"
     ]
    }
   ],
   "source": [
    "df_new.info()"
   ]
  },
  {
   "cell_type": "markdown",
   "id": "b140d95a",
   "metadata": {},
   "source": [
    "Проверка на наличие выбросов"
   ]
  },
  {
   "cell_type": "code",
   "execution_count": 73,
   "id": "c3286c8a",
   "metadata": {
    "scrolled": true
   },
   "outputs": [
    {
     "data": {
      "text/plain": [
       "age                  0\n",
       "gov_sector_worker    0\n",
       "graduated            0\n",
       "annual_income        0\n",
       "family_members       0\n",
       "chronic_diseases     0\n",
       "frequent_flyer       0\n",
       "travelled_abroad     0\n",
       "dtype: int64"
      ]
     },
     "execution_count": 73,
     "metadata": {},
     "output_type": "execute_result"
    }
   ],
   "source": [
    "df_new.isna().sum()"
   ]
  },
  {
   "cell_type": "markdown",
   "id": "49ac0d33",
   "metadata": {},
   "source": [
    "Сделаю копию данных, т.к. при стандартизации данные приводятся в тип float, при обратной стандартизации этот тип данных сохраняется, а если приводить его к изначальному типу данных (int), то могут быть потери в данных"
   ]
  },
  {
   "cell_type": "code",
   "execution_count": 74,
   "id": "5e6943c2",
   "metadata": {},
   "outputs": [],
   "source": [
    "df_new_copy = df_new.copy()"
   ]
  },
  {
   "cell_type": "code",
   "execution_count": 75,
   "id": "2b1d3c0d",
   "metadata": {},
   "outputs": [],
   "source": [
    "cols_new = df_new_copy.columns"
   ]
  },
  {
   "cell_type": "markdown",
   "id": "b3b5f9cb",
   "metadata": {},
   "source": [
    "Теперь буду масштабировать копию данных и на них делать предсказание"
   ]
  },
  {
   "cell_type": "code",
   "execution_count": 76,
   "id": "4239dd45",
   "metadata": {},
   "outputs": [],
   "source": [
    "df_new_scaled = pd.DataFrame(scaler.transform(df_new_copy), columns=cols)"
   ]
  },
  {
   "cell_type": "code",
   "execution_count": 77,
   "id": "8624545f",
   "metadata": {},
   "outputs": [],
   "source": [
    "predictions_new_clients = best_forest.predict(df_new_scaled)"
   ]
  },
  {
   "cell_type": "markdown",
   "id": "c6ec500a",
   "metadata": {},
   "source": [
    "А добавлять предсказания я буду в оригинальный датафрейм"
   ]
  },
  {
   "cell_type": "code",
   "execution_count": 78,
   "id": "6396bf27",
   "metadata": {},
   "outputs": [],
   "source": [
    "df_new['predicted_travel_insurance'] = predictions_new_clients"
   ]
  },
  {
   "cell_type": "markdown",
   "id": "eec17895",
   "metadata": {},
   "source": [
    "Сохраню файл для последующего построения дэшборда"
   ]
  },
  {
   "cell_type": "code",
   "execution_count": 79,
   "id": "2729082b",
   "metadata": {},
   "outputs": [],
   "source": [
    "# df_new.to_excel('predictions_for_new_clients.xlsx')"
   ]
  }
 ],
 "metadata": {
  "kernelspec": {
   "display_name": "Python 3 (ipykernel)",
   "language": "python",
   "name": "python3"
  },
  "language_info": {
   "codemirror_mode": {
    "name": "ipython",
    "version": 3
   },
   "file_extension": ".py",
   "mimetype": "text/x-python",
   "name": "python",
   "nbconvert_exporter": "python",
   "pygments_lexer": "ipython3",
   "version": "3.9.12"
  }
 },
 "nbformat": 4,
 "nbformat_minor": 5
}
