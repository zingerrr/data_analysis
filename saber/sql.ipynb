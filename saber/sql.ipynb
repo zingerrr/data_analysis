{
 "cells": [
  {
   "cell_type": "code",
   "execution_count": 1,
   "id": "4263bb81",
   "metadata": {},
   "outputs": [],
   "source": [
    "import sqlite3\n",
    "import pandas as pd"
   ]
  },
  {
   "cell_type": "code",
   "execution_count": 2,
   "id": "b3b1bc0c",
   "metadata": {},
   "outputs": [],
   "source": [
    "db = sqlite3.connect('issues.db')\n",
    "cur = db.cursor()"
   ]
  },
  {
   "cell_type": "code",
   "execution_count": 3,
   "id": "eae67332",
   "metadata": {},
   "outputs": [],
   "source": [
    "T = '2020-10-10'"
   ]
  },
  {
   "cell_type": "markdown",
   "id": "3e654c8a",
   "metadata": {},
   "source": [
    "1 вариант"
   ]
  },
  {
   "cell_type": "code",
   "execution_count": 4,
   "id": "96a053af",
   "metadata": {
    "scrolled": false
   },
   "outputs": [],
   "source": [
    "col1 = pd.Series([], dtype='object')\n",
    "col2 = pd.Series([], dtype='object')\n",
    "col3 = pd.Series([], dtype='object')"
   ]
  },
  {
   "cell_type": "code",
   "execution_count": 5,
   "id": "0b6bb3d2",
   "metadata": {
    "scrolled": true
   },
   "outputs": [],
   "source": [
    "cur.execute(\"\"\"select issue_key,\n",
    "                    min(datetime(status_begin/1000, 'unixepoch')) as start_time,\n",
    "                    status\n",
    "             from history\n",
    "             where date(:T) between datetime(status_begin/1000, 'unixepoch') and datetime(status_end/1000, 'unixepoch') and\n",
    "                   status not in ('Closed', 'Resolved')\n",
    "             group by issue_key\"\"\", (T,))\n",
    "for row in cur.fetchall():\n",
    "    col1 = pd.concat([col1, pd.Series(row[0])])\n",
    "    col2 = pd.concat([col2, pd.Series(row[1])])\n",
    "    col3 = pd.concat([col3, pd.Series(row[2])])\n",
    "#     col1 = col1.append(pd.Series(row[0]))\n",
    "#     col2 = col2.append(pd.Series(row[1]))\n",
    "#     col3 = col3.append(pd.Series(row[2])) появляется future warning"
   ]
  },
  {
   "cell_type": "code",
   "execution_count": 6,
   "id": "e3c87440",
   "metadata": {
    "scrolled": false
   },
   "outputs": [],
   "source": [
    "df = pd.DataFrame({'issue_key':col1.reset_index(drop=True),\n",
    "             'start_time':col2.reset_index(drop=True),\n",
    "             'status':col3.reset_index(drop=True)})"
   ]
  },
  {
   "cell_type": "code",
   "execution_count": 7,
   "id": "05842117",
   "metadata": {},
   "outputs": [
    {
     "name": "stdout",
     "output_type": "stream",
     "text": [
      "<class 'pandas.core.frame.DataFrame'>\n",
      "RangeIndex: 29 entries, 0 to 28\n",
      "Data columns (total 3 columns):\n",
      " #   Column      Non-Null Count  Dtype \n",
      "---  ------      --------------  ----- \n",
      " 0   issue_key   29 non-null     object\n",
      " 1   start_time  29 non-null     object\n",
      " 2   status      29 non-null     object\n",
      "dtypes: object(3)\n",
      "memory usage: 824.0+ bytes\n"
     ]
    }
   ],
   "source": [
    "df.info()"
   ]
  },
  {
   "cell_type": "code",
   "execution_count": 8,
   "id": "a89ce93d",
   "metadata": {},
   "outputs": [],
   "source": [
    "df['start_time'] = pd.to_datetime(df['start_time']).dt.tz_localize(None)"
   ]
  },
  {
   "cell_type": "code",
   "execution_count": 9,
   "id": "8fd711af",
   "metadata": {
    "scrolled": true
   },
   "outputs": [
    {
     "name": "stdout",
     "output_type": "stream",
     "text": [
      "<class 'pandas.core.frame.DataFrame'>\n",
      "RangeIndex: 29 entries, 0 to 28\n",
      "Data columns (total 3 columns):\n",
      " #   Column      Non-Null Count  Dtype         \n",
      "---  ------      --------------  -----         \n",
      " 0   issue_key   29 non-null     object        \n",
      " 1   start_time  29 non-null     datetime64[ns]\n",
      " 2   status      29 non-null     object        \n",
      "dtypes: datetime64[ns](1), object(2)\n",
      "memory usage: 824.0+ bytes\n"
     ]
    }
   ],
   "source": [
    "df.info()"
   ]
  },
  {
   "cell_type": "code",
   "execution_count": 10,
   "id": "b3cc32c4",
   "metadata": {},
   "outputs": [
    {
     "data": {
      "text/html": [
       "<div>\n",
       "<style scoped>\n",
       "    .dataframe tbody tr th:only-of-type {\n",
       "        vertical-align: middle;\n",
       "    }\n",
       "\n",
       "    .dataframe tbody tr th {\n",
       "        vertical-align: top;\n",
       "    }\n",
       "\n",
       "    .dataframe thead th {\n",
       "        text-align: right;\n",
       "    }\n",
       "</style>\n",
       "<table border=\"1\" class=\"dataframe\">\n",
       "  <thead>\n",
       "    <tr style=\"text-align: right;\">\n",
       "      <th></th>\n",
       "      <th>issue_key</th>\n",
       "      <th>start_time</th>\n",
       "      <th>status</th>\n",
       "    </tr>\n",
       "  </thead>\n",
       "  <tbody>\n",
       "    <tr>\n",
       "      <th>0</th>\n",
       "      <td>A-20577</td>\n",
       "      <td>2019-11-05 09:33:48</td>\n",
       "      <td>Open</td>\n",
       "    </tr>\n",
       "    <tr>\n",
       "      <th>1</th>\n",
       "      <td>A-25044</td>\n",
       "      <td>2020-07-13 13:44:24</td>\n",
       "      <td>Open</td>\n",
       "    </tr>\n",
       "    <tr>\n",
       "      <th>2</th>\n",
       "      <td>A-26168</td>\n",
       "      <td>2020-09-24 16:47:05</td>\n",
       "      <td>In Review</td>\n",
       "    </tr>\n",
       "    <tr>\n",
       "      <th>3</th>\n",
       "      <td>A-26389</td>\n",
       "      <td>2020-09-23 09:35:04</td>\n",
       "      <td>Open</td>\n",
       "    </tr>\n",
       "    <tr>\n",
       "      <th>4</th>\n",
       "      <td>A-26485</td>\n",
       "      <td>2020-10-07 13:27:25</td>\n",
       "      <td>In Owl</td>\n",
       "    </tr>\n",
       "    <tr>\n",
       "      <th>5</th>\n",
       "      <td>A-26500</td>\n",
       "      <td>2020-10-07 13:27:25</td>\n",
       "      <td>Waiting for integration</td>\n",
       "    </tr>\n",
       "    <tr>\n",
       "      <th>6</th>\n",
       "      <td>A-26604</td>\n",
       "      <td>2020-10-01 13:15:06</td>\n",
       "      <td>Open</td>\n",
       "    </tr>\n",
       "    <tr>\n",
       "      <th>7</th>\n",
       "      <td>A-26627</td>\n",
       "      <td>2020-10-02 11:00:14</td>\n",
       "      <td>In Progress</td>\n",
       "    </tr>\n",
       "    <tr>\n",
       "      <th>8</th>\n",
       "      <td>A-26681</td>\n",
       "      <td>2020-10-07 13:46:48</td>\n",
       "      <td>Waiting for integration</td>\n",
       "    </tr>\n",
       "    <tr>\n",
       "      <th>9</th>\n",
       "      <td>A-26683</td>\n",
       "      <td>2020-10-06 11:29:04</td>\n",
       "      <td>Blocked</td>\n",
       "    </tr>\n",
       "    <tr>\n",
       "      <th>10</th>\n",
       "      <td>A-26711</td>\n",
       "      <td>2020-10-09 09:59:17</td>\n",
       "      <td>In Testing</td>\n",
       "    </tr>\n",
       "    <tr>\n",
       "      <th>11</th>\n",
       "      <td>A-26717</td>\n",
       "      <td>2020-10-08 13:34:52</td>\n",
       "      <td>Waiting for integration</td>\n",
       "    </tr>\n",
       "    <tr>\n",
       "      <th>12</th>\n",
       "      <td>A-26783</td>\n",
       "      <td>2020-10-08 14:15:15</td>\n",
       "      <td>In Testing</td>\n",
       "    </tr>\n",
       "    <tr>\n",
       "      <th>13</th>\n",
       "      <td>A-26809</td>\n",
       "      <td>2020-10-09 15:01:50</td>\n",
       "      <td>Waiting for integration</td>\n",
       "    </tr>\n",
       "    <tr>\n",
       "      <th>14</th>\n",
       "      <td>A-26814</td>\n",
       "      <td>2020-10-09 11:25:44</td>\n",
       "      <td>In Progress</td>\n",
       "    </tr>\n",
       "    <tr>\n",
       "      <th>15</th>\n",
       "      <td>A-26845</td>\n",
       "      <td>2020-10-09 10:29:42</td>\n",
       "      <td>Open</td>\n",
       "    </tr>\n",
       "    <tr>\n",
       "      <th>16</th>\n",
       "      <td>C-6951</td>\n",
       "      <td>2020-10-08 12:25:46</td>\n",
       "      <td>In Progress</td>\n",
       "    </tr>\n",
       "    <tr>\n",
       "      <th>17</th>\n",
       "      <td>D-1555</td>\n",
       "      <td>2020-10-01 09:26:43</td>\n",
       "      <td>Blocked</td>\n",
       "    </tr>\n",
       "    <tr>\n",
       "      <th>18</th>\n",
       "      <td>D-1869</td>\n",
       "      <td>2020-06-15 08:35:19</td>\n",
       "      <td>In Progress</td>\n",
       "    </tr>\n",
       "    <tr>\n",
       "      <th>19</th>\n",
       "      <td>D-1912</td>\n",
       "      <td>2020-10-07 13:46:47</td>\n",
       "      <td>In Owl</td>\n",
       "    </tr>\n",
       "    <tr>\n",
       "      <th>20</th>\n",
       "      <td>D-2122</td>\n",
       "      <td>2020-10-07 10:01:42</td>\n",
       "      <td>In Progress</td>\n",
       "    </tr>\n",
       "    <tr>\n",
       "      <th>21</th>\n",
       "      <td>D-2145</td>\n",
       "      <td>2020-09-22 13:02:58</td>\n",
       "      <td>Open</td>\n",
       "    </tr>\n",
       "    <tr>\n",
       "      <th>22</th>\n",
       "      <td>D-2162</td>\n",
       "      <td>2020-10-05 16:08:50</td>\n",
       "      <td>In Progress</td>\n",
       "    </tr>\n",
       "    <tr>\n",
       "      <th>23</th>\n",
       "      <td>D-2283</td>\n",
       "      <td>2020-09-28 12:23:26</td>\n",
       "      <td>In Review</td>\n",
       "    </tr>\n",
       "    <tr>\n",
       "      <th>24</th>\n",
       "      <td>D-2306</td>\n",
       "      <td>2020-07-13 15:09:12</td>\n",
       "      <td>Open</td>\n",
       "    </tr>\n",
       "    <tr>\n",
       "      <th>25</th>\n",
       "      <td>D-350</td>\n",
       "      <td>2020-09-22 10:48:00</td>\n",
       "      <td>In Owl</td>\n",
       "    </tr>\n",
       "    <tr>\n",
       "      <th>26</th>\n",
       "      <td>E-15184</td>\n",
       "      <td>2020-07-10 09:55:42</td>\n",
       "      <td>Open</td>\n",
       "    </tr>\n",
       "    <tr>\n",
       "      <th>27</th>\n",
       "      <td>E-15424</td>\n",
       "      <td>2020-09-24 10:40:03</td>\n",
       "      <td>In Progress</td>\n",
       "    </tr>\n",
       "    <tr>\n",
       "      <th>28</th>\n",
       "      <td>E-18476</td>\n",
       "      <td>2020-10-06 18:56:58</td>\n",
       "      <td>In Owl</td>\n",
       "    </tr>\n",
       "  </tbody>\n",
       "</table>\n",
       "</div>"
      ],
      "text/plain": [
       "   issue_key          start_time                   status\n",
       "0    A-20577 2019-11-05 09:33:48                     Open\n",
       "1    A-25044 2020-07-13 13:44:24                     Open\n",
       "2    A-26168 2020-09-24 16:47:05                In Review\n",
       "3    A-26389 2020-09-23 09:35:04                     Open\n",
       "4    A-26485 2020-10-07 13:27:25                   In Owl\n",
       "5    A-26500 2020-10-07 13:27:25  Waiting for integration\n",
       "6    A-26604 2020-10-01 13:15:06                     Open\n",
       "7    A-26627 2020-10-02 11:00:14              In Progress\n",
       "8    A-26681 2020-10-07 13:46:48  Waiting for integration\n",
       "9    A-26683 2020-10-06 11:29:04                  Blocked\n",
       "10   A-26711 2020-10-09 09:59:17               In Testing\n",
       "11   A-26717 2020-10-08 13:34:52  Waiting for integration\n",
       "12   A-26783 2020-10-08 14:15:15               In Testing\n",
       "13   A-26809 2020-10-09 15:01:50  Waiting for integration\n",
       "14   A-26814 2020-10-09 11:25:44              In Progress\n",
       "15   A-26845 2020-10-09 10:29:42                     Open\n",
       "16    C-6951 2020-10-08 12:25:46              In Progress\n",
       "17    D-1555 2020-10-01 09:26:43                  Blocked\n",
       "18    D-1869 2020-06-15 08:35:19              In Progress\n",
       "19    D-1912 2020-10-07 13:46:47                   In Owl\n",
       "20    D-2122 2020-10-07 10:01:42              In Progress\n",
       "21    D-2145 2020-09-22 13:02:58                     Open\n",
       "22    D-2162 2020-10-05 16:08:50              In Progress\n",
       "23    D-2283 2020-09-28 12:23:26                In Review\n",
       "24    D-2306 2020-07-13 15:09:12                     Open\n",
       "25     D-350 2020-09-22 10:48:00                   In Owl\n",
       "26   E-15184 2020-07-10 09:55:42                     Open\n",
       "27   E-15424 2020-09-24 10:40:03              In Progress\n",
       "28   E-18476 2020-10-06 18:56:58                   In Owl"
      ]
     },
     "execution_count": 10,
     "metadata": {},
     "output_type": "execute_result"
    }
   ],
   "source": [
    "df"
   ]
  },
  {
   "cell_type": "markdown",
   "id": "fcb57553",
   "metadata": {},
   "source": [
    "2 вариант"
   ]
  },
  {
   "cell_type": "code",
   "execution_count": 11,
   "id": "bd42bb09",
   "metadata": {},
   "outputs": [
    {
     "data": {
      "text/plain": [
       "[('A-20577', '2019-11-05 09:33:48', 'Open'),\n",
       " ('A-25044', '2020-07-13 13:44:24', 'Open'),\n",
       " ('A-26168', '2020-09-24 16:47:05', 'In Review'),\n",
       " ('A-26389', '2020-09-23 09:35:04', 'Open'),\n",
       " ('A-26485', '2020-10-07 13:27:25', 'In Owl'),\n",
       " ('A-26500', '2020-10-07 13:27:25', 'Waiting for integration'),\n",
       " ('A-26604', '2020-10-01 13:15:06', 'Open'),\n",
       " ('A-26627', '2020-10-02 11:00:14', 'In Progress'),\n",
       " ('A-26681', '2020-10-07 13:46:48', 'Waiting for integration'),\n",
       " ('A-26683', '2020-10-06 11:29:04', 'Blocked'),\n",
       " ('A-26711', '2020-10-09 09:59:17', 'In Testing'),\n",
       " ('A-26717', '2020-10-08 13:34:52', 'Waiting for integration'),\n",
       " ('A-26783', '2020-10-08 14:15:15', 'In Testing'),\n",
       " ('A-26809', '2020-10-09 15:01:50', 'Waiting for integration'),\n",
       " ('A-26814', '2020-10-09 11:25:44', 'In Progress'),\n",
       " ('A-26845', '2020-10-09 10:29:42', 'Open'),\n",
       " ('C-6951', '2020-10-08 12:25:46', 'In Progress'),\n",
       " ('D-1555', '2020-10-01 09:26:43', 'Blocked'),\n",
       " ('D-1869', '2020-06-15 08:35:19', 'In Progress'),\n",
       " ('D-1912', '2020-10-07 13:46:47', 'In Owl'),\n",
       " ('D-2122', '2020-10-07 10:01:42', 'In Progress'),\n",
       " ('D-2145', '2020-09-22 13:02:58', 'Open'),\n",
       " ('D-2162', '2020-10-05 16:08:50', 'In Progress'),\n",
       " ('D-2283', '2020-09-28 12:23:26', 'In Review'),\n",
       " ('D-2306', '2020-07-13 15:09:12', 'Open'),\n",
       " ('D-350', '2020-09-22 10:48:00', 'In Owl'),\n",
       " ('E-15184', '2020-07-10 09:55:42', 'Open'),\n",
       " ('E-15424', '2020-09-24 10:40:03', 'In Progress'),\n",
       " ('E-18476', '2020-10-06 18:56:58', 'In Owl')]"
      ]
     },
     "execution_count": 11,
     "metadata": {},
     "output_type": "execute_result"
    }
   ],
   "source": [
    "cur.execute(\"\"\"select issue_key,\n",
    "                    min(datetime(status_begin/1000, 'unixepoch')) as start_time,\n",
    "                    status\n",
    "             from history\n",
    "             where date(:T) between datetime(status_begin/1000, 'unixepoch') and datetime(status_end/1000, 'unixepoch') and\n",
    "                   status not in ('Closed', 'Resolved')\n",
    "             group by issue_key\"\"\", (T,))\n",
    "cur.fetchall()"
   ]
  }
 ],
 "metadata": {
  "kernelspec": {
   "display_name": "Python 3 (ipykernel)",
   "language": "python",
   "name": "python3"
  },
  "language_info": {
   "codemirror_mode": {
    "name": "ipython",
    "version": 3
   },
   "file_extension": ".py",
   "mimetype": "text/x-python",
   "name": "python",
   "nbconvert_exporter": "python",
   "pygments_lexer": "ipython3",
   "version": "3.9.12"
  }
 },
 "nbformat": 4,
 "nbformat_minor": 5
}
