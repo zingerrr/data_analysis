{
 "cells": [
  {
   "cell_type": "code",
   "execution_count": 2,
   "id": "1f8abef0",
   "metadata": {},
   "outputs": [],
   "source": [
    "import pandas as pd\n",
    "import numpy as np\n",
    "import matplotlib.pyplot as plt\n",
    "import matplotlib.ticker as ticker\n",
    "import seaborn as sns\n",
    "from heapq import nlargest\n",
    "import scipy.stats"
   ]
  },
  {
   "cell_type": "code",
   "execution_count": 3,
   "id": "72081dbd",
   "metadata": {},
   "outputs": [],
   "source": [
    "df = pd.read_csv('task_history.csv')"
   ]
  },
  {
   "cell_type": "code",
   "execution_count": 4,
   "id": "7dc507c3",
   "metadata": {},
   "outputs": [
    {
     "data": {
      "text/html": [
       "<div>\n",
       "<style scoped>\n",
       "    .dataframe tbody tr th:only-of-type {\n",
       "        vertical-align: middle;\n",
       "    }\n",
       "\n",
       "    .dataframe tbody tr th {\n",
       "        vertical-align: top;\n",
       "    }\n",
       "\n",
       "    .dataframe thead th {\n",
       "        text-align: right;\n",
       "    }\n",
       "</style>\n",
       "<table border=\"1\" class=\"dataframe\">\n",
       "  <thead>\n",
       "    <tr style=\"text-align: right;\">\n",
       "      <th></th>\n",
       "      <th>task_id</th>\n",
       "      <th>start_time</th>\n",
       "      <th>finish_time</th>\n",
       "      <th>status</th>\n",
       "      <th>worker</th>\n",
       "      <th>build_name</th>\n",
       "      <th>author</th>\n",
       "      <th>project</th>\n",
       "    </tr>\n",
       "  </thead>\n",
       "  <tbody>\n",
       "    <tr>\n",
       "      <th>0</th>\n",
       "      <td>44973</td>\n",
       "      <td>2005-06-26 09:05:45.716</td>\n",
       "      <td>2005-06-26 09:05:45.997</td>\n",
       "      <td>success</td>\n",
       "      <td>worker_00</td>\n",
       "      <td>test_cyan_texture</td>\n",
       "      <td>Kenny Smith</td>\n",
       "      <td>Halo Anniversary</td>\n",
       "    </tr>\n",
       "    <tr>\n",
       "      <th>1</th>\n",
       "      <td>44974</td>\n",
       "      <td>2005-06-26 09:05:46.200</td>\n",
       "      <td>2005-06-26 09:05:46.497</td>\n",
       "      <td>success</td>\n",
       "      <td>worker_01</td>\n",
       "      <td>test_cyan_texture</td>\n",
       "      <td>Kenny Smith</td>\n",
       "      <td>Halo Anniversary</td>\n",
       "    </tr>\n",
       "    <tr>\n",
       "      <th>2</th>\n",
       "      <td>44975</td>\n",
       "      <td>2005-06-26 09:05:47.357</td>\n",
       "      <td>2005-06-26 09:06:01.213</td>\n",
       "      <td>success</td>\n",
       "      <td>worker_02</td>\n",
       "      <td>test_cyan_texture</td>\n",
       "      <td>Kenny Smith</td>\n",
       "      <td>Halo Anniversary</td>\n",
       "    </tr>\n",
       "    <tr>\n",
       "      <th>3</th>\n",
       "      <td>44977</td>\n",
       "      <td>2005-06-26 09:06:19.273</td>\n",
       "      <td>2005-06-26 09:10:44.734</td>\n",
       "      <td>success</td>\n",
       "      <td>worker_02</td>\n",
       "      <td>test_cyan_texture</td>\n",
       "      <td>Kenny Smith</td>\n",
       "      <td>Halo Anniversary</td>\n",
       "    </tr>\n",
       "    <tr>\n",
       "      <th>4</th>\n",
       "      <td>44979</td>\n",
       "      <td>2005-06-26 09:12:00.883</td>\n",
       "      <td>2005-06-26 09:14:29.941</td>\n",
       "      <td>success</td>\n",
       "      <td>worker_04</td>\n",
       "      <td>test_cyan_texture</td>\n",
       "      <td>Kenny Smith</td>\n",
       "      <td>Halo Anniversary</td>\n",
       "    </tr>\n",
       "    <tr>\n",
       "      <th>...</th>\n",
       "      <td>...</td>\n",
       "      <td>...</td>\n",
       "      <td>...</td>\n",
       "      <td>...</td>\n",
       "      <td>...</td>\n",
       "      <td>...</td>\n",
       "      <td>...</td>\n",
       "      <td>...</td>\n",
       "    </tr>\n",
       "    <tr>\n",
       "      <th>162854</th>\n",
       "      <td>225841</td>\n",
       "      <td>2005-07-17 20:34:53.562</td>\n",
       "      <td>2005-07-17 21:22:55.810</td>\n",
       "      <td>success</td>\n",
       "      <td>worker_79</td>\n",
       "      <td>deploy_green_data</td>\n",
       "      <td>Bendy Python</td>\n",
       "      <td>Mud Runner</td>\n",
       "    </tr>\n",
       "    <tr>\n",
       "      <th>162855</th>\n",
       "      <td>13401</td>\n",
       "      <td>2005-07-17 20:34:53.765</td>\n",
       "      <td>2005-07-17 21:14:50.274</td>\n",
       "      <td>success</td>\n",
       "      <td>worker_85</td>\n",
       "      <td>deploy_green_data</td>\n",
       "      <td>Bendy Python</td>\n",
       "      <td>Mud Runner</td>\n",
       "    </tr>\n",
       "    <tr>\n",
       "      <th>162856</th>\n",
       "      <td>13403</td>\n",
       "      <td>2005-07-17 21:22:56.247</td>\n",
       "      <td>2005-07-17 21:47:21.805</td>\n",
       "      <td>success</td>\n",
       "      <td>worker_1e</td>\n",
       "      <td>deploy_green_data</td>\n",
       "      <td>Bendy Python</td>\n",
       "      <td>Mud Runner</td>\n",
       "    </tr>\n",
       "    <tr>\n",
       "      <th>162857</th>\n",
       "      <td>225842</td>\n",
       "      <td>2005-07-17 23:03:35.688</td>\n",
       "      <td>2005-07-17 23:46:23.162</td>\n",
       "      <td>success</td>\n",
       "      <td>worker_23</td>\n",
       "      <td>deploy_green_data</td>\n",
       "      <td>Bendy Python</td>\n",
       "      <td>Mud Runner</td>\n",
       "    </tr>\n",
       "    <tr>\n",
       "      <th>162858</th>\n",
       "      <td>225843</td>\n",
       "      <td>2005-07-17 23:46:23.943</td>\n",
       "      <td>2005-07-18 00:35:48.805</td>\n",
       "      <td>success</td>\n",
       "      <td>worker_79</td>\n",
       "      <td>deploy_green_data</td>\n",
       "      <td>Bendy Python</td>\n",
       "      <td>Mud Runner</td>\n",
       "    </tr>\n",
       "  </tbody>\n",
       "</table>\n",
       "<p>162859 rows × 8 columns</p>\n",
       "</div>"
      ],
      "text/plain": [
       "        task_id               start_time              finish_time   status  \\\n",
       "0         44973  2005-06-26 09:05:45.716  2005-06-26 09:05:45.997  success   \n",
       "1         44974  2005-06-26 09:05:46.200  2005-06-26 09:05:46.497  success   \n",
       "2         44975  2005-06-26 09:05:47.357  2005-06-26 09:06:01.213  success   \n",
       "3         44977  2005-06-26 09:06:19.273  2005-06-26 09:10:44.734  success   \n",
       "4         44979  2005-06-26 09:12:00.883  2005-06-26 09:14:29.941  success   \n",
       "...         ...                      ...                      ...      ...   \n",
       "162854   225841  2005-07-17 20:34:53.562  2005-07-17 21:22:55.810  success   \n",
       "162855    13401  2005-07-17 20:34:53.765  2005-07-17 21:14:50.274  success   \n",
       "162856    13403  2005-07-17 21:22:56.247  2005-07-17 21:47:21.805  success   \n",
       "162857   225842  2005-07-17 23:03:35.688  2005-07-17 23:46:23.162  success   \n",
       "162858   225843  2005-07-17 23:46:23.943  2005-07-18 00:35:48.805  success   \n",
       "\n",
       "           worker         build_name        author           project  \n",
       "0       worker_00  test_cyan_texture   Kenny Smith  Halo Anniversary  \n",
       "1       worker_01  test_cyan_texture   Kenny Smith  Halo Anniversary  \n",
       "2       worker_02  test_cyan_texture   Kenny Smith  Halo Anniversary  \n",
       "3       worker_02  test_cyan_texture   Kenny Smith  Halo Anniversary  \n",
       "4       worker_04  test_cyan_texture   Kenny Smith  Halo Anniversary  \n",
       "...           ...                ...           ...               ...  \n",
       "162854  worker_79  deploy_green_data  Bendy Python        Mud Runner  \n",
       "162855  worker_85  deploy_green_data  Bendy Python        Mud Runner  \n",
       "162856  worker_1e  deploy_green_data  Bendy Python        Mud Runner  \n",
       "162857  worker_23  deploy_green_data  Bendy Python        Mud Runner  \n",
       "162858  worker_79  deploy_green_data  Bendy Python        Mud Runner  \n",
       "\n",
       "[162859 rows x 8 columns]"
      ]
     },
     "execution_count": 4,
     "metadata": {},
     "output_type": "execute_result"
    }
   ],
   "source": [
    "df"
   ]
  },
  {
   "cell_type": "code",
   "execution_count": 5,
   "id": "9d68e21e",
   "metadata": {},
   "outputs": [
    {
     "name": "stdout",
     "output_type": "stream",
     "text": [
      "<class 'pandas.core.frame.DataFrame'>\n",
      "RangeIndex: 162859 entries, 0 to 162858\n",
      "Data columns (total 8 columns):\n",
      " #   Column       Non-Null Count   Dtype \n",
      "---  ------       --------------   ----- \n",
      " 0   task_id      162859 non-null  int64 \n",
      " 1   start_time   162859 non-null  object\n",
      " 2   finish_time  162859 non-null  object\n",
      " 3   status       162859 non-null  object\n",
      " 4   worker       162859 non-null  object\n",
      " 5   build_name   162859 non-null  object\n",
      " 6   author       162859 non-null  object\n",
      " 7   project      162859 non-null  object\n",
      "dtypes: int64(1), object(7)\n",
      "memory usage: 9.9+ MB\n"
     ]
    }
   ],
   "source": [
    "df.info()"
   ]
  },
  {
   "cell_type": "code",
   "execution_count": 6,
   "id": "2111d34f",
   "metadata": {},
   "outputs": [],
   "source": [
    "df['task_id'] = df['task_id'].astype('str')"
   ]
  },
  {
   "cell_type": "code",
   "execution_count": 7,
   "id": "7e8fde60",
   "metadata": {},
   "outputs": [
    {
     "name": "stdout",
     "output_type": "stream",
     "text": [
      "<class 'pandas.core.frame.DataFrame'>\n",
      "RangeIndex: 162859 entries, 0 to 162858\n",
      "Data columns (total 8 columns):\n",
      " #   Column       Non-Null Count   Dtype \n",
      "---  ------       --------------   ----- \n",
      " 0   task_id      162859 non-null  object\n",
      " 1   start_time   162859 non-null  object\n",
      " 2   finish_time  162859 non-null  object\n",
      " 3   status       162859 non-null  object\n",
      " 4   worker       162859 non-null  object\n",
      " 5   build_name   162859 non-null  object\n",
      " 6   author       162859 non-null  object\n",
      " 7   project      162859 non-null  object\n",
      "dtypes: object(8)\n",
      "memory usage: 9.9+ MB\n"
     ]
    }
   ],
   "source": [
    "df.info()"
   ]
  },
  {
   "cell_type": "markdown",
   "id": "bb0bbb12",
   "metadata": {},
   "source": [
    "#### Для каждой недели распечатайте топ-3 пользователей, потребивших наибольшее количество машиночасов. Выведите для данных пользователей процент потребленных ресурсов от общего объема расчетов за эту неделю."
   ]
  },
  {
   "cell_type": "markdown",
   "id": "b4180655",
   "metadata": {},
   "source": [
    "Преобразую в формат времени столбцы со временем:"
   ]
  },
  {
   "cell_type": "code",
   "execution_count": 8,
   "id": "63c06e03",
   "metadata": {},
   "outputs": [],
   "source": [
    "df['start_time'] = pd.to_datetime(df['start_time']).dt.tz_localize(None)\n",
    "df['finish_time'] = pd.to_datetime(df['finish_time']).dt.tz_localize(None)"
   ]
  },
  {
   "cell_type": "markdown",
   "id": "cbba0092",
   "metadata": {},
   "source": [
    "Сделаю столбец с временем выполнения таски"
   ]
  },
  {
   "cell_type": "code",
   "execution_count": 9,
   "id": "9737d288",
   "metadata": {},
   "outputs": [],
   "source": [
    "df['exec_time'] = df['finish_time']-df['start_time']"
   ]
  },
  {
   "cell_type": "code",
   "execution_count": 10,
   "id": "30732fac",
   "metadata": {},
   "outputs": [
    {
     "data": {
      "text/html": [
       "<div>\n",
       "<style scoped>\n",
       "    .dataframe tbody tr th:only-of-type {\n",
       "        vertical-align: middle;\n",
       "    }\n",
       "\n",
       "    .dataframe tbody tr th {\n",
       "        vertical-align: top;\n",
       "    }\n",
       "\n",
       "    .dataframe thead th {\n",
       "        text-align: right;\n",
       "    }\n",
       "</style>\n",
       "<table border=\"1\" class=\"dataframe\">\n",
       "  <thead>\n",
       "    <tr style=\"text-align: right;\">\n",
       "      <th></th>\n",
       "      <th>task_id</th>\n",
       "      <th>start_time</th>\n",
       "      <th>finish_time</th>\n",
       "      <th>status</th>\n",
       "      <th>worker</th>\n",
       "      <th>build_name</th>\n",
       "      <th>author</th>\n",
       "      <th>project</th>\n",
       "      <th>exec_time</th>\n",
       "    </tr>\n",
       "  </thead>\n",
       "  <tbody>\n",
       "    <tr>\n",
       "      <th>0</th>\n",
       "      <td>44973</td>\n",
       "      <td>2005-06-26 09:05:45.716</td>\n",
       "      <td>2005-06-26 09:05:45.997</td>\n",
       "      <td>success</td>\n",
       "      <td>worker_00</td>\n",
       "      <td>test_cyan_texture</td>\n",
       "      <td>Kenny Smith</td>\n",
       "      <td>Halo Anniversary</td>\n",
       "      <td>0 days 00:00:00.281000</td>\n",
       "    </tr>\n",
       "    <tr>\n",
       "      <th>1</th>\n",
       "      <td>44974</td>\n",
       "      <td>2005-06-26 09:05:46.200</td>\n",
       "      <td>2005-06-26 09:05:46.497</td>\n",
       "      <td>success</td>\n",
       "      <td>worker_01</td>\n",
       "      <td>test_cyan_texture</td>\n",
       "      <td>Kenny Smith</td>\n",
       "      <td>Halo Anniversary</td>\n",
       "      <td>0 days 00:00:00.297000</td>\n",
       "    </tr>\n",
       "    <tr>\n",
       "      <th>2</th>\n",
       "      <td>44975</td>\n",
       "      <td>2005-06-26 09:05:47.357</td>\n",
       "      <td>2005-06-26 09:06:01.213</td>\n",
       "      <td>success</td>\n",
       "      <td>worker_02</td>\n",
       "      <td>test_cyan_texture</td>\n",
       "      <td>Kenny Smith</td>\n",
       "      <td>Halo Anniversary</td>\n",
       "      <td>0 days 00:00:13.856000</td>\n",
       "    </tr>\n",
       "    <tr>\n",
       "      <th>3</th>\n",
       "      <td>44977</td>\n",
       "      <td>2005-06-26 09:06:19.273</td>\n",
       "      <td>2005-06-26 09:10:44.734</td>\n",
       "      <td>success</td>\n",
       "      <td>worker_02</td>\n",
       "      <td>test_cyan_texture</td>\n",
       "      <td>Kenny Smith</td>\n",
       "      <td>Halo Anniversary</td>\n",
       "      <td>0 days 00:04:25.461000</td>\n",
       "    </tr>\n",
       "    <tr>\n",
       "      <th>4</th>\n",
       "      <td>44979</td>\n",
       "      <td>2005-06-26 09:12:00.883</td>\n",
       "      <td>2005-06-26 09:14:29.941</td>\n",
       "      <td>success</td>\n",
       "      <td>worker_04</td>\n",
       "      <td>test_cyan_texture</td>\n",
       "      <td>Kenny Smith</td>\n",
       "      <td>Halo Anniversary</td>\n",
       "      <td>0 days 00:02:29.058000</td>\n",
       "    </tr>\n",
       "  </tbody>\n",
       "</table>\n",
       "</div>"
      ],
      "text/plain": [
       "  task_id              start_time             finish_time   status     worker  \\\n",
       "0   44973 2005-06-26 09:05:45.716 2005-06-26 09:05:45.997  success  worker_00   \n",
       "1   44974 2005-06-26 09:05:46.200 2005-06-26 09:05:46.497  success  worker_01   \n",
       "2   44975 2005-06-26 09:05:47.357 2005-06-26 09:06:01.213  success  worker_02   \n",
       "3   44977 2005-06-26 09:06:19.273 2005-06-26 09:10:44.734  success  worker_02   \n",
       "4   44979 2005-06-26 09:12:00.883 2005-06-26 09:14:29.941  success  worker_04   \n",
       "\n",
       "          build_name       author           project              exec_time  \n",
       "0  test_cyan_texture  Kenny Smith  Halo Anniversary 0 days 00:00:00.281000  \n",
       "1  test_cyan_texture  Kenny Smith  Halo Anniversary 0 days 00:00:00.297000  \n",
       "2  test_cyan_texture  Kenny Smith  Halo Anniversary 0 days 00:00:13.856000  \n",
       "3  test_cyan_texture  Kenny Smith  Halo Anniversary 0 days 00:04:25.461000  \n",
       "4  test_cyan_texture  Kenny Smith  Halo Anniversary 0 days 00:02:29.058000  "
      ]
     },
     "execution_count": 10,
     "metadata": {},
     "output_type": "execute_result"
    }
   ],
   "source": [
    "df.head()"
   ]
  },
  {
   "cell_type": "markdown",
   "id": "b1bea009",
   "metadata": {},
   "source": [
    "Посмотрю на максимальные значения времени выполнения таски по неделям"
   ]
  },
  {
   "cell_type": "code",
   "execution_count": 11,
   "id": "2d40e5a9",
   "metadata": {
    "scrolled": true
   },
   "outputs": [
    {
     "data": {
      "text/html": [
       "<div>\n",
       "<style scoped>\n",
       "    .dataframe tbody tr th:only-of-type {\n",
       "        vertical-align: middle;\n",
       "    }\n",
       "\n",
       "    .dataframe tbody tr th {\n",
       "        vertical-align: top;\n",
       "    }\n",
       "\n",
       "    .dataframe thead th {\n",
       "        text-align: right;\n",
       "    }\n",
       "</style>\n",
       "<table border=\"1\" class=\"dataframe\">\n",
       "  <thead>\n",
       "    <tr style=\"text-align: right;\">\n",
       "      <th></th>\n",
       "      <th>task_id</th>\n",
       "      <th>finish_time</th>\n",
       "      <th>status</th>\n",
       "      <th>worker</th>\n",
       "      <th>build_name</th>\n",
       "      <th>author</th>\n",
       "      <th>project</th>\n",
       "      <th>exec_time</th>\n",
       "    </tr>\n",
       "    <tr>\n",
       "      <th>start_time</th>\n",
       "      <th></th>\n",
       "      <th></th>\n",
       "      <th></th>\n",
       "      <th></th>\n",
       "      <th></th>\n",
       "      <th></th>\n",
       "      <th></th>\n",
       "      <th></th>\n",
       "    </tr>\n",
       "  </thead>\n",
       "  <tbody>\n",
       "    <tr>\n",
       "      <th>2005-06-20</th>\n",
       "      <td>115153</td>\n",
       "      <td>2005-06-21 04:16:02.472</td>\n",
       "      <td>success</td>\n",
       "      <td>worker_66</td>\n",
       "      <td>validate_yellow_sound</td>\n",
       "      <td>Polly Xi</td>\n",
       "      <td>World War Z</td>\n",
       "      <td>0 days 07:08:15.527000</td>\n",
       "    </tr>\n",
       "    <tr>\n",
       "      <th>2005-06-27</th>\n",
       "      <td>99999</td>\n",
       "      <td>2005-06-28 10:14:51.810</td>\n",
       "      <td>success</td>\n",
       "      <td>worker_70</td>\n",
       "      <td>validate_yellow_sound</td>\n",
       "      <td>Polly Xi</td>\n",
       "      <td>World War Z</td>\n",
       "      <td>0 days 20:27:04.343000</td>\n",
       "    </tr>\n",
       "    <tr>\n",
       "      <th>2005-07-04</th>\n",
       "      <td>9997</td>\n",
       "      <td>2005-07-05 04:39:15.673</td>\n",
       "      <td>success</td>\n",
       "      <td>worker_8d</td>\n",
       "      <td>validate_yellow_sound</td>\n",
       "      <td>Polly Xi</td>\n",
       "      <td>World War Z</td>\n",
       "      <td>1 days 05:13:42.666000</td>\n",
       "    </tr>\n",
       "    <tr>\n",
       "      <th>2005-07-11</th>\n",
       "      <td>99993</td>\n",
       "      <td>2005-07-12 04:10:03.379</td>\n",
       "      <td>success</td>\n",
       "      <td>worker_8c</td>\n",
       "      <td>validate_yellow_sound</td>\n",
       "      <td>Polly Xi</td>\n",
       "      <td>World War Z</td>\n",
       "      <td>2 days 03:00:12.935000</td>\n",
       "    </tr>\n",
       "    <tr>\n",
       "      <th>2005-07-18</th>\n",
       "      <td>9999</td>\n",
       "      <td>2005-07-18 03:03:11.856</td>\n",
       "      <td>success</td>\n",
       "      <td>worker_8b</td>\n",
       "      <td>validate_yellow_sound</td>\n",
       "      <td>Polly Xi</td>\n",
       "      <td>World War Z</td>\n",
       "      <td>0 days 11:17:56.515000</td>\n",
       "    </tr>\n",
       "  </tbody>\n",
       "</table>\n",
       "</div>"
      ],
      "text/plain": [
       "           task_id             finish_time   status     worker  \\\n",
       "start_time                                                       \n",
       "2005-06-20  115153 2005-06-21 04:16:02.472  success  worker_66   \n",
       "2005-06-27   99999 2005-06-28 10:14:51.810  success  worker_70   \n",
       "2005-07-04    9997 2005-07-05 04:39:15.673  success  worker_8d   \n",
       "2005-07-11   99993 2005-07-12 04:10:03.379  success  worker_8c   \n",
       "2005-07-18    9999 2005-07-18 03:03:11.856  success  worker_8b   \n",
       "\n",
       "                       build_name    author      project  \\\n",
       "start_time                                                 \n",
       "2005-06-20  validate_yellow_sound  Polly Xi  World War Z   \n",
       "2005-06-27  validate_yellow_sound  Polly Xi  World War Z   \n",
       "2005-07-04  validate_yellow_sound  Polly Xi  World War Z   \n",
       "2005-07-11  validate_yellow_sound  Polly Xi  World War Z   \n",
       "2005-07-18  validate_yellow_sound  Polly Xi  World War Z   \n",
       "\n",
       "                        exec_time  \n",
       "start_time                         \n",
       "2005-06-20 0 days 07:08:15.527000  \n",
       "2005-06-27 0 days 20:27:04.343000  \n",
       "2005-07-04 1 days 05:13:42.666000  \n",
       "2005-07-11 2 days 03:00:12.935000  \n",
       "2005-07-18 0 days 11:17:56.515000  "
      ]
     },
     "execution_count": 11,
     "metadata": {},
     "output_type": "execute_result"
    }
   ],
   "source": [
    "df.groupby(pd.Grouper(key='start_time', freq='W-MON')).max()"
   ]
  },
  {
   "cell_type": "code",
   "execution_count": 12,
   "id": "8ab743dc",
   "metadata": {
    "scrolled": false
   },
   "outputs": [
    {
     "data": {
      "text/html": [
       "<div>\n",
       "<style scoped>\n",
       "    .dataframe tbody tr th:only-of-type {\n",
       "        vertical-align: middle;\n",
       "    }\n",
       "\n",
       "    .dataframe tbody tr th {\n",
       "        vertical-align: top;\n",
       "    }\n",
       "\n",
       "    .dataframe thead th {\n",
       "        text-align: right;\n",
       "    }\n",
       "</style>\n",
       "<table border=\"1\" class=\"dataframe\">\n",
       "  <thead>\n",
       "    <tr style=\"text-align: right;\">\n",
       "      <th></th>\n",
       "      <th>task_id</th>\n",
       "      <th>start_time</th>\n",
       "      <th>status</th>\n",
       "      <th>worker</th>\n",
       "      <th>build_name</th>\n",
       "      <th>author</th>\n",
       "      <th>project</th>\n",
       "      <th>exec_time</th>\n",
       "    </tr>\n",
       "    <tr>\n",
       "      <th>finish_time</th>\n",
       "      <th></th>\n",
       "      <th></th>\n",
       "      <th></th>\n",
       "      <th></th>\n",
       "      <th></th>\n",
       "      <th></th>\n",
       "      <th></th>\n",
       "      <th></th>\n",
       "    </tr>\n",
       "  </thead>\n",
       "  <tbody>\n",
       "    <tr>\n",
       "      <th>2005-06-20</th>\n",
       "      <td>115153</td>\n",
       "      <td>2005-06-20 23:58:12.815</td>\n",
       "      <td>success</td>\n",
       "      <td>worker_66</td>\n",
       "      <td>validate_yellow_sound</td>\n",
       "      <td>Polly Xi</td>\n",
       "      <td>World War Z</td>\n",
       "      <td>0 days 04:16:59.404000</td>\n",
       "    </tr>\n",
       "    <tr>\n",
       "      <th>2005-06-27</th>\n",
       "      <td>99999</td>\n",
       "      <td>2005-06-27 23:56:11.382</td>\n",
       "      <td>success</td>\n",
       "      <td>worker_70</td>\n",
       "      <td>validate_yellow_sound</td>\n",
       "      <td>Polly Xi</td>\n",
       "      <td>World War Z</td>\n",
       "      <td>0 days 18:26:00.873000</td>\n",
       "    </tr>\n",
       "    <tr>\n",
       "      <th>2005-07-04</th>\n",
       "      <td>9997</td>\n",
       "      <td>2005-07-04 23:30:12.225</td>\n",
       "      <td>success</td>\n",
       "      <td>worker_8d</td>\n",
       "      <td>validate_yellow_sound</td>\n",
       "      <td>Polly Xi</td>\n",
       "      <td>World War Z</td>\n",
       "      <td>1 days 05:13:42.666000</td>\n",
       "    </tr>\n",
       "    <tr>\n",
       "      <th>2005-07-11</th>\n",
       "      <td>99993</td>\n",
       "      <td>2005-07-11 23:59:15.793</td>\n",
       "      <td>success</td>\n",
       "      <td>worker_8c</td>\n",
       "      <td>validate_yellow_sound</td>\n",
       "      <td>Polly Xi</td>\n",
       "      <td>World War Z</td>\n",
       "      <td>2 days 03:00:12.935000</td>\n",
       "    </tr>\n",
       "    <tr>\n",
       "      <th>2005-07-18</th>\n",
       "      <td>9999</td>\n",
       "      <td>2005-07-17 23:58:49.596</td>\n",
       "      <td>success</td>\n",
       "      <td>worker_8b</td>\n",
       "      <td>validate_yellow_sound</td>\n",
       "      <td>Polly Xi</td>\n",
       "      <td>World War Z</td>\n",
       "      <td>0 days 11:17:56.515000</td>\n",
       "    </tr>\n",
       "  </tbody>\n",
       "</table>\n",
       "</div>"
      ],
      "text/plain": [
       "            task_id              start_time   status     worker  \\\n",
       "finish_time                                                       \n",
       "2005-06-20   115153 2005-06-20 23:58:12.815  success  worker_66   \n",
       "2005-06-27    99999 2005-06-27 23:56:11.382  success  worker_70   \n",
       "2005-07-04     9997 2005-07-04 23:30:12.225  success  worker_8d   \n",
       "2005-07-11    99993 2005-07-11 23:59:15.793  success  worker_8c   \n",
       "2005-07-18     9999 2005-07-17 23:58:49.596  success  worker_8b   \n",
       "\n",
       "                        build_name    author      project  \\\n",
       "finish_time                                                 \n",
       "2005-06-20   validate_yellow_sound  Polly Xi  World War Z   \n",
       "2005-06-27   validate_yellow_sound  Polly Xi  World War Z   \n",
       "2005-07-04   validate_yellow_sound  Polly Xi  World War Z   \n",
       "2005-07-11   validate_yellow_sound  Polly Xi  World War Z   \n",
       "2005-07-18   validate_yellow_sound  Polly Xi  World War Z   \n",
       "\n",
       "                         exec_time  \n",
       "finish_time                         \n",
       "2005-06-20  0 days 04:16:59.404000  \n",
       "2005-06-27  0 days 18:26:00.873000  \n",
       "2005-07-04  1 days 05:13:42.666000  \n",
       "2005-07-11  2 days 03:00:12.935000  \n",
       "2005-07-18  0 days 11:17:56.515000  "
      ]
     },
     "execution_count": 12,
     "metadata": {},
     "output_type": "execute_result"
    }
   ],
   "source": [
    "df.groupby(pd.Grouper(key='finish_time', freq='W-MON')).max()"
   ]
  },
  {
   "cell_type": "code",
   "execution_count": 13,
   "id": "7fc258ad",
   "metadata": {
    "scrolled": false
   },
   "outputs": [],
   "source": [
    "df_top3_weekly = df.groupby([pd.Grouper(key='start_time', freq='W-MON')])['exec_time'].nlargest(3)\\\n",
    "                   .to_frame()\\\n",
    "                   .reset_index()\\\n",
    "                   .drop(columns='level_1')\\\n",
    "                   .rename(columns={'start_time':'first_week_day'})"
   ]
  },
  {
   "cell_type": "code",
   "execution_count": 14,
   "id": "5d429737",
   "metadata": {
    "scrolled": false
   },
   "outputs": [
    {
     "data": {
      "text/html": [
       "<div>\n",
       "<style scoped>\n",
       "    .dataframe tbody tr th:only-of-type {\n",
       "        vertical-align: middle;\n",
       "    }\n",
       "\n",
       "    .dataframe tbody tr th {\n",
       "        vertical-align: top;\n",
       "    }\n",
       "\n",
       "    .dataframe thead th {\n",
       "        text-align: right;\n",
       "    }\n",
       "</style>\n",
       "<table border=\"1\" class=\"dataframe\">\n",
       "  <thead>\n",
       "    <tr style=\"text-align: right;\">\n",
       "      <th></th>\n",
       "      <th>first_week_day</th>\n",
       "      <th>exec_time</th>\n",
       "    </tr>\n",
       "  </thead>\n",
       "  <tbody>\n",
       "    <tr>\n",
       "      <th>0</th>\n",
       "      <td>2005-06-20</td>\n",
       "      <td>0 days 07:08:15.527000</td>\n",
       "    </tr>\n",
       "    <tr>\n",
       "      <th>1</th>\n",
       "      <td>2005-06-20</td>\n",
       "      <td>0 days 04:16:59.404000</td>\n",
       "    </tr>\n",
       "    <tr>\n",
       "      <th>2</th>\n",
       "      <td>2005-06-20</td>\n",
       "      <td>0 days 04:16:53.708000</td>\n",
       "    </tr>\n",
       "    <tr>\n",
       "      <th>3</th>\n",
       "      <td>2005-06-27</td>\n",
       "      <td>0 days 20:27:04.343000</td>\n",
       "    </tr>\n",
       "    <tr>\n",
       "      <th>4</th>\n",
       "      <td>2005-06-27</td>\n",
       "      <td>0 days 18:26:00.873000</td>\n",
       "    </tr>\n",
       "    <tr>\n",
       "      <th>5</th>\n",
       "      <td>2005-06-27</td>\n",
       "      <td>0 days 17:13:04.766000</td>\n",
       "    </tr>\n",
       "    <tr>\n",
       "      <th>6</th>\n",
       "      <td>2005-07-04</td>\n",
       "      <td>1 days 05:13:42.666000</td>\n",
       "    </tr>\n",
       "    <tr>\n",
       "      <th>7</th>\n",
       "      <td>2005-07-04</td>\n",
       "      <td>0 days 17:58:00.424000</td>\n",
       "    </tr>\n",
       "    <tr>\n",
       "      <th>8</th>\n",
       "      <td>2005-07-04</td>\n",
       "      <td>0 days 17:55:38.039000</td>\n",
       "    </tr>\n",
       "    <tr>\n",
       "      <th>9</th>\n",
       "      <td>2005-07-11</td>\n",
       "      <td>2 days 03:00:12.935000</td>\n",
       "    </tr>\n",
       "    <tr>\n",
       "      <th>10</th>\n",
       "      <td>2005-07-11</td>\n",
       "      <td>1 days 17:02:36.276000</td>\n",
       "    </tr>\n",
       "    <tr>\n",
       "      <th>11</th>\n",
       "      <td>2005-07-11</td>\n",
       "      <td>0 days 09:23:28.456000</td>\n",
       "    </tr>\n",
       "    <tr>\n",
       "      <th>12</th>\n",
       "      <td>2005-07-18</td>\n",
       "      <td>0 days 11:17:56.515000</td>\n",
       "    </tr>\n",
       "    <tr>\n",
       "      <th>13</th>\n",
       "      <td>2005-07-18</td>\n",
       "      <td>0 days 09:17:07.583000</td>\n",
       "    </tr>\n",
       "    <tr>\n",
       "      <th>14</th>\n",
       "      <td>2005-07-18</td>\n",
       "      <td>0 days 08:44:06.830000</td>\n",
       "    </tr>\n",
       "  </tbody>\n",
       "</table>\n",
       "</div>"
      ],
      "text/plain": [
       "   first_week_day              exec_time\n",
       "0      2005-06-20 0 days 07:08:15.527000\n",
       "1      2005-06-20 0 days 04:16:59.404000\n",
       "2      2005-06-20 0 days 04:16:53.708000\n",
       "3      2005-06-27 0 days 20:27:04.343000\n",
       "4      2005-06-27 0 days 18:26:00.873000\n",
       "5      2005-06-27 0 days 17:13:04.766000\n",
       "6      2005-07-04 1 days 05:13:42.666000\n",
       "7      2005-07-04 0 days 17:58:00.424000\n",
       "8      2005-07-04 0 days 17:55:38.039000\n",
       "9      2005-07-11 2 days 03:00:12.935000\n",
       "10     2005-07-11 1 days 17:02:36.276000\n",
       "11     2005-07-11 0 days 09:23:28.456000\n",
       "12     2005-07-18 0 days 11:17:56.515000\n",
       "13     2005-07-18 0 days 09:17:07.583000\n",
       "14     2005-07-18 0 days 08:44:06.830000"
      ]
     },
     "execution_count": 14,
     "metadata": {},
     "output_type": "execute_result"
    }
   ],
   "source": [
    "df_top3_weekly"
   ]
  },
  {
   "cell_type": "code",
   "execution_count": 15,
   "id": "fda81f0f",
   "metadata": {},
   "outputs": [],
   "source": [
    "df_merged = df_top3_weekly.merge(df, on='exec_time')[['first_week_day', 'worker', 'exec_time']]"
   ]
  },
  {
   "cell_type": "code",
   "execution_count": 16,
   "id": "e5438fc4",
   "metadata": {},
   "outputs": [
    {
     "data": {
      "text/html": [
       "<div>\n",
       "<style scoped>\n",
       "    .dataframe tbody tr th:only-of-type {\n",
       "        vertical-align: middle;\n",
       "    }\n",
       "\n",
       "    .dataframe tbody tr th {\n",
       "        vertical-align: top;\n",
       "    }\n",
       "\n",
       "    .dataframe thead th {\n",
       "        text-align: right;\n",
       "    }\n",
       "</style>\n",
       "<table border=\"1\" class=\"dataframe\">\n",
       "  <thead>\n",
       "    <tr style=\"text-align: right;\">\n",
       "      <th></th>\n",
       "      <th>first_week_day</th>\n",
       "      <th>worker</th>\n",
       "      <th>exec_time</th>\n",
       "    </tr>\n",
       "  </thead>\n",
       "  <tbody>\n",
       "    <tr>\n",
       "      <th>0</th>\n",
       "      <td>2005-06-20</td>\n",
       "      <td>worker_23</td>\n",
       "      <td>0 days 07:08:15.527000</td>\n",
       "    </tr>\n",
       "    <tr>\n",
       "      <th>1</th>\n",
       "      <td>2005-06-20</td>\n",
       "      <td>worker_55</td>\n",
       "      <td>0 days 04:16:59.404000</td>\n",
       "    </tr>\n",
       "    <tr>\n",
       "      <th>2</th>\n",
       "      <td>2005-06-20</td>\n",
       "      <td>worker_50</td>\n",
       "      <td>0 days 04:16:53.708000</td>\n",
       "    </tr>\n",
       "    <tr>\n",
       "      <th>3</th>\n",
       "      <td>2005-06-27</td>\n",
       "      <td>worker_07</td>\n",
       "      <td>0 days 20:27:04.343000</td>\n",
       "    </tr>\n",
       "    <tr>\n",
       "      <th>4</th>\n",
       "      <td>2005-06-27</td>\n",
       "      <td>worker_36</td>\n",
       "      <td>0 days 18:26:00.873000</td>\n",
       "    </tr>\n",
       "    <tr>\n",
       "      <th>5</th>\n",
       "      <td>2005-06-27</td>\n",
       "      <td>worker_11</td>\n",
       "      <td>0 days 17:13:04.766000</td>\n",
       "    </tr>\n",
       "    <tr>\n",
       "      <th>6</th>\n",
       "      <td>2005-07-04</td>\n",
       "      <td>worker_29</td>\n",
       "      <td>1 days 05:13:42.666000</td>\n",
       "    </tr>\n",
       "    <tr>\n",
       "      <th>7</th>\n",
       "      <td>2005-07-04</td>\n",
       "      <td>worker_50</td>\n",
       "      <td>0 days 17:58:00.424000</td>\n",
       "    </tr>\n",
       "    <tr>\n",
       "      <th>8</th>\n",
       "      <td>2005-07-04</td>\n",
       "      <td>worker_46</td>\n",
       "      <td>0 days 17:55:38.039000</td>\n",
       "    </tr>\n",
       "    <tr>\n",
       "      <th>9</th>\n",
       "      <td>2005-07-11</td>\n",
       "      <td>worker_55</td>\n",
       "      <td>2 days 03:00:12.935000</td>\n",
       "    </tr>\n",
       "    <tr>\n",
       "      <th>10</th>\n",
       "      <td>2005-07-11</td>\n",
       "      <td>worker_28</td>\n",
       "      <td>1 days 17:02:36.276000</td>\n",
       "    </tr>\n",
       "    <tr>\n",
       "      <th>11</th>\n",
       "      <td>2005-07-11</td>\n",
       "      <td>worker_23</td>\n",
       "      <td>0 days 09:23:28.456000</td>\n",
       "    </tr>\n",
       "    <tr>\n",
       "      <th>12</th>\n",
       "      <td>2005-07-18</td>\n",
       "      <td>worker_6d</td>\n",
       "      <td>0 days 11:17:56.515000</td>\n",
       "    </tr>\n",
       "    <tr>\n",
       "      <th>13</th>\n",
       "      <td>2005-07-18</td>\n",
       "      <td>worker_3a</td>\n",
       "      <td>0 days 09:17:07.583000</td>\n",
       "    </tr>\n",
       "    <tr>\n",
       "      <th>14</th>\n",
       "      <td>2005-07-18</td>\n",
       "      <td>worker_77</td>\n",
       "      <td>0 days 08:44:06.830000</td>\n",
       "    </tr>\n",
       "  </tbody>\n",
       "</table>\n",
       "</div>"
      ],
      "text/plain": [
       "   first_week_day     worker              exec_time\n",
       "0      2005-06-20  worker_23 0 days 07:08:15.527000\n",
       "1      2005-06-20  worker_55 0 days 04:16:59.404000\n",
       "2      2005-06-20  worker_50 0 days 04:16:53.708000\n",
       "3      2005-06-27  worker_07 0 days 20:27:04.343000\n",
       "4      2005-06-27  worker_36 0 days 18:26:00.873000\n",
       "5      2005-06-27  worker_11 0 days 17:13:04.766000\n",
       "6      2005-07-04  worker_29 1 days 05:13:42.666000\n",
       "7      2005-07-04  worker_50 0 days 17:58:00.424000\n",
       "8      2005-07-04  worker_46 0 days 17:55:38.039000\n",
       "9      2005-07-11  worker_55 2 days 03:00:12.935000\n",
       "10     2005-07-11  worker_28 1 days 17:02:36.276000\n",
       "11     2005-07-11  worker_23 0 days 09:23:28.456000\n",
       "12     2005-07-18  worker_6d 0 days 11:17:56.515000\n",
       "13     2005-07-18  worker_3a 0 days 09:17:07.583000\n",
       "14     2005-07-18  worker_77 0 days 08:44:06.830000"
      ]
     },
     "execution_count": 16,
     "metadata": {},
     "output_type": "execute_result"
    }
   ],
   "source": [
    "df_merged"
   ]
  },
  {
   "cell_type": "code",
   "execution_count": 17,
   "id": "52ab9b0e",
   "metadata": {
    "scrolled": false
   },
   "outputs": [
    {
     "data": {
      "text/html": [
       "<div>\n",
       "<style scoped>\n",
       "    .dataframe tbody tr th:only-of-type {\n",
       "        vertical-align: middle;\n",
       "    }\n",
       "\n",
       "    .dataframe tbody tr th {\n",
       "        vertical-align: top;\n",
       "    }\n",
       "\n",
       "    .dataframe thead th {\n",
       "        text-align: right;\n",
       "    }\n",
       "</style>\n",
       "<table border=\"1\" class=\"dataframe\">\n",
       "  <thead>\n",
       "    <tr style=\"text-align: right;\">\n",
       "      <th></th>\n",
       "      <th>task_id</th>\n",
       "      <th>start_time</th>\n",
       "      <th>finish_time</th>\n",
       "      <th>status</th>\n",
       "      <th>worker</th>\n",
       "      <th>build_name</th>\n",
       "      <th>author</th>\n",
       "      <th>project</th>\n",
       "      <th>exec_time</th>\n",
       "    </tr>\n",
       "  </thead>\n",
       "  <tbody>\n",
       "    <tr>\n",
       "      <th>0</th>\n",
       "      <td>44973</td>\n",
       "      <td>2005-06-26 09:05:45.716</td>\n",
       "      <td>2005-06-26 09:05:45.997</td>\n",
       "      <td>success</td>\n",
       "      <td>worker_00</td>\n",
       "      <td>test_cyan_texture</td>\n",
       "      <td>Kenny Smith</td>\n",
       "      <td>Halo Anniversary</td>\n",
       "      <td>0 days 00:00:00.281000</td>\n",
       "    </tr>\n",
       "    <tr>\n",
       "      <th>1</th>\n",
       "      <td>44974</td>\n",
       "      <td>2005-06-26 09:05:46.200</td>\n",
       "      <td>2005-06-26 09:05:46.497</td>\n",
       "      <td>success</td>\n",
       "      <td>worker_01</td>\n",
       "      <td>test_cyan_texture</td>\n",
       "      <td>Kenny Smith</td>\n",
       "      <td>Halo Anniversary</td>\n",
       "      <td>0 days 00:00:00.297000</td>\n",
       "    </tr>\n",
       "    <tr>\n",
       "      <th>2</th>\n",
       "      <td>44975</td>\n",
       "      <td>2005-06-26 09:05:47.357</td>\n",
       "      <td>2005-06-26 09:06:01.213</td>\n",
       "      <td>success</td>\n",
       "      <td>worker_02</td>\n",
       "      <td>test_cyan_texture</td>\n",
       "      <td>Kenny Smith</td>\n",
       "      <td>Halo Anniversary</td>\n",
       "      <td>0 days 00:00:13.856000</td>\n",
       "    </tr>\n",
       "    <tr>\n",
       "      <th>3</th>\n",
       "      <td>44977</td>\n",
       "      <td>2005-06-26 09:06:19.273</td>\n",
       "      <td>2005-06-26 09:10:44.734</td>\n",
       "      <td>success</td>\n",
       "      <td>worker_02</td>\n",
       "      <td>test_cyan_texture</td>\n",
       "      <td>Kenny Smith</td>\n",
       "      <td>Halo Anniversary</td>\n",
       "      <td>0 days 00:04:25.461000</td>\n",
       "    </tr>\n",
       "    <tr>\n",
       "      <th>4</th>\n",
       "      <td>44979</td>\n",
       "      <td>2005-06-26 09:12:00.883</td>\n",
       "      <td>2005-06-26 09:14:29.941</td>\n",
       "      <td>success</td>\n",
       "      <td>worker_04</td>\n",
       "      <td>test_cyan_texture</td>\n",
       "      <td>Kenny Smith</td>\n",
       "      <td>Halo Anniversary</td>\n",
       "      <td>0 days 00:02:29.058000</td>\n",
       "    </tr>\n",
       "  </tbody>\n",
       "</table>\n",
       "</div>"
      ],
      "text/plain": [
       "  task_id              start_time             finish_time   status     worker  \\\n",
       "0   44973 2005-06-26 09:05:45.716 2005-06-26 09:05:45.997  success  worker_00   \n",
       "1   44974 2005-06-26 09:05:46.200 2005-06-26 09:05:46.497  success  worker_01   \n",
       "2   44975 2005-06-26 09:05:47.357 2005-06-26 09:06:01.213  success  worker_02   \n",
       "3   44977 2005-06-26 09:06:19.273 2005-06-26 09:10:44.734  success  worker_02   \n",
       "4   44979 2005-06-26 09:12:00.883 2005-06-26 09:14:29.941  success  worker_04   \n",
       "\n",
       "          build_name       author           project              exec_time  \n",
       "0  test_cyan_texture  Kenny Smith  Halo Anniversary 0 days 00:00:00.281000  \n",
       "1  test_cyan_texture  Kenny Smith  Halo Anniversary 0 days 00:00:00.297000  \n",
       "2  test_cyan_texture  Kenny Smith  Halo Anniversary 0 days 00:00:13.856000  \n",
       "3  test_cyan_texture  Kenny Smith  Halo Anniversary 0 days 00:04:25.461000  \n",
       "4  test_cyan_texture  Kenny Smith  Halo Anniversary 0 days 00:02:29.058000  "
      ]
     },
     "execution_count": 17,
     "metadata": {},
     "output_type": "execute_result"
    }
   ],
   "source": [
    "df.head()"
   ]
  },
  {
   "cell_type": "code",
   "execution_count": 18,
   "id": "a35a135c",
   "metadata": {},
   "outputs": [],
   "source": [
    "df_full_weekly = df.groupby([pd.Grouper(key='start_time', freq='W-MON')])['exec_time'].sum()\\\n",
    "                   .to_frame()\\\n",
    "                   .reset_index()\\\n",
    "                   .rename(columns={'start_time':'first_week_day',\n",
    "                                    'exec_time':'weekly_exec_time'})"
   ]
  },
  {
   "cell_type": "code",
   "execution_count": 19,
   "id": "f724248f",
   "metadata": {},
   "outputs": [
    {
     "data": {
      "text/html": [
       "<div>\n",
       "<style scoped>\n",
       "    .dataframe tbody tr th:only-of-type {\n",
       "        vertical-align: middle;\n",
       "    }\n",
       "\n",
       "    .dataframe tbody tr th {\n",
       "        vertical-align: top;\n",
       "    }\n",
       "\n",
       "    .dataframe thead th {\n",
       "        text-align: right;\n",
       "    }\n",
       "</style>\n",
       "<table border=\"1\" class=\"dataframe\">\n",
       "  <thead>\n",
       "    <tr style=\"text-align: right;\">\n",
       "      <th></th>\n",
       "      <th>first_week_day</th>\n",
       "      <th>weekly_exec_time</th>\n",
       "    </tr>\n",
       "  </thead>\n",
       "  <tbody>\n",
       "    <tr>\n",
       "      <th>0</th>\n",
       "      <td>2005-06-20</td>\n",
       "      <td>35 days 07:46:44.311000</td>\n",
       "    </tr>\n",
       "    <tr>\n",
       "      <th>1</th>\n",
       "      <td>2005-06-27</td>\n",
       "      <td>416 days 08:26:57.456000</td>\n",
       "    </tr>\n",
       "    <tr>\n",
       "      <th>2</th>\n",
       "      <td>2005-07-04</td>\n",
       "      <td>516 days 04:33:09.339000</td>\n",
       "    </tr>\n",
       "    <tr>\n",
       "      <th>3</th>\n",
       "      <td>2005-07-11</td>\n",
       "      <td>432 days 23:50:44.215000</td>\n",
       "    </tr>\n",
       "    <tr>\n",
       "      <th>4</th>\n",
       "      <td>2005-07-18</td>\n",
       "      <td>331 days 18:49:32.790000</td>\n",
       "    </tr>\n",
       "  </tbody>\n",
       "</table>\n",
       "</div>"
      ],
      "text/plain": [
       "  first_week_day         weekly_exec_time\n",
       "0     2005-06-20  35 days 07:46:44.311000\n",
       "1     2005-06-27 416 days 08:26:57.456000\n",
       "2     2005-07-04 516 days 04:33:09.339000\n",
       "3     2005-07-11 432 days 23:50:44.215000\n",
       "4     2005-07-18 331 days 18:49:32.790000"
      ]
     },
     "execution_count": 19,
     "metadata": {},
     "output_type": "execute_result"
    }
   ],
   "source": [
    "df_full_weekly"
   ]
  },
  {
   "cell_type": "code",
   "execution_count": 20,
   "id": "e0297989",
   "metadata": {},
   "outputs": [],
   "source": [
    "df_done = df_full_weekly.merge(df_merged, on='first_week_day', how='inner')"
   ]
  },
  {
   "cell_type": "code",
   "execution_count": 21,
   "id": "c77020ef",
   "metadata": {},
   "outputs": [
    {
     "data": {
      "text/html": [
       "<div>\n",
       "<style scoped>\n",
       "    .dataframe tbody tr th:only-of-type {\n",
       "        vertical-align: middle;\n",
       "    }\n",
       "\n",
       "    .dataframe tbody tr th {\n",
       "        vertical-align: top;\n",
       "    }\n",
       "\n",
       "    .dataframe thead th {\n",
       "        text-align: right;\n",
       "    }\n",
       "</style>\n",
       "<table border=\"1\" class=\"dataframe\">\n",
       "  <thead>\n",
       "    <tr style=\"text-align: right;\">\n",
       "      <th></th>\n",
       "      <th>first_week_day</th>\n",
       "      <th>weekly_exec_time</th>\n",
       "      <th>worker</th>\n",
       "      <th>exec_time</th>\n",
       "    </tr>\n",
       "  </thead>\n",
       "  <tbody>\n",
       "    <tr>\n",
       "      <th>0</th>\n",
       "      <td>2005-06-20</td>\n",
       "      <td>35 days 07:46:44.311000</td>\n",
       "      <td>worker_23</td>\n",
       "      <td>0 days 07:08:15.527000</td>\n",
       "    </tr>\n",
       "    <tr>\n",
       "      <th>1</th>\n",
       "      <td>2005-06-20</td>\n",
       "      <td>35 days 07:46:44.311000</td>\n",
       "      <td>worker_55</td>\n",
       "      <td>0 days 04:16:59.404000</td>\n",
       "    </tr>\n",
       "    <tr>\n",
       "      <th>2</th>\n",
       "      <td>2005-06-20</td>\n",
       "      <td>35 days 07:46:44.311000</td>\n",
       "      <td>worker_50</td>\n",
       "      <td>0 days 04:16:53.708000</td>\n",
       "    </tr>\n",
       "    <tr>\n",
       "      <th>3</th>\n",
       "      <td>2005-06-27</td>\n",
       "      <td>416 days 08:26:57.456000</td>\n",
       "      <td>worker_07</td>\n",
       "      <td>0 days 20:27:04.343000</td>\n",
       "    </tr>\n",
       "    <tr>\n",
       "      <th>4</th>\n",
       "      <td>2005-06-27</td>\n",
       "      <td>416 days 08:26:57.456000</td>\n",
       "      <td>worker_36</td>\n",
       "      <td>0 days 18:26:00.873000</td>\n",
       "    </tr>\n",
       "    <tr>\n",
       "      <th>5</th>\n",
       "      <td>2005-06-27</td>\n",
       "      <td>416 days 08:26:57.456000</td>\n",
       "      <td>worker_11</td>\n",
       "      <td>0 days 17:13:04.766000</td>\n",
       "    </tr>\n",
       "    <tr>\n",
       "      <th>6</th>\n",
       "      <td>2005-07-04</td>\n",
       "      <td>516 days 04:33:09.339000</td>\n",
       "      <td>worker_29</td>\n",
       "      <td>1 days 05:13:42.666000</td>\n",
       "    </tr>\n",
       "    <tr>\n",
       "      <th>7</th>\n",
       "      <td>2005-07-04</td>\n",
       "      <td>516 days 04:33:09.339000</td>\n",
       "      <td>worker_50</td>\n",
       "      <td>0 days 17:58:00.424000</td>\n",
       "    </tr>\n",
       "    <tr>\n",
       "      <th>8</th>\n",
       "      <td>2005-07-04</td>\n",
       "      <td>516 days 04:33:09.339000</td>\n",
       "      <td>worker_46</td>\n",
       "      <td>0 days 17:55:38.039000</td>\n",
       "    </tr>\n",
       "    <tr>\n",
       "      <th>9</th>\n",
       "      <td>2005-07-11</td>\n",
       "      <td>432 days 23:50:44.215000</td>\n",
       "      <td>worker_55</td>\n",
       "      <td>2 days 03:00:12.935000</td>\n",
       "    </tr>\n",
       "    <tr>\n",
       "      <th>10</th>\n",
       "      <td>2005-07-11</td>\n",
       "      <td>432 days 23:50:44.215000</td>\n",
       "      <td>worker_28</td>\n",
       "      <td>1 days 17:02:36.276000</td>\n",
       "    </tr>\n",
       "    <tr>\n",
       "      <th>11</th>\n",
       "      <td>2005-07-11</td>\n",
       "      <td>432 days 23:50:44.215000</td>\n",
       "      <td>worker_23</td>\n",
       "      <td>0 days 09:23:28.456000</td>\n",
       "    </tr>\n",
       "    <tr>\n",
       "      <th>12</th>\n",
       "      <td>2005-07-18</td>\n",
       "      <td>331 days 18:49:32.790000</td>\n",
       "      <td>worker_6d</td>\n",
       "      <td>0 days 11:17:56.515000</td>\n",
       "    </tr>\n",
       "    <tr>\n",
       "      <th>13</th>\n",
       "      <td>2005-07-18</td>\n",
       "      <td>331 days 18:49:32.790000</td>\n",
       "      <td>worker_3a</td>\n",
       "      <td>0 days 09:17:07.583000</td>\n",
       "    </tr>\n",
       "    <tr>\n",
       "      <th>14</th>\n",
       "      <td>2005-07-18</td>\n",
       "      <td>331 days 18:49:32.790000</td>\n",
       "      <td>worker_77</td>\n",
       "      <td>0 days 08:44:06.830000</td>\n",
       "    </tr>\n",
       "  </tbody>\n",
       "</table>\n",
       "</div>"
      ],
      "text/plain": [
       "   first_week_day         weekly_exec_time     worker              exec_time\n",
       "0      2005-06-20  35 days 07:46:44.311000  worker_23 0 days 07:08:15.527000\n",
       "1      2005-06-20  35 days 07:46:44.311000  worker_55 0 days 04:16:59.404000\n",
       "2      2005-06-20  35 days 07:46:44.311000  worker_50 0 days 04:16:53.708000\n",
       "3      2005-06-27 416 days 08:26:57.456000  worker_07 0 days 20:27:04.343000\n",
       "4      2005-06-27 416 days 08:26:57.456000  worker_36 0 days 18:26:00.873000\n",
       "5      2005-06-27 416 days 08:26:57.456000  worker_11 0 days 17:13:04.766000\n",
       "6      2005-07-04 516 days 04:33:09.339000  worker_29 1 days 05:13:42.666000\n",
       "7      2005-07-04 516 days 04:33:09.339000  worker_50 0 days 17:58:00.424000\n",
       "8      2005-07-04 516 days 04:33:09.339000  worker_46 0 days 17:55:38.039000\n",
       "9      2005-07-11 432 days 23:50:44.215000  worker_55 2 days 03:00:12.935000\n",
       "10     2005-07-11 432 days 23:50:44.215000  worker_28 1 days 17:02:36.276000\n",
       "11     2005-07-11 432 days 23:50:44.215000  worker_23 0 days 09:23:28.456000\n",
       "12     2005-07-18 331 days 18:49:32.790000  worker_6d 0 days 11:17:56.515000\n",
       "13     2005-07-18 331 days 18:49:32.790000  worker_3a 0 days 09:17:07.583000\n",
       "14     2005-07-18 331 days 18:49:32.790000  worker_77 0 days 08:44:06.830000"
      ]
     },
     "execution_count": 21,
     "metadata": {},
     "output_type": "execute_result"
    }
   ],
   "source": [
    "df_done"
   ]
  },
  {
   "cell_type": "code",
   "execution_count": 22,
   "id": "6aa612c9",
   "metadata": {},
   "outputs": [],
   "source": [
    "df_done['percent'] = (df_done['exec_time']/df_done['weekly_exec_time'])*100"
   ]
  },
  {
   "cell_type": "code",
   "execution_count": 23,
   "id": "1e95c033",
   "metadata": {
    "scrolled": false
   },
   "outputs": [
    {
     "data": {
      "text/html": [
       "<div>\n",
       "<style scoped>\n",
       "    .dataframe tbody tr th:only-of-type {\n",
       "        vertical-align: middle;\n",
       "    }\n",
       "\n",
       "    .dataframe tbody tr th {\n",
       "        vertical-align: top;\n",
       "    }\n",
       "\n",
       "    .dataframe thead th {\n",
       "        text-align: right;\n",
       "    }\n",
       "</style>\n",
       "<table border=\"1\" class=\"dataframe\">\n",
       "  <thead>\n",
       "    <tr style=\"text-align: right;\">\n",
       "      <th></th>\n",
       "      <th>first_week_day</th>\n",
       "      <th>weekly_exec_time</th>\n",
       "      <th>worker</th>\n",
       "      <th>exec_time</th>\n",
       "      <th>percent</th>\n",
       "    </tr>\n",
       "  </thead>\n",
       "  <tbody>\n",
       "    <tr>\n",
       "      <th>0</th>\n",
       "      <td>2005-06-20</td>\n",
       "      <td>35 days 07:46:44.311000</td>\n",
       "      <td>worker_23</td>\n",
       "      <td>0 days 07:08:15.527000</td>\n",
       "      <td>0.841923</td>\n",
       "    </tr>\n",
       "    <tr>\n",
       "      <th>1</th>\n",
       "      <td>2005-06-20</td>\n",
       "      <td>35 days 07:46:44.311000</td>\n",
       "      <td>worker_55</td>\n",
       "      <td>0 days 04:16:59.404000</td>\n",
       "      <td>0.505222</td>\n",
       "    </tr>\n",
       "    <tr>\n",
       "      <th>2</th>\n",
       "      <td>2005-06-20</td>\n",
       "      <td>35 days 07:46:44.311000</td>\n",
       "      <td>worker_50</td>\n",
       "      <td>0 days 04:16:53.708000</td>\n",
       "      <td>0.505036</td>\n",
       "    </tr>\n",
       "    <tr>\n",
       "      <th>3</th>\n",
       "      <td>2005-06-27</td>\n",
       "      <td>416 days 08:26:57.456000</td>\n",
       "      <td>worker_07</td>\n",
       "      <td>0 days 20:27:04.343000</td>\n",
       "      <td>0.204667</td>\n",
       "    </tr>\n",
       "    <tr>\n",
       "      <th>4</th>\n",
       "      <td>2005-06-27</td>\n",
       "      <td>416 days 08:26:57.456000</td>\n",
       "      <td>worker_36</td>\n",
       "      <td>0 days 18:26:00.873000</td>\n",
       "      <td>0.184475</td>\n",
       "    </tr>\n",
       "    <tr>\n",
       "      <th>5</th>\n",
       "      <td>2005-06-27</td>\n",
       "      <td>416 days 08:26:57.456000</td>\n",
       "      <td>worker_11</td>\n",
       "      <td>0 days 17:13:04.766000</td>\n",
       "      <td>0.172310</td>\n",
       "    </tr>\n",
       "    <tr>\n",
       "      <th>6</th>\n",
       "      <td>2005-07-04</td>\n",
       "      <td>516 days 04:33:09.339000</td>\n",
       "      <td>worker_29</td>\n",
       "      <td>1 days 05:13:42.666000</td>\n",
       "      <td>0.235932</td>\n",
       "    </tr>\n",
       "    <tr>\n",
       "      <th>7</th>\n",
       "      <td>2005-07-04</td>\n",
       "      <td>516 days 04:33:09.339000</td>\n",
       "      <td>worker_50</td>\n",
       "      <td>0 days 17:58:00.424000</td>\n",
       "      <td>0.145027</td>\n",
       "    </tr>\n",
       "    <tr>\n",
       "      <th>8</th>\n",
       "      <td>2005-07-04</td>\n",
       "      <td>516 days 04:33:09.339000</td>\n",
       "      <td>worker_46</td>\n",
       "      <td>0 days 17:55:38.039000</td>\n",
       "      <td>0.144708</td>\n",
       "    </tr>\n",
       "    <tr>\n",
       "      <th>9</th>\n",
       "      <td>2005-07-11</td>\n",
       "      <td>432 days 23:50:44.215000</td>\n",
       "      <td>worker_55</td>\n",
       "      <td>2 days 03:00:12.935000</td>\n",
       "      <td>0.490804</td>\n",
       "    </tr>\n",
       "    <tr>\n",
       "      <th>10</th>\n",
       "      <td>2005-07-11</td>\n",
       "      <td>432 days 23:50:44.215000</td>\n",
       "      <td>worker_28</td>\n",
       "      <td>1 days 17:02:36.276000</td>\n",
       "      <td>0.394958</td>\n",
       "    </tr>\n",
       "    <tr>\n",
       "      <th>11</th>\n",
       "      <td>2005-07-11</td>\n",
       "      <td>432 days 23:50:44.215000</td>\n",
       "      <td>worker_23</td>\n",
       "      <td>0 days 09:23:28.456000</td>\n",
       "      <td>0.090371</td>\n",
       "    </tr>\n",
       "    <tr>\n",
       "      <th>12</th>\n",
       "      <td>2005-07-18</td>\n",
       "      <td>331 days 18:49:32.790000</td>\n",
       "      <td>worker_6d</td>\n",
       "      <td>0 days 11:17:56.515000</td>\n",
       "      <td>0.141897</td>\n",
       "    </tr>\n",
       "    <tr>\n",
       "      <th>13</th>\n",
       "      <td>2005-07-18</td>\n",
       "      <td>331 days 18:49:32.790000</td>\n",
       "      <td>worker_3a</td>\n",
       "      <td>0 days 09:17:07.583000</td>\n",
       "      <td>0.116610</td>\n",
       "    </tr>\n",
       "    <tr>\n",
       "      <th>14</th>\n",
       "      <td>2005-07-18</td>\n",
       "      <td>331 days 18:49:32.790000</td>\n",
       "      <td>worker_77</td>\n",
       "      <td>0 days 08:44:06.830000</td>\n",
       "      <td>0.109700</td>\n",
       "    </tr>\n",
       "  </tbody>\n",
       "</table>\n",
       "</div>"
      ],
      "text/plain": [
       "   first_week_day         weekly_exec_time     worker              exec_time  \\\n",
       "0      2005-06-20  35 days 07:46:44.311000  worker_23 0 days 07:08:15.527000   \n",
       "1      2005-06-20  35 days 07:46:44.311000  worker_55 0 days 04:16:59.404000   \n",
       "2      2005-06-20  35 days 07:46:44.311000  worker_50 0 days 04:16:53.708000   \n",
       "3      2005-06-27 416 days 08:26:57.456000  worker_07 0 days 20:27:04.343000   \n",
       "4      2005-06-27 416 days 08:26:57.456000  worker_36 0 days 18:26:00.873000   \n",
       "5      2005-06-27 416 days 08:26:57.456000  worker_11 0 days 17:13:04.766000   \n",
       "6      2005-07-04 516 days 04:33:09.339000  worker_29 1 days 05:13:42.666000   \n",
       "7      2005-07-04 516 days 04:33:09.339000  worker_50 0 days 17:58:00.424000   \n",
       "8      2005-07-04 516 days 04:33:09.339000  worker_46 0 days 17:55:38.039000   \n",
       "9      2005-07-11 432 days 23:50:44.215000  worker_55 2 days 03:00:12.935000   \n",
       "10     2005-07-11 432 days 23:50:44.215000  worker_28 1 days 17:02:36.276000   \n",
       "11     2005-07-11 432 days 23:50:44.215000  worker_23 0 days 09:23:28.456000   \n",
       "12     2005-07-18 331 days 18:49:32.790000  worker_6d 0 days 11:17:56.515000   \n",
       "13     2005-07-18 331 days 18:49:32.790000  worker_3a 0 days 09:17:07.583000   \n",
       "14     2005-07-18 331 days 18:49:32.790000  worker_77 0 days 08:44:06.830000   \n",
       "\n",
       "     percent  \n",
       "0   0.841923  \n",
       "1   0.505222  \n",
       "2   0.505036  \n",
       "3   0.204667  \n",
       "4   0.184475  \n",
       "5   0.172310  \n",
       "6   0.235932  \n",
       "7   0.145027  \n",
       "8   0.144708  \n",
       "9   0.490804  \n",
       "10  0.394958  \n",
       "11  0.090371  \n",
       "12  0.141897  \n",
       "13  0.116610  \n",
       "14  0.109700  "
      ]
     },
     "execution_count": 23,
     "metadata": {},
     "output_type": "execute_result"
    }
   ],
   "source": [
    "df_done"
   ]
  },
  {
   "cell_type": "markdown",
   "id": "30674cf6",
   "metadata": {},
   "source": [
    "#### Отобразите график с ежедневным потреблением машинного времени каждым проектом."
   ]
  },
  {
   "cell_type": "code",
   "execution_count": 24,
   "id": "407a90df",
   "metadata": {
    "scrolled": false
   },
   "outputs": [
    {
     "data": {
      "text/html": [
       "<div>\n",
       "<style scoped>\n",
       "    .dataframe tbody tr th:only-of-type {\n",
       "        vertical-align: middle;\n",
       "    }\n",
       "\n",
       "    .dataframe tbody tr th {\n",
       "        vertical-align: top;\n",
       "    }\n",
       "\n",
       "    .dataframe thead th {\n",
       "        text-align: right;\n",
       "    }\n",
       "</style>\n",
       "<table border=\"1\" class=\"dataframe\">\n",
       "  <thead>\n",
       "    <tr style=\"text-align: right;\">\n",
       "      <th></th>\n",
       "      <th>first_week_day</th>\n",
       "      <th>daily_exec_time</th>\n",
       "    </tr>\n",
       "  </thead>\n",
       "  <tbody>\n",
       "    <tr>\n",
       "      <th>0</th>\n",
       "      <td>2005-06-20</td>\n",
       "      <td>35 days 07:46:44.311000</td>\n",
       "    </tr>\n",
       "    <tr>\n",
       "      <th>1</th>\n",
       "      <td>2005-06-21</td>\n",
       "      <td>48 days 06:14:40.855000</td>\n",
       "    </tr>\n",
       "    <tr>\n",
       "      <th>2</th>\n",
       "      <td>2005-06-22</td>\n",
       "      <td>58 days 22:59:15.207000</td>\n",
       "    </tr>\n",
       "    <tr>\n",
       "      <th>3</th>\n",
       "      <td>2005-06-23</td>\n",
       "      <td>60 days 03:27:31.876000</td>\n",
       "    </tr>\n",
       "    <tr>\n",
       "      <th>4</th>\n",
       "      <td>2005-06-24</td>\n",
       "      <td>64 days 05:57:13.093000</td>\n",
       "    </tr>\n",
       "    <tr>\n",
       "      <th>5</th>\n",
       "      <td>2005-06-25</td>\n",
       "      <td>56 days 01:32:36.349000</td>\n",
       "    </tr>\n",
       "    <tr>\n",
       "      <th>6</th>\n",
       "      <td>2005-06-26</td>\n",
       "      <td>55 days 02:07:31.325000</td>\n",
       "    </tr>\n",
       "    <tr>\n",
       "      <th>7</th>\n",
       "      <td>2005-06-27</td>\n",
       "      <td>73 days 14:08:08.751000</td>\n",
       "    </tr>\n",
       "    <tr>\n",
       "      <th>8</th>\n",
       "      <td>2005-06-28</td>\n",
       "      <td>73 days 13:58:47.396000</td>\n",
       "    </tr>\n",
       "    <tr>\n",
       "      <th>9</th>\n",
       "      <td>2005-06-29</td>\n",
       "      <td>74 days 22:52:46.462000</td>\n",
       "    </tr>\n",
       "    <tr>\n",
       "      <th>10</th>\n",
       "      <td>2005-06-30</td>\n",
       "      <td>75 days 02:13:01.088000</td>\n",
       "    </tr>\n",
       "    <tr>\n",
       "      <th>11</th>\n",
       "      <td>2005-07-01</td>\n",
       "      <td>77 days 05:52:03.636000</td>\n",
       "    </tr>\n",
       "    <tr>\n",
       "      <th>12</th>\n",
       "      <td>2005-07-02</td>\n",
       "      <td>74 days 07:12:44.593000</td>\n",
       "    </tr>\n",
       "    <tr>\n",
       "      <th>13</th>\n",
       "      <td>2005-07-03</td>\n",
       "      <td>68 days 10:09:41.317000</td>\n",
       "    </tr>\n",
       "    <tr>\n",
       "      <th>14</th>\n",
       "      <td>2005-07-04</td>\n",
       "      <td>72 days 14:14:04.847000</td>\n",
       "    </tr>\n",
       "    <tr>\n",
       "      <th>15</th>\n",
       "      <td>2005-07-05</td>\n",
       "      <td>72 days 03:10:47.164000</td>\n",
       "    </tr>\n",
       "    <tr>\n",
       "      <th>16</th>\n",
       "      <td>2005-07-06</td>\n",
       "      <td>74 days 15:36:00.628000</td>\n",
       "    </tr>\n",
       "    <tr>\n",
       "      <th>17</th>\n",
       "      <td>2005-07-07</td>\n",
       "      <td>78 days 18:41:11.621000</td>\n",
       "    </tr>\n",
       "    <tr>\n",
       "      <th>18</th>\n",
       "      <td>2005-07-08</td>\n",
       "      <td>42 days 02:50:21.333000</td>\n",
       "    </tr>\n",
       "    <tr>\n",
       "      <th>19</th>\n",
       "      <td>2005-07-09</td>\n",
       "      <td>31 days 11:38:44.084000</td>\n",
       "    </tr>\n",
       "    <tr>\n",
       "      <th>20</th>\n",
       "      <td>2005-07-10</td>\n",
       "      <td>65 days 15:53:58.782000</td>\n",
       "    </tr>\n",
       "    <tr>\n",
       "      <th>21</th>\n",
       "      <td>2005-07-11</td>\n",
       "      <td>68 days 03:59:40.603000</td>\n",
       "    </tr>\n",
       "    <tr>\n",
       "      <th>22</th>\n",
       "      <td>2005-07-12</td>\n",
       "      <td>76 days 16:59:56.368000</td>\n",
       "    </tr>\n",
       "    <tr>\n",
       "      <th>23</th>\n",
       "      <td>2005-07-13</td>\n",
       "      <td>71 days 18:17:49.027000</td>\n",
       "    </tr>\n",
       "    <tr>\n",
       "      <th>24</th>\n",
       "      <td>2005-07-14</td>\n",
       "      <td>60 days 20:32:26.161000</td>\n",
       "    </tr>\n",
       "    <tr>\n",
       "      <th>25</th>\n",
       "      <td>2005-07-15</td>\n",
       "      <td>28 days 09:29:16.173000</td>\n",
       "    </tr>\n",
       "    <tr>\n",
       "      <th>26</th>\n",
       "      <td>2005-07-16</td>\n",
       "      <td>30 days 05:07:14.599000</td>\n",
       "    </tr>\n",
       "    <tr>\n",
       "      <th>27</th>\n",
       "      <td>2005-07-17</td>\n",
       "      <td>63 days 20:22:50.462000</td>\n",
       "    </tr>\n",
       "  </tbody>\n",
       "</table>\n",
       "</div>"
      ],
      "text/plain": [
       "   first_week_day         daily_exec_time\n",
       "0      2005-06-20 35 days 07:46:44.311000\n",
       "1      2005-06-21 48 days 06:14:40.855000\n",
       "2      2005-06-22 58 days 22:59:15.207000\n",
       "3      2005-06-23 60 days 03:27:31.876000\n",
       "4      2005-06-24 64 days 05:57:13.093000\n",
       "5      2005-06-25 56 days 01:32:36.349000\n",
       "6      2005-06-26 55 days 02:07:31.325000\n",
       "7      2005-06-27 73 days 14:08:08.751000\n",
       "8      2005-06-28 73 days 13:58:47.396000\n",
       "9      2005-06-29 74 days 22:52:46.462000\n",
       "10     2005-06-30 75 days 02:13:01.088000\n",
       "11     2005-07-01 77 days 05:52:03.636000\n",
       "12     2005-07-02 74 days 07:12:44.593000\n",
       "13     2005-07-03 68 days 10:09:41.317000\n",
       "14     2005-07-04 72 days 14:14:04.847000\n",
       "15     2005-07-05 72 days 03:10:47.164000\n",
       "16     2005-07-06 74 days 15:36:00.628000\n",
       "17     2005-07-07 78 days 18:41:11.621000\n",
       "18     2005-07-08 42 days 02:50:21.333000\n",
       "19     2005-07-09 31 days 11:38:44.084000\n",
       "20     2005-07-10 65 days 15:53:58.782000\n",
       "21     2005-07-11 68 days 03:59:40.603000\n",
       "22     2005-07-12 76 days 16:59:56.368000\n",
       "23     2005-07-13 71 days 18:17:49.027000\n",
       "24     2005-07-14 60 days 20:32:26.161000\n",
       "25     2005-07-15 28 days 09:29:16.173000\n",
       "26     2005-07-16 30 days 05:07:14.599000\n",
       "27     2005-07-17 63 days 20:22:50.462000"
      ]
     },
     "execution_count": 24,
     "metadata": {},
     "output_type": "execute_result"
    }
   ],
   "source": [
    "df.groupby([pd.Grouper(key='start_time', freq='D')])['exec_time'].sum()\\\n",
    "                   .to_frame()\\\n",
    "                   .reset_index()\\\n",
    "                   .rename(columns={'start_time':'first_week_day',\n",
    "                                    'exec_time':'daily_exec_time'})"
   ]
  },
  {
   "cell_type": "code",
   "execution_count": 25,
   "id": "cae58296",
   "metadata": {},
   "outputs": [],
   "source": [
    "df_daily_by_prjct = df.groupby([pd.Grouper(key='start_time', freq='D'), 'project'])['exec_time'].sum()\\\n",
    "                        .reset_index()\\\n",
    "                        .rename(columns={'start_time':'day'})"
   ]
  },
  {
   "cell_type": "code",
   "execution_count": 26,
   "id": "24c39da8",
   "metadata": {
    "scrolled": false
   },
   "outputs": [
    {
     "data": {
      "text/html": [
       "<div>\n",
       "<style scoped>\n",
       "    .dataframe tbody tr th:only-of-type {\n",
       "        vertical-align: middle;\n",
       "    }\n",
       "\n",
       "    .dataframe tbody tr th {\n",
       "        vertical-align: top;\n",
       "    }\n",
       "\n",
       "    .dataframe thead th {\n",
       "        text-align: right;\n",
       "    }\n",
       "</style>\n",
       "<table border=\"1\" class=\"dataframe\">\n",
       "  <thead>\n",
       "    <tr style=\"text-align: right;\">\n",
       "      <th></th>\n",
       "      <th>day</th>\n",
       "      <th>project</th>\n",
       "      <th>exec_time</th>\n",
       "    </tr>\n",
       "  </thead>\n",
       "  <tbody>\n",
       "    <tr>\n",
       "      <th>0</th>\n",
       "      <td>2005-06-20</td>\n",
       "      <td>Halo Anniversary</td>\n",
       "      <td>1 days 03:40:33.074000</td>\n",
       "    </tr>\n",
       "    <tr>\n",
       "      <th>1</th>\n",
       "      <td>2005-06-20</td>\n",
       "      <td>Mud Runner</td>\n",
       "      <td>8 days 11:36:55.307000</td>\n",
       "    </tr>\n",
       "    <tr>\n",
       "      <th>2</th>\n",
       "      <td>2005-06-20</td>\n",
       "      <td>Quake Champions</td>\n",
       "      <td>3 days 07:32:01.192000</td>\n",
       "    </tr>\n",
       "    <tr>\n",
       "      <th>3</th>\n",
       "      <td>2005-06-20</td>\n",
       "      <td>Timeshift</td>\n",
       "      <td>16 days 02:31:50.384000</td>\n",
       "    </tr>\n",
       "    <tr>\n",
       "      <th>4</th>\n",
       "      <td>2005-06-20</td>\n",
       "      <td>World War Z</td>\n",
       "      <td>6 days 06:25:24.354000</td>\n",
       "    </tr>\n",
       "    <tr>\n",
       "      <th>...</th>\n",
       "      <td>...</td>\n",
       "      <td>...</td>\n",
       "      <td>...</td>\n",
       "    </tr>\n",
       "    <tr>\n",
       "      <th>135</th>\n",
       "      <td>2005-07-17</td>\n",
       "      <td>Halo Anniversary</td>\n",
       "      <td>1 days 17:42:19.103000</td>\n",
       "    </tr>\n",
       "    <tr>\n",
       "      <th>136</th>\n",
       "      <td>2005-07-17</td>\n",
       "      <td>Mud Runner</td>\n",
       "      <td>10 days 16:24:47.935000</td>\n",
       "    </tr>\n",
       "    <tr>\n",
       "      <th>137</th>\n",
       "      <td>2005-07-17</td>\n",
       "      <td>Quake Champions</td>\n",
       "      <td>3 days 03:01:23.476000</td>\n",
       "    </tr>\n",
       "    <tr>\n",
       "      <th>138</th>\n",
       "      <td>2005-07-17</td>\n",
       "      <td>Timeshift</td>\n",
       "      <td>38 days 15:23:44.185000</td>\n",
       "    </tr>\n",
       "    <tr>\n",
       "      <th>139</th>\n",
       "      <td>2005-07-17</td>\n",
       "      <td>World War Z</td>\n",
       "      <td>9 days 15:50:35.763000</td>\n",
       "    </tr>\n",
       "  </tbody>\n",
       "</table>\n",
       "<p>140 rows × 3 columns</p>\n",
       "</div>"
      ],
      "text/plain": [
       "           day           project               exec_time\n",
       "0   2005-06-20  Halo Anniversary  1 days 03:40:33.074000\n",
       "1   2005-06-20        Mud Runner  8 days 11:36:55.307000\n",
       "2   2005-06-20   Quake Champions  3 days 07:32:01.192000\n",
       "3   2005-06-20         Timeshift 16 days 02:31:50.384000\n",
       "4   2005-06-20       World War Z  6 days 06:25:24.354000\n",
       "..         ...               ...                     ...\n",
       "135 2005-07-17  Halo Anniversary  1 days 17:42:19.103000\n",
       "136 2005-07-17        Mud Runner 10 days 16:24:47.935000\n",
       "137 2005-07-17   Quake Champions  3 days 03:01:23.476000\n",
       "138 2005-07-17         Timeshift 38 days 15:23:44.185000\n",
       "139 2005-07-17       World War Z  9 days 15:50:35.763000\n",
       "\n",
       "[140 rows x 3 columns]"
      ]
     },
     "execution_count": 26,
     "metadata": {},
     "output_type": "execute_result"
    }
   ],
   "source": [
    "df_daily_by_prjct"
   ]
  },
  {
   "cell_type": "code",
   "execution_count": 27,
   "id": "b0fa5064",
   "metadata": {
    "scrolled": true
   },
   "outputs": [
    {
     "name": "stdout",
     "output_type": "stream",
     "text": [
      "<class 'pandas.core.frame.DataFrame'>\n",
      "RangeIndex: 140 entries, 0 to 139\n",
      "Data columns (total 3 columns):\n",
      " #   Column     Non-Null Count  Dtype          \n",
      "---  ------     --------------  -----          \n",
      " 0   day        140 non-null    datetime64[ns] \n",
      " 1   project    140 non-null    object         \n",
      " 2   exec_time  140 non-null    timedelta64[ns]\n",
      "dtypes: datetime64[ns](1), object(1), timedelta64[ns](1)\n",
      "memory usage: 3.4+ KB\n"
     ]
    }
   ],
   "source": [
    "df_daily_by_prjct.info()"
   ]
  },
  {
   "cell_type": "code",
   "execution_count": 28,
   "id": "3eead525",
   "metadata": {},
   "outputs": [],
   "source": [
    "df_daily_by_prjct['minutes'] = df_daily_by_prjct['exec_time']/pd.Timedelta(minutes=1)"
   ]
  },
  {
   "cell_type": "code",
   "execution_count": 29,
   "id": "d39f82e6",
   "metadata": {
    "scrolled": true
   },
   "outputs": [
    {
     "data": {
      "text/html": [
       "<div>\n",
       "<style scoped>\n",
       "    .dataframe tbody tr th:only-of-type {\n",
       "        vertical-align: middle;\n",
       "    }\n",
       "\n",
       "    .dataframe tbody tr th {\n",
       "        vertical-align: top;\n",
       "    }\n",
       "\n",
       "    .dataframe thead th {\n",
       "        text-align: right;\n",
       "    }\n",
       "</style>\n",
       "<table border=\"1\" class=\"dataframe\">\n",
       "  <thead>\n",
       "    <tr style=\"text-align: right;\">\n",
       "      <th></th>\n",
       "      <th>day</th>\n",
       "      <th>project</th>\n",
       "      <th>exec_time</th>\n",
       "      <th>minutes</th>\n",
       "    </tr>\n",
       "  </thead>\n",
       "  <tbody>\n",
       "    <tr>\n",
       "      <th>0</th>\n",
       "      <td>2005-06-20</td>\n",
       "      <td>Halo Anniversary</td>\n",
       "      <td>1 days 03:40:33.074000</td>\n",
       "      <td>1660.551233</td>\n",
       "    </tr>\n",
       "    <tr>\n",
       "      <th>1</th>\n",
       "      <td>2005-06-20</td>\n",
       "      <td>Mud Runner</td>\n",
       "      <td>8 days 11:36:55.307000</td>\n",
       "      <td>12216.921783</td>\n",
       "    </tr>\n",
       "    <tr>\n",
       "      <th>2</th>\n",
       "      <td>2005-06-20</td>\n",
       "      <td>Quake Champions</td>\n",
       "      <td>3 days 07:32:01.192000</td>\n",
       "      <td>4772.019867</td>\n",
       "    </tr>\n",
       "    <tr>\n",
       "      <th>3</th>\n",
       "      <td>2005-06-20</td>\n",
       "      <td>Timeshift</td>\n",
       "      <td>16 days 02:31:50.384000</td>\n",
       "      <td>23191.839733</td>\n",
       "    </tr>\n",
       "    <tr>\n",
       "      <th>4</th>\n",
       "      <td>2005-06-20</td>\n",
       "      <td>World War Z</td>\n",
       "      <td>6 days 06:25:24.354000</td>\n",
       "      <td>9025.405900</td>\n",
       "    </tr>\n",
       "  </tbody>\n",
       "</table>\n",
       "</div>"
      ],
      "text/plain": [
       "         day           project               exec_time       minutes\n",
       "0 2005-06-20  Halo Anniversary  1 days 03:40:33.074000   1660.551233\n",
       "1 2005-06-20        Mud Runner  8 days 11:36:55.307000  12216.921783\n",
       "2 2005-06-20   Quake Champions  3 days 07:32:01.192000   4772.019867\n",
       "3 2005-06-20         Timeshift 16 days 02:31:50.384000  23191.839733\n",
       "4 2005-06-20       World War Z  6 days 06:25:24.354000   9025.405900"
      ]
     },
     "execution_count": 29,
     "metadata": {},
     "output_type": "execute_result"
    }
   ],
   "source": [
    "df_daily_by_prjct.head()"
   ]
  },
  {
   "cell_type": "code",
   "execution_count": 30,
   "id": "2a32a2fd",
   "metadata": {},
   "outputs": [],
   "source": [
    "ticklabels = df_daily_by_prjct['day'].dt.strftime('%Y %m %d').unique()"
   ]
  },
  {
   "cell_type": "code",
   "execution_count": 31,
   "id": "e0e6bb48",
   "metadata": {
    "scrolled": false
   },
   "outputs": [
    {
     "data": {
      "image/png": "[encoded data removed]",
      "text/plain": [
       "<Figure size 720x2880 with 1 Axes>"
      ]
     },
     "metadata": {
      "needs_background": "light"
     },
     "output_type": "display_data"
    }
   ],
   "source": [
    "fig, ax = plt.subplots(figsize=(10,40))\n",
    "\n",
    "sns.barplot(data=df_daily_by_prjct, x='minutes', y='day', hue='project')\n",
    "plt.xticks(np.arange(0,100000, 10000))\n",
    "ax.yaxis.set_major_formatter(ticker.FixedFormatter(ticklabels))\n",
    "plt.grid(axis='x', alpha=0.3)"
   ]
  },
  {
   "cell_type": "markdown",
   "id": "0969350b",
   "metadata": {},
   "source": [
    "#### Рассмотрим еженедельное общее потребление ресурсов. На второй неделе можно заметить всплеск нагруки с ее последующим планомерным снижением. Проанализируйте и сделайте выводы, с чем связано подобное поведение."
   ]
  },
  {
   "cell_type": "code",
   "execution_count": 32,
   "id": "a4231312",
   "metadata": {},
   "outputs": [
    {
     "data": {
      "text/html": [
       "<div>\n",
       "<style scoped>\n",
       "    .dataframe tbody tr th:only-of-type {\n",
       "        vertical-align: middle;\n",
       "    }\n",
       "\n",
       "    .dataframe tbody tr th {\n",
       "        vertical-align: top;\n",
       "    }\n",
       "\n",
       "    .dataframe thead th {\n",
       "        text-align: right;\n",
       "    }\n",
       "</style>\n",
       "<table border=\"1\" class=\"dataframe\">\n",
       "  <thead>\n",
       "    <tr style=\"text-align: right;\">\n",
       "      <th></th>\n",
       "      <th>first_week_day</th>\n",
       "      <th>weekly_exec_time</th>\n",
       "    </tr>\n",
       "  </thead>\n",
       "  <tbody>\n",
       "    <tr>\n",
       "      <th>0</th>\n",
       "      <td>2005-06-20</td>\n",
       "      <td>35 days 07:46:44.311000</td>\n",
       "    </tr>\n",
       "    <tr>\n",
       "      <th>1</th>\n",
       "      <td>2005-06-27</td>\n",
       "      <td>416 days 08:26:57.456000</td>\n",
       "    </tr>\n",
       "    <tr>\n",
       "      <th>2</th>\n",
       "      <td>2005-07-04</td>\n",
       "      <td>516 days 04:33:09.339000</td>\n",
       "    </tr>\n",
       "    <tr>\n",
       "      <th>3</th>\n",
       "      <td>2005-07-11</td>\n",
       "      <td>432 days 23:50:44.215000</td>\n",
       "    </tr>\n",
       "    <tr>\n",
       "      <th>4</th>\n",
       "      <td>2005-07-18</td>\n",
       "      <td>331 days 18:49:32.790000</td>\n",
       "    </tr>\n",
       "  </tbody>\n",
       "</table>\n",
       "</div>"
      ],
      "text/plain": [
       "  first_week_day         weekly_exec_time\n",
       "0     2005-06-20  35 days 07:46:44.311000\n",
       "1     2005-06-27 416 days 08:26:57.456000\n",
       "2     2005-07-04 516 days 04:33:09.339000\n",
       "3     2005-07-11 432 days 23:50:44.215000\n",
       "4     2005-07-18 331 days 18:49:32.790000"
      ]
     },
     "execution_count": 32,
     "metadata": {},
     "output_type": "execute_result"
    }
   ],
   "source": [
    "df_full_weekly"
   ]
  },
  {
   "cell_type": "markdown",
   "id": "972b8f9f",
   "metadata": {},
   "source": [
    "В первоначальный датафрейм добавлю время выполнения, выраженное в минутах"
   ]
  },
  {
   "cell_type": "code",
   "execution_count": 33,
   "id": "aaf50ae9",
   "metadata": {
    "scrolled": true
   },
   "outputs": [],
   "source": [
    "df['minutes'] = df['exec_time']/pd.Timedelta(minutes=1)"
   ]
  },
  {
   "cell_type": "code",
   "execution_count": 34,
   "id": "51707f03",
   "metadata": {
    "scrolled": false
   },
   "outputs": [
    {
     "data": {
      "text/html": [
       "<div>\n",
       "<style scoped>\n",
       "    .dataframe tbody tr th:only-of-type {\n",
       "        vertical-align: middle;\n",
       "    }\n",
       "\n",
       "    .dataframe tbody tr th {\n",
       "        vertical-align: top;\n",
       "    }\n",
       "\n",
       "    .dataframe thead th {\n",
       "        text-align: right;\n",
       "    }\n",
       "</style>\n",
       "<table border=\"1\" class=\"dataframe\">\n",
       "  <thead>\n",
       "    <tr style=\"text-align: right;\">\n",
       "      <th></th>\n",
       "      <th>task_id</th>\n",
       "      <th>start_time</th>\n",
       "      <th>finish_time</th>\n",
       "      <th>status</th>\n",
       "      <th>worker</th>\n",
       "      <th>build_name</th>\n",
       "      <th>author</th>\n",
       "      <th>project</th>\n",
       "      <th>exec_time</th>\n",
       "      <th>minutes</th>\n",
       "    </tr>\n",
       "  </thead>\n",
       "  <tbody>\n",
       "    <tr>\n",
       "      <th>0</th>\n",
       "      <td>44973</td>\n",
       "      <td>2005-06-26 09:05:45.716</td>\n",
       "      <td>2005-06-26 09:05:45.997</td>\n",
       "      <td>success</td>\n",
       "      <td>worker_00</td>\n",
       "      <td>test_cyan_texture</td>\n",
       "      <td>Kenny Smith</td>\n",
       "      <td>Halo Anniversary</td>\n",
       "      <td>0 days 00:00:00.281000</td>\n",
       "      <td>0.004683</td>\n",
       "    </tr>\n",
       "    <tr>\n",
       "      <th>1</th>\n",
       "      <td>44974</td>\n",
       "      <td>2005-06-26 09:05:46.200</td>\n",
       "      <td>2005-06-26 09:05:46.497</td>\n",
       "      <td>success</td>\n",
       "      <td>worker_01</td>\n",
       "      <td>test_cyan_texture</td>\n",
       "      <td>Kenny Smith</td>\n",
       "      <td>Halo Anniversary</td>\n",
       "      <td>0 days 00:00:00.297000</td>\n",
       "      <td>0.004950</td>\n",
       "    </tr>\n",
       "    <tr>\n",
       "      <th>2</th>\n",
       "      <td>44975</td>\n",
       "      <td>2005-06-26 09:05:47.357</td>\n",
       "      <td>2005-06-26 09:06:01.213</td>\n",
       "      <td>success</td>\n",
       "      <td>worker_02</td>\n",
       "      <td>test_cyan_texture</td>\n",
       "      <td>Kenny Smith</td>\n",
       "      <td>Halo Anniversary</td>\n",
       "      <td>0 days 00:00:13.856000</td>\n",
       "      <td>0.230933</td>\n",
       "    </tr>\n",
       "    <tr>\n",
       "      <th>3</th>\n",
       "      <td>44977</td>\n",
       "      <td>2005-06-26 09:06:19.273</td>\n",
       "      <td>2005-06-26 09:10:44.734</td>\n",
       "      <td>success</td>\n",
       "      <td>worker_02</td>\n",
       "      <td>test_cyan_texture</td>\n",
       "      <td>Kenny Smith</td>\n",
       "      <td>Halo Anniversary</td>\n",
       "      <td>0 days 00:04:25.461000</td>\n",
       "      <td>4.424350</td>\n",
       "    </tr>\n",
       "    <tr>\n",
       "      <th>4</th>\n",
       "      <td>44979</td>\n",
       "      <td>2005-06-26 09:12:00.883</td>\n",
       "      <td>2005-06-26 09:14:29.941</td>\n",
       "      <td>success</td>\n",
       "      <td>worker_04</td>\n",
       "      <td>test_cyan_texture</td>\n",
       "      <td>Kenny Smith</td>\n",
       "      <td>Halo Anniversary</td>\n",
       "      <td>0 days 00:02:29.058000</td>\n",
       "      <td>2.484300</td>\n",
       "    </tr>\n",
       "  </tbody>\n",
       "</table>\n",
       "</div>"
      ],
      "text/plain": [
       "  task_id              start_time             finish_time   status     worker  \\\n",
       "0   44973 2005-06-26 09:05:45.716 2005-06-26 09:05:45.997  success  worker_00   \n",
       "1   44974 2005-06-26 09:05:46.200 2005-06-26 09:05:46.497  success  worker_01   \n",
       "2   44975 2005-06-26 09:05:47.357 2005-06-26 09:06:01.213  success  worker_02   \n",
       "3   44977 2005-06-26 09:06:19.273 2005-06-26 09:10:44.734  success  worker_02   \n",
       "4   44979 2005-06-26 09:12:00.883 2005-06-26 09:14:29.941  success  worker_04   \n",
       "\n",
       "          build_name       author           project              exec_time  \\\n",
       "0  test_cyan_texture  Kenny Smith  Halo Anniversary 0 days 00:00:00.281000   \n",
       "1  test_cyan_texture  Kenny Smith  Halo Anniversary 0 days 00:00:00.297000   \n",
       "2  test_cyan_texture  Kenny Smith  Halo Anniversary 0 days 00:00:13.856000   \n",
       "3  test_cyan_texture  Kenny Smith  Halo Anniversary 0 days 00:04:25.461000   \n",
       "4  test_cyan_texture  Kenny Smith  Halo Anniversary 0 days 00:02:29.058000   \n",
       "\n",
       "    minutes  \n",
       "0  0.004683  \n",
       "1  0.004950  \n",
       "2  0.230933  \n",
       "3  4.424350  \n",
       "4  2.484300  "
      ]
     },
     "execution_count": 34,
     "metadata": {},
     "output_type": "execute_result"
    }
   ],
   "source": [
    "df.head()"
   ]
  },
  {
   "cell_type": "markdown",
   "id": "f0180237",
   "metadata": {},
   "source": [
    "Сделаю датафрейм первой недели"
   ]
  },
  {
   "cell_type": "code",
   "execution_count": 35,
   "id": "55adc37b",
   "metadata": {},
   "outputs": [],
   "source": [
    "df_1st_week = df.loc[df['start_time']<df_full_weekly.iloc[1,0],:]"
   ]
  },
  {
   "cell_type": "markdown",
   "id": "bbc1f9cd",
   "metadata": {},
   "source": [
    "Второй недели"
   ]
  },
  {
   "cell_type": "code",
   "execution_count": 36,
   "id": "7fdff27a",
   "metadata": {},
   "outputs": [],
   "source": [
    "df_2nd_week = df.loc[(df['start_time']<df_full_weekly.iloc[2,0]) & (df['start_time']>df_full_weekly.iloc[1,0]),:]"
   ]
  },
  {
   "cell_type": "markdown",
   "id": "811ddf60",
   "metadata": {},
   "source": [
    "Сначала проверю является разница в затраченных ресурсах статистически значимой "
   ]
  },
  {
   "cell_type": "markdown",
   "id": "1fdf0bbb",
   "metadata": {},
   "source": [
    "Можно заметить, что диапазон значений минут, затраченных на таску очень большой, поэтому явно будет смещение и большое количество выбросов, поэтому стоит применить непараметрический критерий. Нулевая гипотеза: нет различий в медианных значениях затраченных ресурсов 1 и 2 недели; альфа=0.05"
   ]
  },
  {
   "cell_type": "code",
   "execution_count": 37,
   "id": "1029dd3d",
   "metadata": {},
   "outputs": [
    {
     "data": {
      "text/plain": [
       "MannwhitneyuResult(statistic=689504349.0, pvalue=5.555931421360357e-38)"
      ]
     },
     "execution_count": 37,
     "metadata": {},
     "output_type": "execute_result"
    }
   ],
   "source": [
    "scipy.stats.mannwhitneyu(df_1st_week['minutes'], df_2nd_week['minutes'])"
   ]
  },
  {
   "cell_type": "markdown",
   "id": "7ef2c1d8",
   "metadata": {},
   "source": [
    "P-value меньше уровня значимости, поэтому, медианно есть статистически значимая разница в затраченных ресурсах для 1 и 2 недели"
   ]
  },
  {
   "cell_type": "markdown",
   "id": "3a895007",
   "metadata": {},
   "source": [
    "Сначала посмотрю на вообще количество задач, которые были за первую и вторую недели"
   ]
  },
  {
   "cell_type": "code",
   "execution_count": 38,
   "id": "4b63c4f8",
   "metadata": {},
   "outputs": [
    {
     "data": {
      "text/plain": [
       "37093"
      ]
     },
     "execution_count": 38,
     "metadata": {},
     "output_type": "execute_result"
    }
   ],
   "source": [
    "df_1st_week.shape[0]"
   ]
  },
  {
   "cell_type": "code",
   "execution_count": 39,
   "id": "b136a6f2",
   "metadata": {},
   "outputs": [
    {
     "data": {
      "text/plain": [
       "39293"
      ]
     },
     "execution_count": 39,
     "metadata": {},
     "output_type": "execute_result"
    }
   ],
   "source": [
    "df_2nd_week.shape[0]"
   ]
  },
  {
   "cell_type": "markdown",
   "id": "2a78e3a0",
   "metadata": {},
   "source": [
    "Проверю среднее время, затраченное на задачу"
   ]
  },
  {
   "cell_type": "code",
   "execution_count": 40,
   "id": "4905ce3c",
   "metadata": {},
   "outputs": [
    {
     "data": {
      "text/plain": [
       "Timedelta('0 days 00:14:40.671097403')"
      ]
     },
     "execution_count": 40,
     "metadata": {},
     "output_type": "execute_result"
    }
   ],
   "source": [
    "df_1st_week['exec_time'].mean()"
   ]
  },
  {
   "cell_type": "code",
   "execution_count": 41,
   "id": "e6b1053f",
   "metadata": {},
   "outputs": [
    {
     "data": {
      "text/plain": [
       "Timedelta('0 days 00:18:57.221216069')"
      ]
     },
     "execution_count": 41,
     "metadata": {},
     "output_type": "execute_result"
    }
   ],
   "source": [
    "df_2nd_week['exec_time'].mean()"
   ]
  },
  {
   "cell_type": "markdown",
   "id": "3e90f14b",
   "metadata": {},
   "source": [
    "Видно, что вдобавок еще и среднее время выполнения задачи увеличилось. Посмотрю на медианное значение"
   ]
  },
  {
   "cell_type": "code",
   "execution_count": 42,
   "id": "8d38504c",
   "metadata": {},
   "outputs": [
    {
     "data": {
      "text/plain": [
       "Timedelta('0 days 00:03:09.060000')"
      ]
     },
     "execution_count": 42,
     "metadata": {},
     "output_type": "execute_result"
    }
   ],
   "source": [
    "df_1st_week['exec_time'].median()"
   ]
  },
  {
   "cell_type": "code",
   "execution_count": 43,
   "id": "4afd957e",
   "metadata": {},
   "outputs": [
    {
     "data": {
      "text/plain": [
       "Timedelta('0 days 00:04:41.579000')"
      ]
     },
     "execution_count": 43,
     "metadata": {},
     "output_type": "execute_result"
    }
   ],
   "source": [
    "df_2nd_week['exec_time'].median()"
   ]
  },
  {
   "cell_type": "markdown",
   "id": "87e6e636",
   "metadata": {},
   "source": [
    "Для второй недели мединное значение тоже больше"
   ]
  },
  {
   "cell_type": "markdown",
   "id": "60c26eab",
   "metadata": {},
   "source": [
    "Самой простой причиной увеличения количества затраченных ресурсов может быть увеличение количества тасок. Посмотрю связь количества затраченных ресурсов относительно каждого проекта с количеством тасок на каждый проект для двух недель"
   ]
  },
  {
   "cell_type": "code",
   "execution_count": 44,
   "id": "12663c8f",
   "metadata": {},
   "outputs": [],
   "source": [
    "df1_tasks = df_1st_week['project'].value_counts()\\\n",
    "                      .to_frame()\\\n",
    "                      .reset_index()\\\n",
    "                      .rename(columns={'index':'project','project':'num_tasks'})"
   ]
  },
  {
   "cell_type": "code",
   "execution_count": 45,
   "id": "740142ad",
   "metadata": {},
   "outputs": [
    {
     "data": {
      "text/html": [
       "<div>\n",
       "<style scoped>\n",
       "    .dataframe tbody tr th:only-of-type {\n",
       "        vertical-align: middle;\n",
       "    }\n",
       "\n",
       "    .dataframe tbody tr th {\n",
       "        vertical-align: top;\n",
       "    }\n",
       "\n",
       "    .dataframe thead th {\n",
       "        text-align: right;\n",
       "    }\n",
       "</style>\n",
       "<table border=\"1\" class=\"dataframe\">\n",
       "  <thead>\n",
       "    <tr style=\"text-align: right;\">\n",
       "      <th></th>\n",
       "      <th>project</th>\n",
       "      <th>num_tasks</th>\n",
       "    </tr>\n",
       "  </thead>\n",
       "  <tbody>\n",
       "    <tr>\n",
       "      <th>0</th>\n",
       "      <td>Timeshift</td>\n",
       "      <td>18604</td>\n",
       "    </tr>\n",
       "    <tr>\n",
       "      <th>1</th>\n",
       "      <td>World War Z</td>\n",
       "      <td>6721</td>\n",
       "    </tr>\n",
       "    <tr>\n",
       "      <th>2</th>\n",
       "      <td>Mud Runner</td>\n",
       "      <td>6606</td>\n",
       "    </tr>\n",
       "    <tr>\n",
       "      <th>3</th>\n",
       "      <td>Halo Anniversary</td>\n",
       "      <td>2592</td>\n",
       "    </tr>\n",
       "    <tr>\n",
       "      <th>4</th>\n",
       "      <td>Quake Champions</td>\n",
       "      <td>2570</td>\n",
       "    </tr>\n",
       "  </tbody>\n",
       "</table>\n",
       "</div>"
      ],
      "text/plain": [
       "            project  num_tasks\n",
       "0         Timeshift      18604\n",
       "1       World War Z       6721\n",
       "2        Mud Runner       6606\n",
       "3  Halo Anniversary       2592\n",
       "4   Quake Champions       2570"
      ]
     },
     "execution_count": 45,
     "metadata": {},
     "output_type": "execute_result"
    }
   ],
   "source": [
    "df1_tasks"
   ]
  },
  {
   "cell_type": "code",
   "execution_count": 46,
   "id": "0cf947f8",
   "metadata": {},
   "outputs": [],
   "source": [
    "df2_tasks = df_2nd_week['project'].value_counts()\\\n",
    "                      .to_frame()\\\n",
    "                      .reset_index()\\\n",
    "                      .rename(columns={'index':'project','project':'num_tasks'})"
   ]
  },
  {
   "cell_type": "code",
   "execution_count": 47,
   "id": "6055ce88",
   "metadata": {
    "scrolled": true
   },
   "outputs": [
    {
     "data": {
      "text/html": [
       "<div>\n",
       "<style scoped>\n",
       "    .dataframe tbody tr th:only-of-type {\n",
       "        vertical-align: middle;\n",
       "    }\n",
       "\n",
       "    .dataframe tbody tr th {\n",
       "        vertical-align: top;\n",
       "    }\n",
       "\n",
       "    .dataframe thead th {\n",
       "        text-align: right;\n",
       "    }\n",
       "</style>\n",
       "<table border=\"1\" class=\"dataframe\">\n",
       "  <thead>\n",
       "    <tr style=\"text-align: right;\">\n",
       "      <th></th>\n",
       "      <th>project</th>\n",
       "      <th>num_tasks</th>\n",
       "    </tr>\n",
       "  </thead>\n",
       "  <tbody>\n",
       "    <tr>\n",
       "      <th>0</th>\n",
       "      <td>Timeshift</td>\n",
       "      <td>20889</td>\n",
       "    </tr>\n",
       "    <tr>\n",
       "      <th>1</th>\n",
       "      <td>World War Z</td>\n",
       "      <td>6850</td>\n",
       "    </tr>\n",
       "    <tr>\n",
       "      <th>2</th>\n",
       "      <td>Mud Runner</td>\n",
       "      <td>6482</td>\n",
       "    </tr>\n",
       "    <tr>\n",
       "      <th>3</th>\n",
       "      <td>Halo Anniversary</td>\n",
       "      <td>2805</td>\n",
       "    </tr>\n",
       "    <tr>\n",
       "      <th>4</th>\n",
       "      <td>Quake Champions</td>\n",
       "      <td>2267</td>\n",
       "    </tr>\n",
       "  </tbody>\n",
       "</table>\n",
       "</div>"
      ],
      "text/plain": [
       "            project  num_tasks\n",
       "0         Timeshift      20889\n",
       "1       World War Z       6850\n",
       "2        Mud Runner       6482\n",
       "3  Halo Anniversary       2805\n",
       "4   Quake Champions       2267"
      ]
     },
     "execution_count": 47,
     "metadata": {},
     "output_type": "execute_result"
    }
   ],
   "source": [
    "df2_tasks"
   ]
  },
  {
   "cell_type": "code",
   "execution_count": 48,
   "id": "79df8300",
   "metadata": {},
   "outputs": [],
   "source": [
    "df_tasks = df1_tasks.merge(df2_tasks, on='project', suffixes=('_1w','_2w')).rename(columns={'num_tasks_1w':'1st_week',\n",
    "                                                                                           'num_tasks_2w':'2nd_week'})"
   ]
  },
  {
   "cell_type": "code",
   "execution_count": 49,
   "id": "7c842535",
   "metadata": {
    "scrolled": false
   },
   "outputs": [
    {
     "data": {
      "text/html": [
       "<div>\n",
       "<style scoped>\n",
       "    .dataframe tbody tr th:only-of-type {\n",
       "        vertical-align: middle;\n",
       "    }\n",
       "\n",
       "    .dataframe tbody tr th {\n",
       "        vertical-align: top;\n",
       "    }\n",
       "\n",
       "    .dataframe thead th {\n",
       "        text-align: right;\n",
       "    }\n",
       "</style>\n",
       "<table border=\"1\" class=\"dataframe\">\n",
       "  <thead>\n",
       "    <tr style=\"text-align: right;\">\n",
       "      <th></th>\n",
       "      <th>project</th>\n",
       "      <th>1st_week</th>\n",
       "      <th>2nd_week</th>\n",
       "    </tr>\n",
       "  </thead>\n",
       "  <tbody>\n",
       "    <tr>\n",
       "      <th>0</th>\n",
       "      <td>Timeshift</td>\n",
       "      <td>18604</td>\n",
       "      <td>20889</td>\n",
       "    </tr>\n",
       "    <tr>\n",
       "      <th>1</th>\n",
       "      <td>World War Z</td>\n",
       "      <td>6721</td>\n",
       "      <td>6850</td>\n",
       "    </tr>\n",
       "    <tr>\n",
       "      <th>2</th>\n",
       "      <td>Mud Runner</td>\n",
       "      <td>6606</td>\n",
       "      <td>6482</td>\n",
       "    </tr>\n",
       "    <tr>\n",
       "      <th>3</th>\n",
       "      <td>Halo Anniversary</td>\n",
       "      <td>2592</td>\n",
       "      <td>2805</td>\n",
       "    </tr>\n",
       "    <tr>\n",
       "      <th>4</th>\n",
       "      <td>Quake Champions</td>\n",
       "      <td>2570</td>\n",
       "      <td>2267</td>\n",
       "    </tr>\n",
       "  </tbody>\n",
       "</table>\n",
       "</div>"
      ],
      "text/plain": [
       "            project  1st_week  2nd_week\n",
       "0         Timeshift     18604     20889\n",
       "1       World War Z      6721      6850\n",
       "2        Mud Runner      6606      6482\n",
       "3  Halo Anniversary      2592      2805\n",
       "4   Quake Champions      2570      2267"
      ]
     },
     "execution_count": 49,
     "metadata": {},
     "output_type": "execute_result"
    }
   ],
   "source": [
    "df_tasks"
   ]
  },
  {
   "cell_type": "markdown",
   "id": "04950eb0",
   "metadata": {},
   "source": [
    "Можно заметить, что на второй неделе изменилось количество задач на проект. Увеличилось количество тасок на проектах \"Timeshift\", \"World War Z\", \"Halo Anniversary\" и уменьшилось на оставшихся проектах"
   ]
  },
  {
   "cell_type": "markdown",
   "id": "a4a0af38",
   "metadata": {},
   "source": [
    "Посмотрю сколько ресурсов было потрачено на каждый проект в каждую из недель"
   ]
  },
  {
   "cell_type": "code",
   "execution_count": 50,
   "id": "068ed89c",
   "metadata": {
    "scrolled": true
   },
   "outputs": [],
   "source": [
    "df1_minutes = df_1st_week.groupby('project')['minutes'].sum().sort_values(ascending=False).to_frame().reset_index()"
   ]
  },
  {
   "cell_type": "code",
   "execution_count": 51,
   "id": "55fe3601",
   "metadata": {},
   "outputs": [
    {
     "data": {
      "text/html": [
       "<div>\n",
       "<style scoped>\n",
       "    .dataframe tbody tr th:only-of-type {\n",
       "        vertical-align: middle;\n",
       "    }\n",
       "\n",
       "    .dataframe tbody tr th {\n",
       "        vertical-align: top;\n",
       "    }\n",
       "\n",
       "    .dataframe thead th {\n",
       "        text-align: right;\n",
       "    }\n",
       "</style>\n",
       "<table border=\"1\" class=\"dataframe\">\n",
       "  <thead>\n",
       "    <tr style=\"text-align: right;\">\n",
       "      <th></th>\n",
       "      <th>project</th>\n",
       "      <th>minutes</th>\n",
       "    </tr>\n",
       "  </thead>\n",
       "  <tbody>\n",
       "    <tr>\n",
       "      <th>0</th>\n",
       "      <td>Timeshift</td>\n",
       "      <td>343133.611750</td>\n",
       "    </tr>\n",
       "    <tr>\n",
       "      <th>1</th>\n",
       "      <td>Mud Runner</td>\n",
       "      <td>100826.571867</td>\n",
       "    </tr>\n",
       "    <tr>\n",
       "      <th>2</th>\n",
       "      <td>World War Z</td>\n",
       "      <td>64162.868767</td>\n",
       "    </tr>\n",
       "    <tr>\n",
       "      <th>3</th>\n",
       "      <td>Quake Champions</td>\n",
       "      <td>27472.829617</td>\n",
       "    </tr>\n",
       "    <tr>\n",
       "      <th>4</th>\n",
       "      <td>Halo Anniversary</td>\n",
       "      <td>8849.668267</td>\n",
       "    </tr>\n",
       "  </tbody>\n",
       "</table>\n",
       "</div>"
      ],
      "text/plain": [
       "            project        minutes\n",
       "0         Timeshift  343133.611750\n",
       "1        Mud Runner  100826.571867\n",
       "2       World War Z   64162.868767\n",
       "3   Quake Champions   27472.829617\n",
       "4  Halo Anniversary    8849.668267"
      ]
     },
     "execution_count": 51,
     "metadata": {},
     "output_type": "execute_result"
    }
   ],
   "source": [
    "df1_minutes"
   ]
  },
  {
   "cell_type": "code",
   "execution_count": 52,
   "id": "4a4988fb",
   "metadata": {},
   "outputs": [],
   "source": [
    "df2_minutes = df_2nd_week.groupby('project')['minutes'].sum().sort_values(ascending=False).to_frame().reset_index()"
   ]
  },
  {
   "cell_type": "code",
   "execution_count": 53,
   "id": "ee2af0de",
   "metadata": {
    "scrolled": false
   },
   "outputs": [
    {
     "data": {
      "text/html": [
       "<div>\n",
       "<style scoped>\n",
       "    .dataframe tbody tr th:only-of-type {\n",
       "        vertical-align: middle;\n",
       "    }\n",
       "\n",
       "    .dataframe tbody tr th {\n",
       "        vertical-align: top;\n",
       "    }\n",
       "\n",
       "    .dataframe thead th {\n",
       "        text-align: right;\n",
       "    }\n",
       "</style>\n",
       "<table border=\"1\" class=\"dataframe\">\n",
       "  <thead>\n",
       "    <tr style=\"text-align: right;\">\n",
       "      <th></th>\n",
       "      <th>project</th>\n",
       "      <th>minutes</th>\n",
       "    </tr>\n",
       "  </thead>\n",
       "  <tbody>\n",
       "    <tr>\n",
       "      <th>0</th>\n",
       "      <td>Timeshift</td>\n",
       "      <td>514581.934717</td>\n",
       "    </tr>\n",
       "    <tr>\n",
       "      <th>1</th>\n",
       "      <td>Mud Runner</td>\n",
       "      <td>121480.194383</td>\n",
       "    </tr>\n",
       "    <tr>\n",
       "      <th>2</th>\n",
       "      <td>World War Z</td>\n",
       "      <td>72006.902167</td>\n",
       "    </tr>\n",
       "    <tr>\n",
       "      <th>3</th>\n",
       "      <td>Quake Champions</td>\n",
       "      <td>26418.287367</td>\n",
       "    </tr>\n",
       "    <tr>\n",
       "      <th>4</th>\n",
       "      <td>Halo Anniversary</td>\n",
       "      <td>10259.902083</td>\n",
       "    </tr>\n",
       "  </tbody>\n",
       "</table>\n",
       "</div>"
      ],
      "text/plain": [
       "            project        minutes\n",
       "0         Timeshift  514581.934717\n",
       "1        Mud Runner  121480.194383\n",
       "2       World War Z   72006.902167\n",
       "3   Quake Champions   26418.287367\n",
       "4  Halo Anniversary   10259.902083"
      ]
     },
     "execution_count": 53,
     "metadata": {},
     "output_type": "execute_result"
    }
   ],
   "source": [
    "df2_minutes"
   ]
  },
  {
   "cell_type": "code",
   "execution_count": 54,
   "id": "0d336dd3",
   "metadata": {},
   "outputs": [],
   "source": [
    "df_minutes = df1_minutes.merge(df2_minutes, on='project', suffixes=('_1w','_2w')).rename(columns={'minutes_1w':'1st_week',\n",
    "                                                                                                  'minutes_2w':'2nd_week'})"
   ]
  },
  {
   "cell_type": "code",
   "execution_count": 55,
   "id": "229c58b2",
   "metadata": {},
   "outputs": [
    {
     "data": {
      "text/html": [
       "<div>\n",
       "<style scoped>\n",
       "    .dataframe tbody tr th:only-of-type {\n",
       "        vertical-align: middle;\n",
       "    }\n",
       "\n",
       "    .dataframe tbody tr th {\n",
       "        vertical-align: top;\n",
       "    }\n",
       "\n",
       "    .dataframe thead th {\n",
       "        text-align: right;\n",
       "    }\n",
       "</style>\n",
       "<table border=\"1\" class=\"dataframe\">\n",
       "  <thead>\n",
       "    <tr style=\"text-align: right;\">\n",
       "      <th></th>\n",
       "      <th>project</th>\n",
       "      <th>1st_week</th>\n",
       "      <th>2nd_week</th>\n",
       "    </tr>\n",
       "  </thead>\n",
       "  <tbody>\n",
       "    <tr>\n",
       "      <th>0</th>\n",
       "      <td>Timeshift</td>\n",
       "      <td>343133.611750</td>\n",
       "      <td>514581.934717</td>\n",
       "    </tr>\n",
       "    <tr>\n",
       "      <th>1</th>\n",
       "      <td>Mud Runner</td>\n",
       "      <td>100826.571867</td>\n",
       "      <td>121480.194383</td>\n",
       "    </tr>\n",
       "    <tr>\n",
       "      <th>2</th>\n",
       "      <td>World War Z</td>\n",
       "      <td>64162.868767</td>\n",
       "      <td>72006.902167</td>\n",
       "    </tr>\n",
       "    <tr>\n",
       "      <th>3</th>\n",
       "      <td>Quake Champions</td>\n",
       "      <td>27472.829617</td>\n",
       "      <td>26418.287367</td>\n",
       "    </tr>\n",
       "    <tr>\n",
       "      <th>4</th>\n",
       "      <td>Halo Anniversary</td>\n",
       "      <td>8849.668267</td>\n",
       "      <td>10259.902083</td>\n",
       "    </tr>\n",
       "  </tbody>\n",
       "</table>\n",
       "</div>"
      ],
      "text/plain": [
       "            project       1st_week       2nd_week\n",
       "0         Timeshift  343133.611750  514581.934717\n",
       "1        Mud Runner  100826.571867  121480.194383\n",
       "2       World War Z   64162.868767   72006.902167\n",
       "3   Quake Champions   27472.829617   26418.287367\n",
       "4  Halo Anniversary    8849.668267   10259.902083"
      ]
     },
     "execution_count": 55,
     "metadata": {},
     "output_type": "execute_result"
    }
   ],
   "source": [
    "df_minutes"
   ]
  },
  {
   "cell_type": "markdown",
   "id": "1537cd00",
   "metadata": {},
   "source": [
    "Можно заметить, что на все проекты, кроме \"Quake Champions\" было затрачено во вторую неделю больше ресурсов"
   ]
  },
  {
   "cell_type": "markdown",
   "id": "a3d28602",
   "metadata": {},
   "source": [
    "Для визуализации применю метод .melt"
   ]
  },
  {
   "cell_type": "code",
   "execution_count": 56,
   "id": "56ca7d3d",
   "metadata": {},
   "outputs": [],
   "source": [
    "df_tasks_melted = pd.melt(df_tasks, id_vars='project', value_vars=['1st_week','2nd_week'])\\\n",
    "                    .rename(columns={'variable':'week',\n",
    "                                    'value':'tasks'})"
   ]
  },
  {
   "cell_type": "code",
   "execution_count": 57,
   "id": "8b4d96ad",
   "metadata": {},
   "outputs": [
    {
     "data": {
      "text/html": [
       "<div>\n",
       "<style scoped>\n",
       "    .dataframe tbody tr th:only-of-type {\n",
       "        vertical-align: middle;\n",
       "    }\n",
       "\n",
       "    .dataframe tbody tr th {\n",
       "        vertical-align: top;\n",
       "    }\n",
       "\n",
       "    .dataframe thead th {\n",
       "        text-align: right;\n",
       "    }\n",
       "</style>\n",
       "<table border=\"1\" class=\"dataframe\">\n",
       "  <thead>\n",
       "    <tr style=\"text-align: right;\">\n",
       "      <th></th>\n",
       "      <th>project</th>\n",
       "      <th>week</th>\n",
       "      <th>tasks</th>\n",
       "    </tr>\n",
       "  </thead>\n",
       "  <tbody>\n",
       "    <tr>\n",
       "      <th>0</th>\n",
       "      <td>Timeshift</td>\n",
       "      <td>1st_week</td>\n",
       "      <td>18604</td>\n",
       "    </tr>\n",
       "    <tr>\n",
       "      <th>1</th>\n",
       "      <td>World War Z</td>\n",
       "      <td>1st_week</td>\n",
       "      <td>6721</td>\n",
       "    </tr>\n",
       "    <tr>\n",
       "      <th>2</th>\n",
       "      <td>Mud Runner</td>\n",
       "      <td>1st_week</td>\n",
       "      <td>6606</td>\n",
       "    </tr>\n",
       "    <tr>\n",
       "      <th>3</th>\n",
       "      <td>Halo Anniversary</td>\n",
       "      <td>1st_week</td>\n",
       "      <td>2592</td>\n",
       "    </tr>\n",
       "    <tr>\n",
       "      <th>4</th>\n",
       "      <td>Quake Champions</td>\n",
       "      <td>1st_week</td>\n",
       "      <td>2570</td>\n",
       "    </tr>\n",
       "    <tr>\n",
       "      <th>5</th>\n",
       "      <td>Timeshift</td>\n",
       "      <td>2nd_week</td>\n",
       "      <td>20889</td>\n",
       "    </tr>\n",
       "    <tr>\n",
       "      <th>6</th>\n",
       "      <td>World War Z</td>\n",
       "      <td>2nd_week</td>\n",
       "      <td>6850</td>\n",
       "    </tr>\n",
       "    <tr>\n",
       "      <th>7</th>\n",
       "      <td>Mud Runner</td>\n",
       "      <td>2nd_week</td>\n",
       "      <td>6482</td>\n",
       "    </tr>\n",
       "    <tr>\n",
       "      <th>8</th>\n",
       "      <td>Halo Anniversary</td>\n",
       "      <td>2nd_week</td>\n",
       "      <td>2805</td>\n",
       "    </tr>\n",
       "    <tr>\n",
       "      <th>9</th>\n",
       "      <td>Quake Champions</td>\n",
       "      <td>2nd_week</td>\n",
       "      <td>2267</td>\n",
       "    </tr>\n",
       "  </tbody>\n",
       "</table>\n",
       "</div>"
      ],
      "text/plain": [
       "            project      week  tasks\n",
       "0         Timeshift  1st_week  18604\n",
       "1       World War Z  1st_week   6721\n",
       "2        Mud Runner  1st_week   6606\n",
       "3  Halo Anniversary  1st_week   2592\n",
       "4   Quake Champions  1st_week   2570\n",
       "5         Timeshift  2nd_week  20889\n",
       "6       World War Z  2nd_week   6850\n",
       "7        Mud Runner  2nd_week   6482\n",
       "8  Halo Anniversary  2nd_week   2805\n",
       "9   Quake Champions  2nd_week   2267"
      ]
     },
     "execution_count": 57,
     "metadata": {},
     "output_type": "execute_result"
    }
   ],
   "source": [
    "df_tasks_melted"
   ]
  },
  {
   "cell_type": "code",
   "execution_count": 58,
   "id": "3818417c",
   "metadata": {},
   "outputs": [],
   "source": [
    "df_minutes_melted = pd.melt(df_minutes, id_vars='project', value_vars=['1st_week','2nd_week'])\\\n",
    "                    .rename(columns={'variable':'week',\n",
    "                                    'value':'minutes'})"
   ]
  },
  {
   "cell_type": "code",
   "execution_count": 59,
   "id": "e13fc39e",
   "metadata": {
    "scrolled": false
   },
   "outputs": [
    {
     "data": {
      "text/html": [
       "<div>\n",
       "<style scoped>\n",
       "    .dataframe tbody tr th:only-of-type {\n",
       "        vertical-align: middle;\n",
       "    }\n",
       "\n",
       "    .dataframe tbody tr th {\n",
       "        vertical-align: top;\n",
       "    }\n",
       "\n",
       "    .dataframe thead th {\n",
       "        text-align: right;\n",
       "    }\n",
       "</style>\n",
       "<table border=\"1\" class=\"dataframe\">\n",
       "  <thead>\n",
       "    <tr style=\"text-align: right;\">\n",
       "      <th></th>\n",
       "      <th>project</th>\n",
       "      <th>week</th>\n",
       "      <th>minutes</th>\n",
       "    </tr>\n",
       "  </thead>\n",
       "  <tbody>\n",
       "    <tr>\n",
       "      <th>0</th>\n",
       "      <td>Timeshift</td>\n",
       "      <td>1st_week</td>\n",
       "      <td>343133.611750</td>\n",
       "    </tr>\n",
       "    <tr>\n",
       "      <th>1</th>\n",
       "      <td>Mud Runner</td>\n",
       "      <td>1st_week</td>\n",
       "      <td>100826.571867</td>\n",
       "    </tr>\n",
       "    <tr>\n",
       "      <th>2</th>\n",
       "      <td>World War Z</td>\n",
       "      <td>1st_week</td>\n",
       "      <td>64162.868767</td>\n",
       "    </tr>\n",
       "    <tr>\n",
       "      <th>3</th>\n",
       "      <td>Quake Champions</td>\n",
       "      <td>1st_week</td>\n",
       "      <td>27472.829617</td>\n",
       "    </tr>\n",
       "    <tr>\n",
       "      <th>4</th>\n",
       "      <td>Halo Anniversary</td>\n",
       "      <td>1st_week</td>\n",
       "      <td>8849.668267</td>\n",
       "    </tr>\n",
       "    <tr>\n",
       "      <th>5</th>\n",
       "      <td>Timeshift</td>\n",
       "      <td>2nd_week</td>\n",
       "      <td>514581.934717</td>\n",
       "    </tr>\n",
       "    <tr>\n",
       "      <th>6</th>\n",
       "      <td>Mud Runner</td>\n",
       "      <td>2nd_week</td>\n",
       "      <td>121480.194383</td>\n",
       "    </tr>\n",
       "    <tr>\n",
       "      <th>7</th>\n",
       "      <td>World War Z</td>\n",
       "      <td>2nd_week</td>\n",
       "      <td>72006.902167</td>\n",
       "    </tr>\n",
       "    <tr>\n",
       "      <th>8</th>\n",
       "      <td>Quake Champions</td>\n",
       "      <td>2nd_week</td>\n",
       "      <td>26418.287367</td>\n",
       "    </tr>\n",
       "    <tr>\n",
       "      <th>9</th>\n",
       "      <td>Halo Anniversary</td>\n",
       "      <td>2nd_week</td>\n",
       "      <td>10259.902083</td>\n",
       "    </tr>\n",
       "  </tbody>\n",
       "</table>\n",
       "</div>"
      ],
      "text/plain": [
       "            project      week        minutes\n",
       "0         Timeshift  1st_week  343133.611750\n",
       "1        Mud Runner  1st_week  100826.571867\n",
       "2       World War Z  1st_week   64162.868767\n",
       "3   Quake Champions  1st_week   27472.829617\n",
       "4  Halo Anniversary  1st_week    8849.668267\n",
       "5         Timeshift  2nd_week  514581.934717\n",
       "6        Mud Runner  2nd_week  121480.194383\n",
       "7       World War Z  2nd_week   72006.902167\n",
       "8   Quake Champions  2nd_week   26418.287367\n",
       "9  Halo Anniversary  2nd_week   10259.902083"
      ]
     },
     "execution_count": 59,
     "metadata": {},
     "output_type": "execute_result"
    }
   ],
   "source": [
    "df_minutes_melted"
   ]
  },
  {
   "cell_type": "code",
   "execution_count": 60,
   "id": "be4380e4",
   "metadata": {
    "scrolled": true
   },
   "outputs": [
    {
     "data": {
      "text/plain": [
       "<AxesSubplot:xlabel='project', ylabel='tasks'>"
      ]
     },
     "execution_count": 60,
     "metadata": {},
     "output_type": "execute_result"
    },
    {
     "data": {
      "image/png": "[encoded data removed]",
      "text/plain": [
       "<Figure size 1440x360 with 2 Axes>"
      ]
     },
     "metadata": {
      "needs_background": "light"
     },
     "output_type": "display_data"
    }
   ],
   "source": [
    "fig, ax = plt.subplots(1,2, figsize=(20,5))\n",
    "\n",
    "sns.barplot(data=df_minutes_melted, x='project', y='minutes', hue='week', ax=ax[0])\n",
    "sns.barplot(data=df_tasks_melted, x='project', y='tasks', hue='week', ax=ax[1])"
   ]
  },
  {
   "cell_type": "markdown",
   "id": "d7ea09ad",
   "metadata": {},
   "source": [
    "Отсюда можно сделать выводы, что на всех, кроме одного, проектах увеличилось суммарное время выполнения тасок, при том, что само количество тасок осталось почти на всех проектах неизменным. В проекте Quake Champions уменьшилось как количество тасок, так и время выполнения, в проекте Mud Runner увеличилось время выполнения, а количество тасок уменьшилось, в остальных проектах вместе с увеличением количества тасок увеличилось время выполнения, что логично"
   ]
  },
  {
   "cell_type": "markdown",
   "id": "2a85c804",
   "metadata": {},
   "source": [
    "Проверю является ли разница в количестве затраченных ресурсов статистически значимой для проектов, в которых во вторую неделю увеличилось суммарное значение затраченных ресурсов: Timeshift, Mud Runner, World War Z, Halo Anniversary"
   ]
  },
  {
   "cell_type": "code",
   "execution_count": 61,
   "id": "f07025e8",
   "metadata": {
    "scrolled": true
   },
   "outputs": [],
   "source": [
    "minutes_12w_ts = pd.concat([df_1st_week[df_1st_week['project']=='Timeshift']['minutes'], df_2nd_week[df_2nd_week['project']=='Timeshift']['minutes']])\\\n",
    "                   .to_frame()\n",
    "minutes_12w_md = pd.concat([df_1st_week[df_1st_week['project']=='Mud Runner']['minutes'], df_2nd_week[df_2nd_week['project']=='Mud Runner']['minutes']])\\\n",
    "                   .to_frame()\n",
    "minutes_12w_wwz = pd.concat([df_1st_week[df_1st_week['project']=='World War Z']['minutes'], df_2nd_week[df_2nd_week['project']=='World War Z']['minutes']])\\\n",
    "                   .to_frame()\n",
    "minutes_12w_ha = pd.concat([df_1st_week[df_1st_week['project']=='Halo Anniversary']['minutes'], df_2nd_week[df_2nd_week['project']=='Halo Anniversary']['minutes']])\\\n",
    "                   .to_frame()"
   ]
  },
  {
   "cell_type": "code",
   "execution_count": 62,
   "id": "7dc52922",
   "metadata": {},
   "outputs": [],
   "source": [
    "minutes_12w_ts['project'] = 'Timeshift'\n",
    "minutes_12w_md['project'] = 'Mud Runner'\n",
    "minutes_12w_wwz['project'] = 'World War Z'\n",
    "minutes_12w_ha['project'] = 'Halo Anniversary'"
   ]
  },
  {
   "cell_type": "code",
   "execution_count": 63,
   "id": "a6d2c2d4",
   "metadata": {},
   "outputs": [],
   "source": [
    "concated_4projects = pd.concat([minutes_12w_ts, minutes_12w_md, minutes_12w_wwz, minutes_12w_ha])"
   ]
  },
  {
   "cell_type": "markdown",
   "id": "021198fe",
   "metadata": {},
   "source": [
    "Проверю выбросы"
   ]
  },
  {
   "cell_type": "code",
   "execution_count": 64,
   "id": "d75a125a",
   "metadata": {},
   "outputs": [
    {
     "data": {
      "text/plain": [
       "<AxesSubplot:xlabel='project', ylabel='minutes'>"
      ]
     },
     "execution_count": 64,
     "metadata": {},
     "output_type": "execute_result"
    },
    {
     "data": {
      "image/png": "[encoded data removed]",
      "text/plain": [
       "<Figure size 432x288 with 1 Axes>"
      ]
     },
     "metadata": {
      "needs_background": "light"
     },
     "output_type": "display_data"
    }
   ],
   "source": [
    "fig, ax = plt.subplots()\n",
    "\n",
    "sns.boxplot(data=concated_4projects, x='project', y='minutes')"
   ]
  },
  {
   "cell_type": "markdown",
   "id": "f8dbdee4",
   "metadata": {},
   "source": [
    "Судя по боксплоту видно, что в данных имеется множество выбросов на каждом проекте, поэтому стоит применить непараметрический критерий для проверки медианных значений. Нулевая гипотеза: нет различий в медианных значениях затраченных ресурсов 1 и 2 недели; альфа = 0.05. Буду использовать гипотезу для всех проектов, где увеличилось суммарное значение затраченных ресурсов"
   ]
  },
  {
   "cell_type": "code",
   "execution_count": 65,
   "id": "7579e55b",
   "metadata": {},
   "outputs": [],
   "source": [
    "p_value_ts = scipy.stats.mannwhitneyu(df_1st_week[df_1st_week['project']=='Timeshift']['minutes'], df_2nd_week[df_2nd_week['project']=='Timeshift']['minutes'])[1]\n",
    "p_value_md = scipy.stats.mannwhitneyu(df_1st_week[df_1st_week['project']=='Mud Runner']['minutes'], df_2nd_week[df_2nd_week['project']=='Mud Runner']['minutes'])[1]\n",
    "p_value_wwz = scipy.stats.mannwhitneyu(df_1st_week[df_1st_week['project']=='World War Z']['minutes'], df_2nd_week[df_2nd_week['project']=='World War Z']['minutes'])[1]\n",
    "p_value_ha = scipy.stats.mannwhitneyu(df_1st_week[df_1st_week['project']=='Halo Anniversary']['minutes'], df_2nd_week[df_2nd_week['project']=='Halo Anniversary']['minutes'])[1]"
   ]
  },
  {
   "cell_type": "code",
   "execution_count": 66,
   "id": "06382adb",
   "metadata": {},
   "outputs": [
    {
     "name": "stdout",
     "output_type": "stream",
     "text": [
      "Для проекта Timeshift p-value = 2.7236204052745823e-65\n",
      "Нулевая гипотеза отвергается, есть статистически значимая разница в затраченных ресурсах 1 и 2 недели\n",
      "\n",
      "Для проекта Mud Runner p-value = 0.7064334679752753\n",
      "Нулевая гипотеза принимается, нет статистически значимой разницы в затраченных ресурсах 1 и 2 недели\n",
      "\n",
      "Для проекта World War Z p-value = 0.8068554843397375\n",
      "Нулевая гипотеза принимается, нет статистически значимой разницы в затраченных ресурсах 1 и 2 недели\n",
      "\n",
      "Для проекта Halo Anniversary p-value = 0.0444753606462887\n",
      "Нулевая гипотеза отвергается, есть статистически значимая разница в затраченных ресурсах 1 и 2 недели\n"
     ]
    }
   ],
   "source": [
    "print('Для проекта Timeshift p-value = {}'.format(p_value_ts))\n",
    "if p_value_ts < 0.05:\n",
    "    print('Нулевая гипотеза отвергается, есть статистически значимая разница в затраченных ресурсах 1 и 2 недели')\n",
    "else:\n",
    "    print('Нулевая гипотеза принимается, нет статистически значимой разницы в затраченных ресурсах 1 и 2 недели')\n",
    "\n",
    "print('\\nДля проекта Mud Runner p-value = {}'.format(p_value_md))\n",
    "if p_value_md < 0.05:\n",
    "    print('Нулевая гипотеза отвергается, есть статистически значимая разница в затраченных ресурсах 1 и 2 недели')\n",
    "else:\n",
    "    print('Нулевая гипотеза принимается, нет статистически значимой разницы в затраченных ресурсах 1 и 2 недели')\n",
    "    \n",
    "print('\\nДля проекта World War Z p-value = {}'.format(p_value_wwz))\n",
    "if p_value_wwz < 0.05:\n",
    "    print('Нулевая гипотеза отвергается, есть статистически значимая разница в затраченных ресурсах 1 и 2 недели')\n",
    "else:\n",
    "    print('Нулевая гипотеза принимается, нет статистически значимой разницы в затраченных ресурсах 1 и 2 недели')\n",
    "    \n",
    "print('\\nДля проекта Halo Anniversary p-value = {}'.format(p_value_ha))\n",
    "if p_value_ha < 0.05:\n",
    "    print('Нулевая гипотеза отвергается, есть статистически значимая разница в затраченных ресурсах 1 и 2 недели')\n",
    "else:\n",
    "    print('Нулевая гипотеза принимается, нет статистически значимой разницы в затраченных ресурсах 1 и 2 недели')"
   ]
  },
  {
   "cell_type": "markdown",
   "id": "db35946c",
   "metadata": {},
   "source": [
    "Видно, что для проектов, в которых во вторую неделю увеличилось суммарное значение тасок: Timeshift, World War Z, Halo Anniversary, на самом деле статистически значимая разница в суммарном увеличении затраченных ресурсов есть только у проектов: Timeshift и Halo Anniversary"
   ]
  },
  {
   "cell_type": "markdown",
   "id": "82518676",
   "metadata": {},
   "source": [
    "Хоть и увеличилось количество тасок у проекта World War Z, суммарное затраченное время на их исполнение осталось тем же. Это может говорить о том, что либо исполнители таксок стали делать задачи быстрее, либо добавленные таски были не такие сложные, либо пришли новые пользователи, которые так хорошо справлялись с тасками, что разница во в затраченных ресурсах была неощутимой, либо было большее количество невыполненных или отмененных тасок"
   ]
  },
  {
   "cell_type": "markdown",
   "id": "62487c14",
   "metadata": {},
   "source": [
    "Отсюда еще вывод, что хоть и существует статистически значимая разница в общих значениях затраченных ресурсов для двух недель, на самом деле не для всех проектов существенно увеличились данные показатели. Лидером является проект Timeshift, на втором месте - Halo Anniversary, на остальные же проекты не было статистически значимо затрачено больше ресурсов.  \n",
    "Стоит заметить еще то, что проект Halo Anniversary находится на грани того, чтобы оказаться в числе тех, статистически значимой разницы в затраченных ресурсах которые не показывают. Это зависит от уровня значимости, если выбрать уровень хотя бы на 0.1 меньше, то уже статистический вывод будет отличаться. По этой причине я буду рассматривать только проект Timeshift в качестве того, у которого статистически значимо различаются затраченные ресурсы"
   ]
  },
  {
   "cell_type": "markdown",
   "id": "736ca1ce",
   "metadata": {},
   "source": [
    "В качестве рабочей машины worker я буду использовать слова сотрудник, работник, потому что они грубо выражают такой смысл"
   ]
  },
  {
   "cell_type": "markdown",
   "id": "406b12fa",
   "metadata": {},
   "source": [
    "Причинами увеличения суммарного количества затраченных ресурсов может быть:  \n",
    "1. пришли новые сотрудники, которые стали долго выполнять задачи  \n",
    "2. старые сотрудники стали выполнять задачи дольше "
   ]
  },
  {
   "cell_type": "markdown",
   "id": "74a8b606",
   "metadata": {},
   "source": [
    "### 1"
   ]
  },
  {
   "cell_type": "code",
   "execution_count": 67,
   "id": "32510d0d",
   "metadata": {
    "scrolled": false
   },
   "outputs": [],
   "source": [
    "df1w_ts = df_1st_week.loc[df_1st_week['project']=='Timeshift']"
   ]
  },
  {
   "cell_type": "code",
   "execution_count": 68,
   "id": "c7f644d5",
   "metadata": {},
   "outputs": [],
   "source": [
    "df2w_ts = df_2nd_week.loc[df_2nd_week['project']=='Timeshift']"
   ]
  },
  {
   "cell_type": "markdown",
   "id": "9c7e004c",
   "metadata": {},
   "source": [
    "Проверю как изменилось сотрудников на второй неделе по сравнению с первой"
   ]
  },
  {
   "cell_type": "code",
   "execution_count": 69,
   "id": "1f22c43b",
   "metadata": {
    "scrolled": false
   },
   "outputs": [
    {
     "data": {
      "text/plain": [
       "103"
      ]
     },
     "execution_count": 69,
     "metadata": {},
     "output_type": "execute_result"
    }
   ],
   "source": [
    "len(df1w_ts['worker'].unique())"
   ]
  },
  {
   "cell_type": "code",
   "execution_count": 70,
   "id": "f36f27e7",
   "metadata": {},
   "outputs": [
    {
     "data": {
      "text/plain": [
       "112"
      ]
     },
     "execution_count": 70,
     "metadata": {},
     "output_type": "execute_result"
    }
   ],
   "source": [
    "len(df2w_ts['worker'].unique())"
   ]
  },
  {
   "cell_type": "markdown",
   "id": "de549838",
   "metadata": {},
   "source": [
    "Количество сотрудников на второй неделе увеличилось. Проверю сколько пришло новых и какую долю от всех тасок поручили им"
   ]
  },
  {
   "cell_type": "code",
   "execution_count": 71,
   "id": "0e8192c9",
   "metadata": {},
   "outputs": [],
   "source": [
    "df_new_workers_ts = df2w_ts.loc[df2w_ts['worker'].isin(df1w_ts['worker'].unique())==False]"
   ]
  },
  {
   "cell_type": "code",
   "execution_count": 72,
   "id": "426f7758",
   "metadata": {},
   "outputs": [
    {
     "name": "stderr",
     "output_type": "stream",
     "text": [
      "C:\\Users\\ilyap\\AppData\\Local\\Temp\\ipykernel_18160\\1611275597.py:1: SettingWithCopyWarning: \n",
      "A value is trying to be set on a copy of a slice from a DataFrame.\n",
      "Try using .loc[row_indexer,col_indexer] = value instead\n",
      "\n",
      "See the caveats in the documentation: https://pandas.pydata.org/pandas-docs/stable/user_guide/indexing.html#returning-a-view-versus-a-copy\n",
      "  df_new_workers_ts['new_old'] = 'new'\n"
     ]
    }
   ],
   "source": [
    "df_new_workers_ts['new_old'] = 'new'"
   ]
  },
  {
   "cell_type": "code",
   "execution_count": 73,
   "id": "92c72205",
   "metadata": {
    "scrolled": false
   },
   "outputs": [
    {
     "data": {
      "text/html": [
       "<div>\n",
       "<style scoped>\n",
       "    .dataframe tbody tr th:only-of-type {\n",
       "        vertical-align: middle;\n",
       "    }\n",
       "\n",
       "    .dataframe tbody tr th {\n",
       "        vertical-align: top;\n",
       "    }\n",
       "\n",
       "    .dataframe thead th {\n",
       "        text-align: right;\n",
       "    }\n",
       "</style>\n",
       "<table border=\"1\" class=\"dataframe\">\n",
       "  <thead>\n",
       "    <tr style=\"text-align: right;\">\n",
       "      <th></th>\n",
       "      <th>task_id</th>\n",
       "      <th>start_time</th>\n",
       "      <th>finish_time</th>\n",
       "      <th>status</th>\n",
       "      <th>worker</th>\n",
       "      <th>build_name</th>\n",
       "      <th>author</th>\n",
       "      <th>project</th>\n",
       "      <th>exec_time</th>\n",
       "      <th>minutes</th>\n",
       "      <th>new_old</th>\n",
       "    </tr>\n",
       "  </thead>\n",
       "  <tbody>\n",
       "    <tr>\n",
       "      <th>20</th>\n",
       "      <td>45002</td>\n",
       "      <td>2005-06-27 19:44:32.525</td>\n",
       "      <td>2005-06-27 19:49:43.174</td>\n",
       "      <td>success</td>\n",
       "      <td>worker_0c</td>\n",
       "      <td>build_cyan_executable</td>\n",
       "      <td>Java Xi</td>\n",
       "      <td>Timeshift</td>\n",
       "      <td>0 days 00:05:10.649000</td>\n",
       "      <td>5.177483</td>\n",
       "      <td>new</td>\n",
       "    </tr>\n",
       "    <tr>\n",
       "      <th>30</th>\n",
       "      <td>45019</td>\n",
       "      <td>2005-06-27 22:58:33.209</td>\n",
       "      <td>2005-06-27 23:15:59.937</td>\n",
       "      <td>fail</td>\n",
       "      <td>worker_0c</td>\n",
       "      <td>build_cyan_executable</td>\n",
       "      <td>Java Xi</td>\n",
       "      <td>Timeshift</td>\n",
       "      <td>0 days 00:17:26.728000</td>\n",
       "      <td>17.445467</td>\n",
       "      <td>new</td>\n",
       "    </tr>\n",
       "    <tr>\n",
       "      <th>468</th>\n",
       "      <td>45777</td>\n",
       "      <td>2005-06-27 20:42:07.405</td>\n",
       "      <td>2005-06-27 20:59:24.573</td>\n",
       "      <td>fail</td>\n",
       "      <td>worker_0c</td>\n",
       "      <td>build_cyan_executable</td>\n",
       "      <td>Kenny Kotlin</td>\n",
       "      <td>Timeshift</td>\n",
       "      <td>0 days 00:17:17.168000</td>\n",
       "      <td>17.286133</td>\n",
       "      <td>new</td>\n",
       "    </tr>\n",
       "    <tr>\n",
       "      <th>872</th>\n",
       "      <td>46444</td>\n",
       "      <td>2005-06-28 09:35:44.429</td>\n",
       "      <td>2005-06-28 09:42:13.028</td>\n",
       "      <td>success</td>\n",
       "      <td>worker_0c</td>\n",
       "      <td>build_cyan_texture</td>\n",
       "      <td>Polly Ivanov</td>\n",
       "      <td>Timeshift</td>\n",
       "      <td>0 days 00:06:28.599000</td>\n",
       "      <td>6.476650</td>\n",
       "      <td>new</td>\n",
       "    </tr>\n",
       "    <tr>\n",
       "      <th>873</th>\n",
       "      <td>46445</td>\n",
       "      <td>2005-06-28 09:45:50.211</td>\n",
       "      <td>2005-06-28 09:51:12.200</td>\n",
       "      <td>success</td>\n",
       "      <td>worker_0c</td>\n",
       "      <td>build_cyan_texture</td>\n",
       "      <td>Polly Ivanov</td>\n",
       "      <td>Timeshift</td>\n",
       "      <td>0 days 00:05:21.989000</td>\n",
       "      <td>5.366483</td>\n",
       "      <td>new</td>\n",
       "    </tr>\n",
       "  </tbody>\n",
       "</table>\n",
       "</div>"
      ],
      "text/plain": [
       "    task_id              start_time             finish_time   status  \\\n",
       "20    45002 2005-06-27 19:44:32.525 2005-06-27 19:49:43.174  success   \n",
       "30    45019 2005-06-27 22:58:33.209 2005-06-27 23:15:59.937     fail   \n",
       "468   45777 2005-06-27 20:42:07.405 2005-06-27 20:59:24.573     fail   \n",
       "872   46444 2005-06-28 09:35:44.429 2005-06-28 09:42:13.028  success   \n",
       "873   46445 2005-06-28 09:45:50.211 2005-06-28 09:51:12.200  success   \n",
       "\n",
       "        worker             build_name        author    project  \\\n",
       "20   worker_0c  build_cyan_executable       Java Xi  Timeshift   \n",
       "30   worker_0c  build_cyan_executable       Java Xi  Timeshift   \n",
       "468  worker_0c  build_cyan_executable  Kenny Kotlin  Timeshift   \n",
       "872  worker_0c     build_cyan_texture  Polly Ivanov  Timeshift   \n",
       "873  worker_0c     build_cyan_texture  Polly Ivanov  Timeshift   \n",
       "\n",
       "                 exec_time    minutes new_old  \n",
       "20  0 days 00:05:10.649000   5.177483     new  \n",
       "30  0 days 00:17:26.728000  17.445467     new  \n",
       "468 0 days 00:17:17.168000  17.286133     new  \n",
       "872 0 days 00:06:28.599000   6.476650     new  \n",
       "873 0 days 00:05:21.989000   5.366483     new  "
      ]
     },
     "execution_count": 73,
     "metadata": {},
     "output_type": "execute_result"
    }
   ],
   "source": [
    "df_new_workers_ts.head()"
   ]
  },
  {
   "cell_type": "code",
   "execution_count": 74,
   "id": "43b4e252",
   "metadata": {},
   "outputs": [
    {
     "name": "stdout",
     "output_type": "stream",
     "text": [
      "Доля всех задач, приходящихся на новых сотрудников = 5.01 %\n"
     ]
    }
   ],
   "source": [
    "print('Доля всех задач, приходящихся на новых сотрудников = {} %'.format(round((df_new_workers_ts.shape[0]/df2w_ts.shape[0])*100, 2)))"
   ]
  },
  {
   "cell_type": "markdown",
   "id": "5c6bfde5",
   "metadata": {},
   "source": [
    "Найду тех самых новых работников"
   ]
  },
  {
   "cell_type": "code",
   "execution_count": 75,
   "id": "949d9ede",
   "metadata": {
    "scrolled": false
   },
   "outputs": [
    {
     "data": {
      "text/plain": [
       "['worker_0c',\n",
       " 'worker_68',\n",
       " 'worker_6c',\n",
       " 'worker_6a',\n",
       " 'worker_6d',\n",
       " 'worker_6b',\n",
       " 'worker_6e',\n",
       " 'worker_6f',\n",
       " 'worker_70',\n",
       " 'worker_8d']"
      ]
     },
     "execution_count": 75,
     "metadata": {},
     "output_type": "execute_result"
    }
   ],
   "source": [
    "df_new_workers_ts['worker'].unique().tolist()"
   ]
  },
  {
   "cell_type": "code",
   "execution_count": 76,
   "id": "32c0380d",
   "metadata": {},
   "outputs": [
    {
     "data": {
      "text/html": [
       "<div>\n",
       "<style scoped>\n",
       "    .dataframe tbody tr th:only-of-type {\n",
       "        vertical-align: middle;\n",
       "    }\n",
       "\n",
       "    .dataframe tbody tr th {\n",
       "        vertical-align: top;\n",
       "    }\n",
       "\n",
       "    .dataframe thead th {\n",
       "        text-align: right;\n",
       "    }\n",
       "</style>\n",
       "<table border=\"1\" class=\"dataframe\">\n",
       "  <thead>\n",
       "    <tr style=\"text-align: right;\">\n",
       "      <th></th>\n",
       "      <th>task_id</th>\n",
       "      <th>start_time</th>\n",
       "      <th>finish_time</th>\n",
       "      <th>status</th>\n",
       "      <th>worker</th>\n",
       "      <th>build_name</th>\n",
       "      <th>author</th>\n",
       "      <th>project</th>\n",
       "      <th>exec_time</th>\n",
       "      <th>minutes</th>\n",
       "    </tr>\n",
       "  </thead>\n",
       "  <tbody>\n",
       "  </tbody>\n",
       "</table>\n",
       "</div>"
      ],
      "text/plain": [
       "Empty DataFrame\n",
       "Columns: [task_id, start_time, finish_time, status, worker, build_name, author, project, exec_time, minutes]\n",
       "Index: []"
      ]
     },
     "execution_count": 76,
     "metadata": {},
     "output_type": "execute_result"
    }
   ],
   "source": [
    "# Перепроверю себя\n",
    "df1w_ts.loc[df1w_ts['worker'].isin(df_new_workers_ts['worker'].unique())]"
   ]
  },
  {
   "cell_type": "markdown",
   "id": "5d20fd05",
   "metadata": {},
   "source": [
    "Их оказалось 10, получается, что одного сотрудника не было на проекте во вторую неделю, посмотрю кто это"
   ]
  },
  {
   "cell_type": "code",
   "execution_count": 77,
   "id": "283c75e0",
   "metadata": {},
   "outputs": [
    {
     "data": {
      "text/plain": [
       "array(['worker_49'], dtype=object)"
      ]
     },
     "execution_count": 77,
     "metadata": {},
     "output_type": "execute_result"
    }
   ],
   "source": [
    "df1w_ts.loc[df1w_ts['worker'].isin(df2w_ts['worker'].unique())==False]['worker'].unique()"
   ]
  },
  {
   "cell_type": "markdown",
   "id": "b3a3ab4d",
   "metadata": {},
   "source": [
    "Это был worker_49. Посмотрю медианно как долго у него занимало выполнение задачи и сравню со значением для всех работников первой недели"
   ]
  },
  {
   "cell_type": "code",
   "execution_count": 78,
   "id": "3e2dd933",
   "metadata": {},
   "outputs": [
    {
     "data": {
      "text/plain": [
       "17.447883333333333"
      ]
     },
     "execution_count": 78,
     "metadata": {},
     "output_type": "execute_result"
    }
   ],
   "source": [
    "df1w_ts[df1w_ts['worker']=='worker_49']['minutes'].median()"
   ]
  },
  {
   "cell_type": "code",
   "execution_count": 79,
   "id": "b07492ec",
   "metadata": {},
   "outputs": [
    {
     "data": {
      "text/plain": [
       "5.874116666666667"
      ]
     },
     "execution_count": 79,
     "metadata": {},
     "output_type": "execute_result"
    }
   ],
   "source": [
    "df1w_ts['minutes'].median()"
   ]
  },
  {
   "cell_type": "markdown",
   "id": "b76756f1",
   "metadata": {},
   "source": [
    "Его медианное время выполнения выше медианного времени всех работников, поэтому только его, если можно так сказать, уход точно не может быть причиной увеличения затраченных ресурсов"
   ]
  },
  {
   "cell_type": "code",
   "execution_count": 80,
   "id": "6f68c3a8",
   "metadata": {
    "scrolled": false
   },
   "outputs": [
    {
     "data": {
      "text/html": [
       "<div>\n",
       "<style scoped>\n",
       "    .dataframe tbody tr th:only-of-type {\n",
       "        vertical-align: middle;\n",
       "    }\n",
       "\n",
       "    .dataframe tbody tr th {\n",
       "        vertical-align: top;\n",
       "    }\n",
       "\n",
       "    .dataframe thead th {\n",
       "        text-align: right;\n",
       "    }\n",
       "</style>\n",
       "<table border=\"1\" class=\"dataframe\">\n",
       "  <thead>\n",
       "    <tr style=\"text-align: right;\">\n",
       "      <th></th>\n",
       "      <th>worker</th>\n",
       "      <th>minutes</th>\n",
       "    </tr>\n",
       "  </thead>\n",
       "  <tbody>\n",
       "    <tr>\n",
       "      <th>69</th>\n",
       "      <td>worker_49</td>\n",
       "      <td>17.447883</td>\n",
       "    </tr>\n",
       "  </tbody>\n",
       "</table>\n",
       "</div>"
      ],
      "text/plain": [
       "       worker    minutes\n",
       "69  worker_49  17.447883"
      ]
     },
     "execution_count": 80,
     "metadata": {},
     "output_type": "execute_result"
    }
   ],
   "source": [
    "df1w_ts.groupby('worker')['minutes'].median()\\\n",
    "       .sort_values()\\\n",
    "       .to_frame()\\\n",
    "       .reset_index()\\\n",
    "       .query(\"worker == 'worker_49'\")"
   ]
  },
  {
   "cell_type": "markdown",
   "id": "270eb01a",
   "metadata": {},
   "source": [
    "К тому же этот работник был 69 по счету в плане медианного значения времени выполнения, то есть он выполнял задачи дольше большинства, но это может быть из-за того, что он выполнял задачи, которые сами по себе требуют большого времени выполнения."
   ]
  },
  {
   "cell_type": "markdown",
   "id": "30f96840",
   "metadata": {},
   "source": [
    "Не все работники успешно выполняют задачи, как раз новые работники могут либо тратить много времени на выполнение задачи, либо не выполнять их вовсе, либо выполнять какие-то новые задачи, которых не было в первой неделе."
   ]
  },
  {
   "cell_type": "markdown",
   "id": "86ad86ba",
   "metadata": {},
   "source": [
    "Проверю различается ли статистически среднее значение затраченных ресурсов между старыми и новыми сотрудниками на второй неделе"
   ]
  },
  {
   "cell_type": "markdown",
   "id": "a5484a4c",
   "metadata": {},
   "source": [
    "Нулевая гипотеза: различий медианных значений затраченных ресурсов между новыми и старыми сотрудниками на второй неделе нет  \n",
    "уровень значимости = 0.05"
   ]
  },
  {
   "cell_type": "code",
   "execution_count": 81,
   "id": "aade5736",
   "metadata": {
    "scrolled": true
   },
   "outputs": [],
   "source": [
    "df_old_workers_ts = df2w_ts.loc[df2w_ts['worker'].isin(df1w_ts['worker'].unique().tolist())]"
   ]
  },
  {
   "cell_type": "code",
   "execution_count": 82,
   "id": "0d5d989a",
   "metadata": {
    "scrolled": false
   },
   "outputs": [
    {
     "name": "stderr",
     "output_type": "stream",
     "text": [
      "C:\\Users\\ilyap\\AppData\\Local\\Temp\\ipykernel_18160\\563295692.py:1: SettingWithCopyWarning: \n",
      "A value is trying to be set on a copy of a slice from a DataFrame.\n",
      "Try using .loc[row_indexer,col_indexer] = value instead\n",
      "\n",
      "See the caveats in the documentation: https://pandas.pydata.org/pandas-docs/stable/user_guide/indexing.html#returning-a-view-versus-a-copy\n",
      "  df_old_workers_ts['new_old'] = 'old'\n"
     ]
    }
   ],
   "source": [
    "df_old_workers_ts['new_old'] = 'old'"
   ]
  },
  {
   "cell_type": "code",
   "execution_count": 83,
   "id": "455529c7",
   "metadata": {
    "scrolled": true
   },
   "outputs": [
    {
     "data": {
      "text/html": [
       "<div>\n",
       "<style scoped>\n",
       "    .dataframe tbody tr th:only-of-type {\n",
       "        vertical-align: middle;\n",
       "    }\n",
       "\n",
       "    .dataframe tbody tr th {\n",
       "        vertical-align: top;\n",
       "    }\n",
       "\n",
       "    .dataframe thead th {\n",
       "        text-align: right;\n",
       "    }\n",
       "</style>\n",
       "<table border=\"1\" class=\"dataframe\">\n",
       "  <thead>\n",
       "    <tr style=\"text-align: right;\">\n",
       "      <th></th>\n",
       "      <th>task_id</th>\n",
       "      <th>start_time</th>\n",
       "      <th>finish_time</th>\n",
       "      <th>status</th>\n",
       "      <th>worker</th>\n",
       "      <th>build_name</th>\n",
       "      <th>author</th>\n",
       "      <th>project</th>\n",
       "      <th>exec_time</th>\n",
       "      <th>minutes</th>\n",
       "      <th>new_old</th>\n",
       "    </tr>\n",
       "  </thead>\n",
       "  <tbody>\n",
       "    <tr>\n",
       "      <th>11</th>\n",
       "      <td>44990</td>\n",
       "      <td>2005-06-27 13:16:23.410</td>\n",
       "      <td>2005-06-27 13:16:37.504</td>\n",
       "      <td>fail</td>\n",
       "      <td>worker_07</td>\n",
       "      <td>build_cyan_executable</td>\n",
       "      <td>Java Xi</td>\n",
       "      <td>Timeshift</td>\n",
       "      <td>0 days 00:00:14.094000</td>\n",
       "      <td>0.234900</td>\n",
       "      <td>old</td>\n",
       "    </tr>\n",
       "    <tr>\n",
       "      <th>12</th>\n",
       "      <td>44991</td>\n",
       "      <td>2005-06-27 13:27:03.107</td>\n",
       "      <td>2005-06-27 13:29:24.897</td>\n",
       "      <td>fail</td>\n",
       "      <td>worker_08</td>\n",
       "      <td>build_cyan_executable</td>\n",
       "      <td>Java Xi</td>\n",
       "      <td>Timeshift</td>\n",
       "      <td>0 days 00:02:21.790000</td>\n",
       "      <td>2.363167</td>\n",
       "      <td>old</td>\n",
       "    </tr>\n",
       "    <tr>\n",
       "      <th>13</th>\n",
       "      <td>44992</td>\n",
       "      <td>2005-06-27 13:29:26.085</td>\n",
       "      <td>2005-06-27 13:33:10.910</td>\n",
       "      <td>success</td>\n",
       "      <td>worker_08</td>\n",
       "      <td>build_cyan_executable</td>\n",
       "      <td>Java Xi</td>\n",
       "      <td>Timeshift</td>\n",
       "      <td>0 days 00:03:44.825000</td>\n",
       "      <td>3.747083</td>\n",
       "      <td>old</td>\n",
       "    </tr>\n",
       "    <tr>\n",
       "      <th>14</th>\n",
       "      <td>44994</td>\n",
       "      <td>2005-06-27 14:02:46.694</td>\n",
       "      <td>2005-06-27 14:30:50.055</td>\n",
       "      <td>fail</td>\n",
       "      <td>worker_09</td>\n",
       "      <td>build_cyan_executable</td>\n",
       "      <td>Java Xi</td>\n",
       "      <td>Timeshift</td>\n",
       "      <td>0 days 00:28:03.361000</td>\n",
       "      <td>28.056017</td>\n",
       "      <td>old</td>\n",
       "    </tr>\n",
       "    <tr>\n",
       "      <th>15</th>\n",
       "      <td>44996</td>\n",
       "      <td>2005-06-27 14:38:32.822</td>\n",
       "      <td>2005-06-27 14:41:17.406</td>\n",
       "      <td>success</td>\n",
       "      <td>worker_08</td>\n",
       "      <td>build_cyan_executable</td>\n",
       "      <td>Java Xi</td>\n",
       "      <td>Timeshift</td>\n",
       "      <td>0 days 00:02:44.584000</td>\n",
       "      <td>2.743067</td>\n",
       "      <td>old</td>\n",
       "    </tr>\n",
       "  </tbody>\n",
       "</table>\n",
       "</div>"
      ],
      "text/plain": [
       "   task_id              start_time             finish_time   status  \\\n",
       "11   44990 2005-06-27 13:16:23.410 2005-06-27 13:16:37.504     fail   \n",
       "12   44991 2005-06-27 13:27:03.107 2005-06-27 13:29:24.897     fail   \n",
       "13   44992 2005-06-27 13:29:26.085 2005-06-27 13:33:10.910  success   \n",
       "14   44994 2005-06-27 14:02:46.694 2005-06-27 14:30:50.055     fail   \n",
       "15   44996 2005-06-27 14:38:32.822 2005-06-27 14:41:17.406  success   \n",
       "\n",
       "       worker             build_name   author    project  \\\n",
       "11  worker_07  build_cyan_executable  Java Xi  Timeshift   \n",
       "12  worker_08  build_cyan_executable  Java Xi  Timeshift   \n",
       "13  worker_08  build_cyan_executable  Java Xi  Timeshift   \n",
       "14  worker_09  build_cyan_executable  Java Xi  Timeshift   \n",
       "15  worker_08  build_cyan_executable  Java Xi  Timeshift   \n",
       "\n",
       "                exec_time    minutes new_old  \n",
       "11 0 days 00:00:14.094000   0.234900     old  \n",
       "12 0 days 00:02:21.790000   2.363167     old  \n",
       "13 0 days 00:03:44.825000   3.747083     old  \n",
       "14 0 days 00:28:03.361000  28.056017     old  \n",
       "15 0 days 00:02:44.584000   2.743067     old  "
      ]
     },
     "execution_count": 83,
     "metadata": {},
     "output_type": "execute_result"
    }
   ],
   "source": [
    "df_old_workers_ts.head()"
   ]
  },
  {
   "cell_type": "markdown",
   "id": "5d38886b",
   "metadata": {},
   "source": [
    "Сначала просто посмотрю на медианные значения новых и старых сотрудников 2 недели"
   ]
  },
  {
   "cell_type": "code",
   "execution_count": 84,
   "id": "b2b20020",
   "metadata": {},
   "outputs": [
    {
     "data": {
      "text/plain": [
       "8.583675"
      ]
     },
     "execution_count": 84,
     "metadata": {},
     "output_type": "execute_result"
    }
   ],
   "source": [
    "df_old_workers_ts['minutes'].median()"
   ]
  },
  {
   "cell_type": "code",
   "execution_count": 85,
   "id": "01d4ed83",
   "metadata": {},
   "outputs": [
    {
     "data": {
      "text/plain": [
       "9.667016666666667"
      ]
     },
     "execution_count": 85,
     "metadata": {},
     "output_type": "execute_result"
    }
   ],
   "source": [
    "df_new_workers_ts['minutes'].median()"
   ]
  },
  {
   "cell_type": "markdown",
   "id": "75f7eee7",
   "metadata": {},
   "source": [
    "Как видно медиана затраченного времени у новых сотрудников выше"
   ]
  },
  {
   "cell_type": "code",
   "execution_count": 86,
   "id": "c2d627cb",
   "metadata": {
    "scrolled": false
   },
   "outputs": [],
   "source": [
    "df_new_old_ts = pd.concat([df_new_workers_ts[['minutes','new_old']], df_old_workers_ts[['minutes','new_old']]])"
   ]
  },
  {
   "cell_type": "code",
   "execution_count": 87,
   "id": "576a6809",
   "metadata": {
    "scrolled": false
   },
   "outputs": [
    {
     "data": {
      "text/html": [
       "<div>\n",
       "<style scoped>\n",
       "    .dataframe tbody tr th:only-of-type {\n",
       "        vertical-align: middle;\n",
       "    }\n",
       "\n",
       "    .dataframe tbody tr th {\n",
       "        vertical-align: top;\n",
       "    }\n",
       "\n",
       "    .dataframe thead th {\n",
       "        text-align: right;\n",
       "    }\n",
       "</style>\n",
       "<table border=\"1\" class=\"dataframe\">\n",
       "  <thead>\n",
       "    <tr style=\"text-align: right;\">\n",
       "      <th></th>\n",
       "      <th>minutes</th>\n",
       "      <th>new_old</th>\n",
       "    </tr>\n",
       "  </thead>\n",
       "  <tbody>\n",
       "    <tr>\n",
       "      <th>20</th>\n",
       "      <td>5.177483</td>\n",
       "      <td>new</td>\n",
       "    </tr>\n",
       "    <tr>\n",
       "      <th>30</th>\n",
       "      <td>17.445467</td>\n",
       "      <td>new</td>\n",
       "    </tr>\n",
       "    <tr>\n",
       "      <th>468</th>\n",
       "      <td>17.286133</td>\n",
       "      <td>new</td>\n",
       "    </tr>\n",
       "    <tr>\n",
       "      <th>872</th>\n",
       "      <td>6.476650</td>\n",
       "      <td>new</td>\n",
       "    </tr>\n",
       "    <tr>\n",
       "      <th>873</th>\n",
       "      <td>5.366483</td>\n",
       "      <td>new</td>\n",
       "    </tr>\n",
       "    <tr>\n",
       "      <th>...</th>\n",
       "      <td>...</td>\n",
       "      <td>...</td>\n",
       "    </tr>\n",
       "    <tr>\n",
       "      <th>162180</th>\n",
       "      <td>11.316833</td>\n",
       "      <td>old</td>\n",
       "    </tr>\n",
       "    <tr>\n",
       "      <th>162181</th>\n",
       "      <td>25.819167</td>\n",
       "      <td>old</td>\n",
       "    </tr>\n",
       "    <tr>\n",
       "      <th>162182</th>\n",
       "      <td>99.651217</td>\n",
       "      <td>old</td>\n",
       "    </tr>\n",
       "    <tr>\n",
       "      <th>162183</th>\n",
       "      <td>0.104950</td>\n",
       "      <td>old</td>\n",
       "    </tr>\n",
       "    <tr>\n",
       "      <th>162184</th>\n",
       "      <td>2.004983</td>\n",
       "      <td>old</td>\n",
       "    </tr>\n",
       "  </tbody>\n",
       "</table>\n",
       "<p>20889 rows × 2 columns</p>\n",
       "</div>"
      ],
      "text/plain": [
       "          minutes new_old\n",
       "20       5.177483     new\n",
       "30      17.445467     new\n",
       "468     17.286133     new\n",
       "872      6.476650     new\n",
       "873      5.366483     new\n",
       "...           ...     ...\n",
       "162180  11.316833     old\n",
       "162181  25.819167     old\n",
       "162182  99.651217     old\n",
       "162183   0.104950     old\n",
       "162184   2.004983     old\n",
       "\n",
       "[20889 rows x 2 columns]"
      ]
     },
     "execution_count": 87,
     "metadata": {},
     "output_type": "execute_result"
    }
   ],
   "source": [
    "df_new_old_ts"
   ]
  },
  {
   "cell_type": "markdown",
   "id": "96bae5f9",
   "metadata": {},
   "source": [
    "Нужно проверить выполнение нескольких условий:"
   ]
  },
  {
   "cell_type": "markdown",
   "id": "a7d21496",
   "metadata": {},
   "source": [
    "Проверка на нормальность (0 гипотеза: данные взяты из нормального распределения)"
   ]
  },
  {
   "cell_type": "code",
   "execution_count": 88,
   "id": "4b95eaad",
   "metadata": {},
   "outputs": [
    {
     "name": "stderr",
     "output_type": "stream",
     "text": [
      "D:\\anaconda3\\lib\\site-packages\\scipy\\stats\\morestats.py:1760: UserWarning: p-value may not be accurate for N > 5000.\n",
      "  warnings.warn(\"p-value may not be accurate for N > 5000.\")\n"
     ]
    },
    {
     "data": {
      "text/plain": [
       "ShapiroResult(statistic=0.4568632245063782, pvalue=0.0)"
      ]
     },
     "execution_count": 88,
     "metadata": {},
     "output_type": "execute_result"
    }
   ],
   "source": [
    "scipy.stats.shapiro(df_new_old_ts['minutes'])"
   ]
  },
  {
   "cell_type": "code",
   "execution_count": 89,
   "id": "61ac6af3",
   "metadata": {},
   "outputs": [
    {
     "data": {
      "image/png": "[encoded data removed]",
      "text/plain": [
       "<Figure size 432x288 with 1 Axes>"
      ]
     },
     "metadata": {
      "needs_background": "light"
     },
     "output_type": "display_data"
    }
   ],
   "source": [
    "fig, ax = plt.subplots()\n",
    "\n",
    "ax = scipy.stats.probplot(df_new_old_ts['minutes'], plot=plt, rvalue=True)"
   ]
  },
  {
   "cell_type": "markdown",
   "id": "7ef487b2",
   "metadata": {},
   "source": [
    "Отклоняем нулевую гипотезу (данные взяты не из нормального распределения)"
   ]
  },
  {
   "cell_type": "markdown",
   "id": "70a4c51e",
   "metadata": {},
   "source": [
    "Проверка на гомогенность дисперсии (т.к. данные не имеют нормальное распределение, то нужно использовать тест Левена) (0 гипотеза: дисперсии равны)"
   ]
  },
  {
   "cell_type": "code",
   "execution_count": 90,
   "id": "90db57d2",
   "metadata": {},
   "outputs": [],
   "source": [
    "df_new_old_ts_pivoted = df_new_old_ts.pivot(columns='new_old', values='minutes')"
   ]
  },
  {
   "cell_type": "code",
   "execution_count": 91,
   "id": "9416689a",
   "metadata": {
    "scrolled": true
   },
   "outputs": [
    {
     "data": {
      "text/plain": [
       "LeveneResult(statistic=4.388076742497436, pvalue=0.03620313167520565)"
      ]
     },
     "execution_count": 91,
     "metadata": {},
     "output_type": "execute_result"
    }
   ],
   "source": [
    "scipy.stats.levene(df_new_old_ts_pivoted['new'].dropna(), df_new_old_ts_pivoted['old'].dropna()) "
   ]
  },
  {
   "cell_type": "markdown",
   "id": "a6ab972b",
   "metadata": {},
   "source": [
    "Оклоняем нулевую гипотезу, дисперсии не равны"
   ]
  },
  {
   "cell_type": "markdown",
   "id": "19997cd3",
   "metadata": {},
   "source": [
    "Стоит использовать непараметрический критерий"
   ]
  },
  {
   "cell_type": "code",
   "execution_count": 92,
   "id": "5f210144",
   "metadata": {
    "scrolled": true
   },
   "outputs": [
    {
     "data": {
      "text/plain": [
       "MannwhitneyuResult(statistic=10890846.0, pvalue=0.00809880404476622)"
      ]
     },
     "execution_count": 92,
     "metadata": {},
     "output_type": "execute_result"
    }
   ],
   "source": [
    "scipy.stats.mannwhitneyu(df_new_old_ts_pivoted['new'].dropna(), df_new_old_ts_pivoted['old'].dropna())"
   ]
  },
  {
   "cell_type": "markdown",
   "id": "5658edbb",
   "metadata": {},
   "source": [
    "Отклоняем нулевую гипотезу о равенстве медианных значений между новыми и старыми сотрудниками на второй неделе"
   ]
  },
  {
   "cell_type": "markdown",
   "id": "42f0f0ce",
   "metadata": {},
   "source": [
    "Отсюда вывод, что проблема, состоящая в том, что новые сотрудники выполняют таски дольше, оправдана.  \n",
    "Но выполнять они их могут дольше :  \n",
    "1) либо из-за своей компетентности  \n",
    "2) либо из-за самих по себе сложных ресурсозатраных задач, которые даются новым сотрудникам сложно  \n",
    "3) либо, т.к. это новые сотрудники, они старались более тщательно выполнять задачи, а значит и дольше, то есть у них должен быть больший процент выполненных задач "
   ]
  },
  {
   "cell_type": "markdown",
   "id": "44268b3f",
   "metadata": {},
   "source": [
    "1)"
   ]
  },
  {
   "cell_type": "markdown",
   "id": "ea54f288",
   "metadata": {},
   "source": [
    "Проверить компетентность с помощью данных не получится, а вот все остальное можно"
   ]
  },
  {
   "cell_type": "markdown",
   "id": "92ad3f4b",
   "metadata": {},
   "source": [
    "2)"
   ]
  },
  {
   "cell_type": "markdown",
   "id": "06f48fa8",
   "metadata": {},
   "source": [
    "Посмотрю как отличается то, как быстро выполняют старые и новые сотрудники задачи"
   ]
  },
  {
   "cell_type": "code",
   "execution_count": 93,
   "id": "b19d9e9c",
   "metadata": {},
   "outputs": [],
   "source": [
    "df_old_workers_ts_builds = df_old_workers_ts['build_name'].value_counts()\\\n",
    "                     .to_frame()\\\n",
    "                     .reset_index().rename(columns={'build_name':'count_old',\n",
    "                                                    'index':'build_name'})\\\n",
    "                     .merge(df_old_workers_ts.groupby('build_name')['minutes'].sum().to_frame().reset_index(), on='build_name')\\\n",
    "                     .sort_values(by='minutes', ascending=False)"
   ]
  },
  {
   "cell_type": "code",
   "execution_count": 94,
   "id": "a0b14d07",
   "metadata": {},
   "outputs": [],
   "source": [
    "df_new_workers_ts_builds = df_new_workers_ts['build_name'].value_counts()\\\n",
    "                     .to_frame()\\\n",
    "                     .reset_index().rename(columns={'build_name':'count_new',\n",
    "                                                    'index':'build_name'})\\\n",
    "                     .merge(df_new_workers_ts.groupby('build_name')['minutes'].sum().to_frame().reset_index(), on='build_name')\\\n",
    "                     .sort_values(by='minutes', ascending=False)"
   ]
  },
  {
   "cell_type": "code",
   "execution_count": 95,
   "id": "cfcc5b18",
   "metadata": {},
   "outputs": [
    {
     "data": {
      "text/plain": [
       "46"
      ]
     },
     "execution_count": 95,
     "metadata": {},
     "output_type": "execute_result"
    }
   ],
   "source": [
    "df_old_workers_ts_builds.shape[0]"
   ]
  },
  {
   "cell_type": "code",
   "execution_count": 96,
   "id": "b94eda27",
   "metadata": {
    "scrolled": true
   },
   "outputs": [
    {
     "data": {
      "text/plain": [
       "30"
      ]
     },
     "execution_count": 96,
     "metadata": {},
     "output_type": "execute_result"
    }
   ],
   "source": [
    "df_new_workers_ts_builds.shape[0]"
   ]
  },
  {
   "cell_type": "markdown",
   "id": "46faea90",
   "metadata": {},
   "source": [
    "Судя по количеству уникальных задач, для новых работников были поручены не все уникальные задачи. Буду использовать только те задачи, которые выполнялись как старыми, так и новыми сотрудниками"
   ]
  },
  {
   "cell_type": "code",
   "execution_count": 97,
   "id": "0773cddf",
   "metadata": {
    "scrolled": false
   },
   "outputs": [],
   "source": [
    "df_old_new_ts_builds = df_old_workers_ts_builds.merge(df_new_workers_ts_builds, how='inner', on='build_name', suffixes=('_old', '_new'))"
   ]
  },
  {
   "cell_type": "code",
   "execution_count": 98,
   "id": "ff17ebe2",
   "metadata": {},
   "outputs": [
    {
     "data": {
      "text/html": [
       "<div>\n",
       "<style scoped>\n",
       "    .dataframe tbody tr th:only-of-type {\n",
       "        vertical-align: middle;\n",
       "    }\n",
       "\n",
       "    .dataframe tbody tr th {\n",
       "        vertical-align: top;\n",
       "    }\n",
       "\n",
       "    .dataframe thead th {\n",
       "        text-align: right;\n",
       "    }\n",
       "</style>\n",
       "<table border=\"1\" class=\"dataframe\">\n",
       "  <thead>\n",
       "    <tr style=\"text-align: right;\">\n",
       "      <th></th>\n",
       "      <th>build_name</th>\n",
       "      <th>count_old</th>\n",
       "      <th>minutes_old</th>\n",
       "      <th>count_new</th>\n",
       "      <th>minutes_new</th>\n",
       "    </tr>\n",
       "  </thead>\n",
       "  <tbody>\n",
       "    <tr>\n",
       "      <th>0</th>\n",
       "      <td>build_cyan_executable</td>\n",
       "      <td>5147</td>\n",
       "      <td>153882.750917</td>\n",
       "      <td>360</td>\n",
       "      <td>7635.323167</td>\n",
       "    </tr>\n",
       "    <tr>\n",
       "      <th>1</th>\n",
       "      <td>build_cyan_texture</td>\n",
       "      <td>2346</td>\n",
       "      <td>60786.589400</td>\n",
       "      <td>113</td>\n",
       "      <td>2154.066567</td>\n",
       "    </tr>\n",
       "    <tr>\n",
       "      <th>2</th>\n",
       "      <td>validate_green_executable</td>\n",
       "      <td>4527</td>\n",
       "      <td>57820.519367</td>\n",
       "      <td>81</td>\n",
       "      <td>2884.435933</td>\n",
       "    </tr>\n",
       "    <tr>\n",
       "      <th>3</th>\n",
       "      <td>build_yellow_sound</td>\n",
       "      <td>1611</td>\n",
       "      <td>56248.182917</td>\n",
       "      <td>65</td>\n",
       "      <td>2190.521967</td>\n",
       "    </tr>\n",
       "    <tr>\n",
       "      <th>4</th>\n",
       "      <td>deploy_cyan_texture</td>\n",
       "      <td>745</td>\n",
       "      <td>29945.871133</td>\n",
       "      <td>50</td>\n",
       "      <td>1844.907650</td>\n",
       "    </tr>\n",
       "    <tr>\n",
       "      <th>5</th>\n",
       "      <td>validate_blue_executable</td>\n",
       "      <td>988</td>\n",
       "      <td>27978.987667</td>\n",
       "      <td>83</td>\n",
       "      <td>1328.065583</td>\n",
       "    </tr>\n",
       "    <tr>\n",
       "      <th>6</th>\n",
       "      <td>test_red_data</td>\n",
       "      <td>581</td>\n",
       "      <td>23214.000183</td>\n",
       "      <td>28</td>\n",
       "      <td>890.413683</td>\n",
       "    </tr>\n",
       "    <tr>\n",
       "      <th>7</th>\n",
       "      <td>test_green_data</td>\n",
       "      <td>532</td>\n",
       "      <td>21247.440033</td>\n",
       "      <td>36</td>\n",
       "      <td>745.089733</td>\n",
       "    </tr>\n",
       "    <tr>\n",
       "      <th>8</th>\n",
       "      <td>build_green_data</td>\n",
       "      <td>238</td>\n",
       "      <td>13865.304850</td>\n",
       "      <td>17</td>\n",
       "      <td>511.324650</td>\n",
       "    </tr>\n",
       "    <tr>\n",
       "      <th>9</th>\n",
       "      <td>build_red_sound</td>\n",
       "      <td>370</td>\n",
       "      <td>12743.826050</td>\n",
       "      <td>12</td>\n",
       "      <td>371.121133</td>\n",
       "    </tr>\n",
       "    <tr>\n",
       "      <th>10</th>\n",
       "      <td>build_green_texture</td>\n",
       "      <td>152</td>\n",
       "      <td>5996.397867</td>\n",
       "      <td>6</td>\n",
       "      <td>323.564600</td>\n",
       "    </tr>\n",
       "    <tr>\n",
       "      <th>11</th>\n",
       "      <td>build_red_library</td>\n",
       "      <td>267</td>\n",
       "      <td>5943.507900</td>\n",
       "      <td>13</td>\n",
       "      <td>50.330217</td>\n",
       "    </tr>\n",
       "    <tr>\n",
       "      <th>12</th>\n",
       "      <td>validate_blue_sound</td>\n",
       "      <td>990</td>\n",
       "      <td>3913.825450</td>\n",
       "      <td>64</td>\n",
       "      <td>520.640733</td>\n",
       "    </tr>\n",
       "    <tr>\n",
       "      <th>13</th>\n",
       "      <td>test_red_texture</td>\n",
       "      <td>165</td>\n",
       "      <td>3068.500783</td>\n",
       "      <td>9</td>\n",
       "      <td>107.481250</td>\n",
       "    </tr>\n",
       "    <tr>\n",
       "      <th>14</th>\n",
       "      <td>deploy_blue_library</td>\n",
       "      <td>8</td>\n",
       "      <td>1602.098700</td>\n",
       "      <td>2</td>\n",
       "      <td>400.621267</td>\n",
       "    </tr>\n",
       "    <tr>\n",
       "      <th>15</th>\n",
       "      <td>build_green_sound</td>\n",
       "      <td>98</td>\n",
       "      <td>1556.600983</td>\n",
       "      <td>3</td>\n",
       "      <td>57.654917</td>\n",
       "    </tr>\n",
       "    <tr>\n",
       "      <th>16</th>\n",
       "      <td>test_cyan_data</td>\n",
       "      <td>104</td>\n",
       "      <td>1144.434117</td>\n",
       "      <td>68</td>\n",
       "      <td>1396.874700</td>\n",
       "    </tr>\n",
       "    <tr>\n",
       "      <th>17</th>\n",
       "      <td>test_green_texture</td>\n",
       "      <td>4</td>\n",
       "      <td>1136.999700</td>\n",
       "      <td>2</td>\n",
       "      <td>371.762417</td>\n",
       "    </tr>\n",
       "    <tr>\n",
       "      <th>18</th>\n",
       "      <td>validate_green_library</td>\n",
       "      <td>114</td>\n",
       "      <td>794.834867</td>\n",
       "      <td>2</td>\n",
       "      <td>0.027867</td>\n",
       "    </tr>\n",
       "    <tr>\n",
       "      <th>19</th>\n",
       "      <td>deploy_yellow_executable</td>\n",
       "      <td>34</td>\n",
       "      <td>580.761933</td>\n",
       "      <td>1</td>\n",
       "      <td>18.317400</td>\n",
       "    </tr>\n",
       "    <tr>\n",
       "      <th>20</th>\n",
       "      <td>build_red_data</td>\n",
       "      <td>153</td>\n",
       "      <td>288.127533</td>\n",
       "      <td>6</td>\n",
       "      <td>5.843967</td>\n",
       "    </tr>\n",
       "    <tr>\n",
       "      <th>21</th>\n",
       "      <td>build_yellow_library</td>\n",
       "      <td>6</td>\n",
       "      <td>154.639433</td>\n",
       "      <td>1</td>\n",
       "      <td>5.365733</td>\n",
       "    </tr>\n",
       "    <tr>\n",
       "      <th>22</th>\n",
       "      <td>deploy_red_texture</td>\n",
       "      <td>39</td>\n",
       "      <td>149.437350</td>\n",
       "      <td>3</td>\n",
       "      <td>24.202100</td>\n",
       "    </tr>\n",
       "    <tr>\n",
       "      <th>23</th>\n",
       "      <td>deploy_green_data</td>\n",
       "      <td>174</td>\n",
       "      <td>114.082383</td>\n",
       "      <td>4</td>\n",
       "      <td>12.311833</td>\n",
       "    </tr>\n",
       "    <tr>\n",
       "      <th>24</th>\n",
       "      <td>test_blue_executable</td>\n",
       "      <td>31</td>\n",
       "      <td>71.755817</td>\n",
       "      <td>2</td>\n",
       "      <td>3.551650</td>\n",
       "    </tr>\n",
       "    <tr>\n",
       "      <th>25</th>\n",
       "      <td>build_blue_sound</td>\n",
       "      <td>4</td>\n",
       "      <td>66.641283</td>\n",
       "      <td>1</td>\n",
       "      <td>11.210017</td>\n",
       "    </tr>\n",
       "    <tr>\n",
       "      <th>26</th>\n",
       "      <td>build_red_executable</td>\n",
       "      <td>143</td>\n",
       "      <td>60.768117</td>\n",
       "      <td>9</td>\n",
       "      <td>2.641650</td>\n",
       "    </tr>\n",
       "    <tr>\n",
       "      <th>27</th>\n",
       "      <td>test_blue_library</td>\n",
       "      <td>26</td>\n",
       "      <td>46.316650</td>\n",
       "      <td>1</td>\n",
       "      <td>0.156817</td>\n",
       "    </tr>\n",
       "    <tr>\n",
       "      <th>28</th>\n",
       "      <td>test_yellow_texture</td>\n",
       "      <td>29</td>\n",
       "      <td>44.436133</td>\n",
       "      <td>4</td>\n",
       "      <td>9.352000</td>\n",
       "    </tr>\n",
       "  </tbody>\n",
       "</table>\n",
       "</div>"
      ],
      "text/plain": [
       "                   build_name  count_old    minutes_old  count_new  \\\n",
       "0       build_cyan_executable       5147  153882.750917        360   \n",
       "1          build_cyan_texture       2346   60786.589400        113   \n",
       "2   validate_green_executable       4527   57820.519367         81   \n",
       "3          build_yellow_sound       1611   56248.182917         65   \n",
       "4         deploy_cyan_texture        745   29945.871133         50   \n",
       "5    validate_blue_executable        988   27978.987667         83   \n",
       "6               test_red_data        581   23214.000183         28   \n",
       "7             test_green_data        532   21247.440033         36   \n",
       "8            build_green_data        238   13865.304850         17   \n",
       "9             build_red_sound        370   12743.826050         12   \n",
       "10        build_green_texture        152    5996.397867          6   \n",
       "11          build_red_library        267    5943.507900         13   \n",
       "12        validate_blue_sound        990    3913.825450         64   \n",
       "13           test_red_texture        165    3068.500783          9   \n",
       "14        deploy_blue_library          8    1602.098700          2   \n",
       "15          build_green_sound         98    1556.600983          3   \n",
       "16             test_cyan_data        104    1144.434117         68   \n",
       "17         test_green_texture          4    1136.999700          2   \n",
       "18     validate_green_library        114     794.834867          2   \n",
       "19   deploy_yellow_executable         34     580.761933          1   \n",
       "20             build_red_data        153     288.127533          6   \n",
       "21       build_yellow_library          6     154.639433          1   \n",
       "22         deploy_red_texture         39     149.437350          3   \n",
       "23          deploy_green_data        174     114.082383          4   \n",
       "24       test_blue_executable         31      71.755817          2   \n",
       "25           build_blue_sound          4      66.641283          1   \n",
       "26       build_red_executable        143      60.768117          9   \n",
       "27          test_blue_library         26      46.316650          1   \n",
       "28        test_yellow_texture         29      44.436133          4   \n",
       "\n",
       "    minutes_new  \n",
       "0   7635.323167  \n",
       "1   2154.066567  \n",
       "2   2884.435933  \n",
       "3   2190.521967  \n",
       "4   1844.907650  \n",
       "5   1328.065583  \n",
       "6    890.413683  \n",
       "7    745.089733  \n",
       "8    511.324650  \n",
       "9    371.121133  \n",
       "10   323.564600  \n",
       "11    50.330217  \n",
       "12   520.640733  \n",
       "13   107.481250  \n",
       "14   400.621267  \n",
       "15    57.654917  \n",
       "16  1396.874700  \n",
       "17   371.762417  \n",
       "18     0.027867  \n",
       "19    18.317400  \n",
       "20     5.843967  \n",
       "21     5.365733  \n",
       "22    24.202100  \n",
       "23    12.311833  \n",
       "24     3.551650  \n",
       "25    11.210017  \n",
       "26     2.641650  \n",
       "27     0.156817  \n",
       "28     9.352000  "
      ]
     },
     "execution_count": 98,
     "metadata": {},
     "output_type": "execute_result"
    }
   ],
   "source": [
    "df_old_new_ts_builds"
   ]
  },
  {
   "cell_type": "markdown",
   "id": "d6dd03d9",
   "metadata": {},
   "source": [
    "Посмотрю временя выполнения каждой задачи для новых и старых сотрудников"
   ]
  },
  {
   "cell_type": "code",
   "execution_count": 99,
   "id": "0067926c",
   "metadata": {
    "scrolled": true
   },
   "outputs": [],
   "source": [
    "df_old_new_ts_builds['task_time_old'] = df_old_new_ts_builds['minutes_old']/df_old_new_ts_builds['count_old']"
   ]
  },
  {
   "cell_type": "code",
   "execution_count": 100,
   "id": "9136bebd",
   "metadata": {},
   "outputs": [],
   "source": [
    "df_old_new_ts_builds['task_time_new'] = df_old_new_ts_builds['minutes_new']/df_old_new_ts_builds['count_new']"
   ]
  },
  {
   "cell_type": "code",
   "execution_count": 101,
   "id": "a5b3ef00",
   "metadata": {
    "scrolled": false
   },
   "outputs": [
    {
     "data": {
      "text/html": [
       "<div>\n",
       "<style scoped>\n",
       "    .dataframe tbody tr th:only-of-type {\n",
       "        vertical-align: middle;\n",
       "    }\n",
       "\n",
       "    .dataframe tbody tr th {\n",
       "        vertical-align: top;\n",
       "    }\n",
       "\n",
       "    .dataframe thead th {\n",
       "        text-align: right;\n",
       "    }\n",
       "</style>\n",
       "<table border=\"1\" class=\"dataframe\">\n",
       "  <thead>\n",
       "    <tr style=\"text-align: right;\">\n",
       "      <th></th>\n",
       "      <th>build_name</th>\n",
       "      <th>count_old</th>\n",
       "      <th>minutes_old</th>\n",
       "      <th>count_new</th>\n",
       "      <th>minutes_new</th>\n",
       "      <th>task_time_old</th>\n",
       "      <th>task_time_new</th>\n",
       "    </tr>\n",
       "  </thead>\n",
       "  <tbody>\n",
       "    <tr>\n",
       "      <th>0</th>\n",
       "      <td>build_cyan_executable</td>\n",
       "      <td>5147</td>\n",
       "      <td>153882.750917</td>\n",
       "      <td>360</td>\n",
       "      <td>7635.323167</td>\n",
       "      <td>29.897562</td>\n",
       "      <td>21.209231</td>\n",
       "    </tr>\n",
       "    <tr>\n",
       "      <th>1</th>\n",
       "      <td>build_cyan_texture</td>\n",
       "      <td>2346</td>\n",
       "      <td>60786.589400</td>\n",
       "      <td>113</td>\n",
       "      <td>2154.066567</td>\n",
       "      <td>25.910737</td>\n",
       "      <td>19.062536</td>\n",
       "    </tr>\n",
       "    <tr>\n",
       "      <th>2</th>\n",
       "      <td>validate_green_executable</td>\n",
       "      <td>4527</td>\n",
       "      <td>57820.519367</td>\n",
       "      <td>81</td>\n",
       "      <td>2884.435933</td>\n",
       "      <td>12.772370</td>\n",
       "      <td>35.610320</td>\n",
       "    </tr>\n",
       "    <tr>\n",
       "      <th>3</th>\n",
       "      <td>build_yellow_sound</td>\n",
       "      <td>1611</td>\n",
       "      <td>56248.182917</td>\n",
       "      <td>65</td>\n",
       "      <td>2190.521967</td>\n",
       "      <td>34.915073</td>\n",
       "      <td>33.700338</td>\n",
       "    </tr>\n",
       "    <tr>\n",
       "      <th>4</th>\n",
       "      <td>deploy_cyan_texture</td>\n",
       "      <td>745</td>\n",
       "      <td>29945.871133</td>\n",
       "      <td>50</td>\n",
       "      <td>1844.907650</td>\n",
       "      <td>40.195800</td>\n",
       "      <td>36.898153</td>\n",
       "    </tr>\n",
       "    <tr>\n",
       "      <th>5</th>\n",
       "      <td>validate_blue_executable</td>\n",
       "      <td>988</td>\n",
       "      <td>27978.987667</td>\n",
       "      <td>83</td>\n",
       "      <td>1328.065583</td>\n",
       "      <td>28.318813</td>\n",
       "      <td>16.000790</td>\n",
       "    </tr>\n",
       "    <tr>\n",
       "      <th>6</th>\n",
       "      <td>test_red_data</td>\n",
       "      <td>581</td>\n",
       "      <td>23214.000183</td>\n",
       "      <td>28</td>\n",
       "      <td>890.413683</td>\n",
       "      <td>39.955250</td>\n",
       "      <td>31.800489</td>\n",
       "    </tr>\n",
       "    <tr>\n",
       "      <th>7</th>\n",
       "      <td>test_green_data</td>\n",
       "      <td>532</td>\n",
       "      <td>21247.440033</td>\n",
       "      <td>36</td>\n",
       "      <td>745.089733</td>\n",
       "      <td>39.938797</td>\n",
       "      <td>20.696937</td>\n",
       "    </tr>\n",
       "    <tr>\n",
       "      <th>8</th>\n",
       "      <td>build_green_data</td>\n",
       "      <td>238</td>\n",
       "      <td>13865.304850</td>\n",
       "      <td>17</td>\n",
       "      <td>511.324650</td>\n",
       "      <td>58.257583</td>\n",
       "      <td>30.077921</td>\n",
       "    </tr>\n",
       "    <tr>\n",
       "      <th>9</th>\n",
       "      <td>build_red_sound</td>\n",
       "      <td>370</td>\n",
       "      <td>12743.826050</td>\n",
       "      <td>12</td>\n",
       "      <td>371.121133</td>\n",
       "      <td>34.442773</td>\n",
       "      <td>30.926761</td>\n",
       "    </tr>\n",
       "    <tr>\n",
       "      <th>10</th>\n",
       "      <td>build_green_texture</td>\n",
       "      <td>152</td>\n",
       "      <td>5996.397867</td>\n",
       "      <td>6</td>\n",
       "      <td>323.564600</td>\n",
       "      <td>39.449986</td>\n",
       "      <td>53.927433</td>\n",
       "    </tr>\n",
       "    <tr>\n",
       "      <th>11</th>\n",
       "      <td>build_red_library</td>\n",
       "      <td>267</td>\n",
       "      <td>5943.507900</td>\n",
       "      <td>13</td>\n",
       "      <td>50.330217</td>\n",
       "      <td>22.260329</td>\n",
       "      <td>3.871555</td>\n",
       "    </tr>\n",
       "    <tr>\n",
       "      <th>12</th>\n",
       "      <td>validate_blue_sound</td>\n",
       "      <td>990</td>\n",
       "      <td>3913.825450</td>\n",
       "      <td>64</td>\n",
       "      <td>520.640733</td>\n",
       "      <td>3.953359</td>\n",
       "      <td>8.135011</td>\n",
       "    </tr>\n",
       "    <tr>\n",
       "      <th>13</th>\n",
       "      <td>test_red_texture</td>\n",
       "      <td>165</td>\n",
       "      <td>3068.500783</td>\n",
       "      <td>9</td>\n",
       "      <td>107.481250</td>\n",
       "      <td>18.596974</td>\n",
       "      <td>11.942361</td>\n",
       "    </tr>\n",
       "    <tr>\n",
       "      <th>14</th>\n",
       "      <td>deploy_blue_library</td>\n",
       "      <td>8</td>\n",
       "      <td>1602.098700</td>\n",
       "      <td>2</td>\n",
       "      <td>400.621267</td>\n",
       "      <td>200.262338</td>\n",
       "      <td>200.310633</td>\n",
       "    </tr>\n",
       "    <tr>\n",
       "      <th>15</th>\n",
       "      <td>build_green_sound</td>\n",
       "      <td>98</td>\n",
       "      <td>1556.600983</td>\n",
       "      <td>3</td>\n",
       "      <td>57.654917</td>\n",
       "      <td>15.883684</td>\n",
       "      <td>19.218306</td>\n",
       "    </tr>\n",
       "    <tr>\n",
       "      <th>16</th>\n",
       "      <td>test_cyan_data</td>\n",
       "      <td>104</td>\n",
       "      <td>1144.434117</td>\n",
       "      <td>68</td>\n",
       "      <td>1396.874700</td>\n",
       "      <td>11.004174</td>\n",
       "      <td>20.542275</td>\n",
       "    </tr>\n",
       "    <tr>\n",
       "      <th>17</th>\n",
       "      <td>test_green_texture</td>\n",
       "      <td>4</td>\n",
       "      <td>1136.999700</td>\n",
       "      <td>2</td>\n",
       "      <td>371.762417</td>\n",
       "      <td>284.249925</td>\n",
       "      <td>185.881208</td>\n",
       "    </tr>\n",
       "    <tr>\n",
       "      <th>18</th>\n",
       "      <td>validate_green_library</td>\n",
       "      <td>114</td>\n",
       "      <td>794.834867</td>\n",
       "      <td>2</td>\n",
       "      <td>0.027867</td>\n",
       "      <td>6.972236</td>\n",
       "      <td>0.013933</td>\n",
       "    </tr>\n",
       "    <tr>\n",
       "      <th>19</th>\n",
       "      <td>deploy_yellow_executable</td>\n",
       "      <td>34</td>\n",
       "      <td>580.761933</td>\n",
       "      <td>1</td>\n",
       "      <td>18.317400</td>\n",
       "      <td>17.081233</td>\n",
       "      <td>18.317400</td>\n",
       "    </tr>\n",
       "    <tr>\n",
       "      <th>20</th>\n",
       "      <td>build_red_data</td>\n",
       "      <td>153</td>\n",
       "      <td>288.127533</td>\n",
       "      <td>6</td>\n",
       "      <td>5.843967</td>\n",
       "      <td>1.883186</td>\n",
       "      <td>0.973994</td>\n",
       "    </tr>\n",
       "    <tr>\n",
       "      <th>21</th>\n",
       "      <td>build_yellow_library</td>\n",
       "      <td>6</td>\n",
       "      <td>154.639433</td>\n",
       "      <td>1</td>\n",
       "      <td>5.365733</td>\n",
       "      <td>25.773239</td>\n",
       "      <td>5.365733</td>\n",
       "    </tr>\n",
       "    <tr>\n",
       "      <th>22</th>\n",
       "      <td>deploy_red_texture</td>\n",
       "      <td>39</td>\n",
       "      <td>149.437350</td>\n",
       "      <td>3</td>\n",
       "      <td>24.202100</td>\n",
       "      <td>3.831727</td>\n",
       "      <td>8.067367</td>\n",
       "    </tr>\n",
       "    <tr>\n",
       "      <th>23</th>\n",
       "      <td>deploy_green_data</td>\n",
       "      <td>174</td>\n",
       "      <td>114.082383</td>\n",
       "      <td>4</td>\n",
       "      <td>12.311833</td>\n",
       "      <td>0.655646</td>\n",
       "      <td>3.077958</td>\n",
       "    </tr>\n",
       "    <tr>\n",
       "      <th>24</th>\n",
       "      <td>test_blue_executable</td>\n",
       "      <td>31</td>\n",
       "      <td>71.755817</td>\n",
       "      <td>2</td>\n",
       "      <td>3.551650</td>\n",
       "      <td>2.314704</td>\n",
       "      <td>1.775825</td>\n",
       "    </tr>\n",
       "    <tr>\n",
       "      <th>25</th>\n",
       "      <td>build_blue_sound</td>\n",
       "      <td>4</td>\n",
       "      <td>66.641283</td>\n",
       "      <td>1</td>\n",
       "      <td>11.210017</td>\n",
       "      <td>16.660321</td>\n",
       "      <td>11.210017</td>\n",
       "    </tr>\n",
       "    <tr>\n",
       "      <th>26</th>\n",
       "      <td>build_red_executable</td>\n",
       "      <td>143</td>\n",
       "      <td>60.768117</td>\n",
       "      <td>9</td>\n",
       "      <td>2.641650</td>\n",
       "      <td>0.424952</td>\n",
       "      <td>0.293517</td>\n",
       "    </tr>\n",
       "    <tr>\n",
       "      <th>27</th>\n",
       "      <td>test_blue_library</td>\n",
       "      <td>26</td>\n",
       "      <td>46.316650</td>\n",
       "      <td>1</td>\n",
       "      <td>0.156817</td>\n",
       "      <td>1.781410</td>\n",
       "      <td>0.156817</td>\n",
       "    </tr>\n",
       "    <tr>\n",
       "      <th>28</th>\n",
       "      <td>test_yellow_texture</td>\n",
       "      <td>29</td>\n",
       "      <td>44.436133</td>\n",
       "      <td>4</td>\n",
       "      <td>9.352000</td>\n",
       "      <td>1.532280</td>\n",
       "      <td>2.338000</td>\n",
       "    </tr>\n",
       "  </tbody>\n",
       "</table>\n",
       "</div>"
      ],
      "text/plain": [
       "                   build_name  count_old    minutes_old  count_new  \\\n",
       "0       build_cyan_executable       5147  153882.750917        360   \n",
       "1          build_cyan_texture       2346   60786.589400        113   \n",
       "2   validate_green_executable       4527   57820.519367         81   \n",
       "3          build_yellow_sound       1611   56248.182917         65   \n",
       "4         deploy_cyan_texture        745   29945.871133         50   \n",
       "5    validate_blue_executable        988   27978.987667         83   \n",
       "6               test_red_data        581   23214.000183         28   \n",
       "7             test_green_data        532   21247.440033         36   \n",
       "8            build_green_data        238   13865.304850         17   \n",
       "9             build_red_sound        370   12743.826050         12   \n",
       "10        build_green_texture        152    5996.397867          6   \n",
       "11          build_red_library        267    5943.507900         13   \n",
       "12        validate_blue_sound        990    3913.825450         64   \n",
       "13           test_red_texture        165    3068.500783          9   \n",
       "14        deploy_blue_library          8    1602.098700          2   \n",
       "15          build_green_sound         98    1556.600983          3   \n",
       "16             test_cyan_data        104    1144.434117         68   \n",
       "17         test_green_texture          4    1136.999700          2   \n",
       "18     validate_green_library        114     794.834867          2   \n",
       "19   deploy_yellow_executable         34     580.761933          1   \n",
       "20             build_red_data        153     288.127533          6   \n",
       "21       build_yellow_library          6     154.639433          1   \n",
       "22         deploy_red_texture         39     149.437350          3   \n",
       "23          deploy_green_data        174     114.082383          4   \n",
       "24       test_blue_executable         31      71.755817          2   \n",
       "25           build_blue_sound          4      66.641283          1   \n",
       "26       build_red_executable        143      60.768117          9   \n",
       "27          test_blue_library         26      46.316650          1   \n",
       "28        test_yellow_texture         29      44.436133          4   \n",
       "\n",
       "    minutes_new  task_time_old  task_time_new  \n",
       "0   7635.323167      29.897562      21.209231  \n",
       "1   2154.066567      25.910737      19.062536  \n",
       "2   2884.435933      12.772370      35.610320  \n",
       "3   2190.521967      34.915073      33.700338  \n",
       "4   1844.907650      40.195800      36.898153  \n",
       "5   1328.065583      28.318813      16.000790  \n",
       "6    890.413683      39.955250      31.800489  \n",
       "7    745.089733      39.938797      20.696937  \n",
       "8    511.324650      58.257583      30.077921  \n",
       "9    371.121133      34.442773      30.926761  \n",
       "10   323.564600      39.449986      53.927433  \n",
       "11    50.330217      22.260329       3.871555  \n",
       "12   520.640733       3.953359       8.135011  \n",
       "13   107.481250      18.596974      11.942361  \n",
       "14   400.621267     200.262338     200.310633  \n",
       "15    57.654917      15.883684      19.218306  \n",
       "16  1396.874700      11.004174      20.542275  \n",
       "17   371.762417     284.249925     185.881208  \n",
       "18     0.027867       6.972236       0.013933  \n",
       "19    18.317400      17.081233      18.317400  \n",
       "20     5.843967       1.883186       0.973994  \n",
       "21     5.365733      25.773239       5.365733  \n",
       "22    24.202100       3.831727       8.067367  \n",
       "23    12.311833       0.655646       3.077958  \n",
       "24     3.551650       2.314704       1.775825  \n",
       "25    11.210017      16.660321      11.210017  \n",
       "26     2.641650       0.424952       0.293517  \n",
       "27     0.156817       1.781410       0.156817  \n",
       "28     9.352000       1.532280       2.338000  "
      ]
     },
     "execution_count": 101,
     "metadata": {},
     "output_type": "execute_result"
    }
   ],
   "source": [
    "df_old_new_ts_builds"
   ]
  },
  {
   "cell_type": "markdown",
   "id": "13e84f47",
   "metadata": {},
   "source": [
    "Отсюда видно, что какие-то виды тасок новые сотрудники стали выполнять быстрее, какие-то медленне"
   ]
  },
  {
   "cell_type": "markdown",
   "id": "3563cfe8",
   "metadata": {},
   "source": [
    "Проверю есть ли статистически значимые различия между медианными значениями для всех задач, выполненными как старыми, так и новыми сотрудниками  \n",
    "Нулевая гипотеза: различий в медианных значениях нет; альфа=0.05"
   ]
  },
  {
   "cell_type": "code",
   "execution_count": 102,
   "id": "e63418a6",
   "metadata": {},
   "outputs": [
    {
     "data": {
      "text/plain": [
       "MannwhitneyuResult(statistic=465.0, pvalue=0.49381284805148606)"
      ]
     },
     "execution_count": 102,
     "metadata": {},
     "output_type": "execute_result"
    }
   ],
   "source": [
    "scipy.stats.mannwhitneyu(df_old_new_ts_builds['task_time_old'], df_old_new_ts_builds['task_time_new'])"
   ]
  },
  {
   "cell_type": "markdown",
   "id": "53b2dda9",
   "metadata": {},
   "source": [
    "Нулевая гипотеза отвергается, можно сказать, что медианно новые сотрудники выполняют сами задачи не так, как старые сотрудники"
   ]
  },
  {
   "cell_type": "markdown",
   "id": "61081dfb",
   "metadata": {},
   "source": [
    "3)"
   ]
  },
  {
   "cell_type": "markdown",
   "id": "f6f60369",
   "metadata": {},
   "source": [
    "Посмотрю на соотношение классов относительно статуса таски"
   ]
  },
  {
   "cell_type": "code",
   "execution_count": 103,
   "id": "b9e0ecb4",
   "metadata": {},
   "outputs": [
    {
     "data": {
      "text/plain": [
       "Text(0.5, 1.0, 'new workers')"
      ]
     },
     "execution_count": 103,
     "metadata": {},
     "output_type": "execute_result"
    },
    {
     "data": {
      "image/png": "[encoded data removed]",
      "text/plain": [
       "<Figure size 720x720 with 2 Axes>"
      ]
     },
     "metadata": {},
     "output_type": "display_data"
    }
   ],
   "source": [
    "fig, ax = plt.subplots(1,2, figsize=(10,10))\n",
    "\n",
    "ax[0].pie(df_old_workers_ts['status'].value_counts(), labels=df_old_workers_ts['status'].value_counts().index, autopct='%.2f%%')\n",
    "ax[1].pie(df_new_workers_ts['status'].value_counts(), labels=df_new_workers_ts['status'].value_counts().index, autopct='%.2f%%')\n",
    "\n",
    "ax[0].set_title('old workers')\n",
    "ax[1].set_title('new workers')"
   ]
  },
  {
   "cell_type": "markdown",
   "id": "719137ee",
   "metadata": {},
   "source": [
    "Как можно заметить, соотношение можно назвать схожим, это говорит о том, что новые сотрудники в примерно таком же соотношении успешно выполняют, отмененяют, и не выполненяют таски"
   ]
  },
  {
   "cell_type": "markdown",
   "id": "40bf1de6",
   "metadata": {},
   "source": [
    "Но нужно узнать сколько они тратят времени на успешное выполнение таски"
   ]
  },
  {
   "cell_type": "code",
   "execution_count": 104,
   "id": "01e0591e",
   "metadata": {},
   "outputs": [
    {
     "data": {
      "text/plain": [
       "8.8474"
      ]
     },
     "execution_count": 104,
     "metadata": {},
     "output_type": "execute_result"
    }
   ],
   "source": [
    "df_old_workers_ts[df_old_workers_ts['status']=='success']['minutes'].median()"
   ]
  },
  {
   "cell_type": "code",
   "execution_count": 105,
   "id": "8fbddf01",
   "metadata": {},
   "outputs": [
    {
     "data": {
      "text/plain": [
       "9.0842"
      ]
     },
     "execution_count": 105,
     "metadata": {},
     "output_type": "execute_result"
    }
   ],
   "source": [
    "df_new_workers_ts[df_new_workers_ts['status']=='success']['minutes'].median()"
   ]
  },
  {
   "cell_type": "markdown",
   "id": "e9e99de8",
   "metadata": {},
   "source": [
    "Проверю есть ли статистически значимая разница в медианных значениях для старых и новых сотрудников, которые успешно выполнили таски  \n",
    "Нулевая гипотеза: разницы в медианах двух групп нет; альфа=0.05"
   ]
  },
  {
   "cell_type": "code",
   "execution_count": 106,
   "id": "fa9dd429",
   "metadata": {},
   "outputs": [
    {
     "data": {
      "text/plain": [
       "MannwhitneyuResult(statistic=3387813.0, pvalue=0.07001739440564002)"
      ]
     },
     "execution_count": 106,
     "metadata": {},
     "output_type": "execute_result"
    }
   ],
   "source": [
    "scipy.stats.mannwhitneyu(df_old_workers_ts[df_old_workers_ts['status']=='success']['minutes'], df_new_workers_ts[df_new_workers_ts['status']=='success']['minutes'])"
   ]
  },
  {
   "cell_type": "markdown",
   "id": "66c8294b",
   "metadata": {},
   "source": [
    "Принимаем нулевую гипотезу, нет разницы в медиане между старыми и новыми сотрудниками, успешно выполнившими таски. Можно сказать, что хоть и новые работники медианно тратят больше времени на успешное выполнение таски, но это не является статистически значимым"
   ]
  },
  {
   "cell_type": "markdown",
   "id": "4d8e0e7b",
   "metadata": {},
   "source": [
    "Из всего этого можно сделать вывод, что статистически значимая разница между новыми и старыми сотрудниками может объясняеться как тем, что сотрудники, которые появились на второй неделе хуже выполняют конкретные задачи относительно сотрудников, которые уже были в первой неделе, так и иными факторами, которые не доказать через имеющиеся данные"
   ]
  },
  {
   "cell_type": "markdown",
   "id": "b1bccb7c",
   "metadata": {},
   "source": [
    "### 2"
   ]
  },
  {
   "cell_type": "markdown",
   "id": "9ef1fc87",
   "metadata": {},
   "source": [
    "Посмотрю на медианные значения затраченных ресурсов сотрудниками, которые были и на первой, и на второй неделе"
   ]
  },
  {
   "cell_type": "code",
   "execution_count": 107,
   "id": "a8d613f8",
   "metadata": {},
   "outputs": [
    {
     "data": {
      "text/plain": [
       "5.874116666666667"
      ]
     },
     "execution_count": 107,
     "metadata": {},
     "output_type": "execute_result"
    }
   ],
   "source": [
    "df1w_ts['minutes'].median()"
   ]
  },
  {
   "cell_type": "code",
   "execution_count": 108,
   "id": "fd9dbdc5",
   "metadata": {
    "scrolled": false
   },
   "outputs": [
    {
     "data": {
      "text/plain": [
       "8.583675"
      ]
     },
     "execution_count": 108,
     "metadata": {},
     "output_type": "execute_result"
    }
   ],
   "source": [
    "df_old_workers_ts['minutes'].median()"
   ]
  },
  {
   "cell_type": "markdown",
   "id": "49b0a4d3",
   "metadata": {},
   "source": [
    "Проверю является ли эта разница статистически значимой  \n",
    "Нулевая гипотеза: разницы в медианах затраченных ресурсов между одними и теми же сотрудниками на 1 и 2 недели нет; альфа=0.05"
   ]
  },
  {
   "cell_type": "code",
   "execution_count": 109,
   "id": "24033abc",
   "metadata": {},
   "outputs": [
    {
     "data": {
      "text/plain": [
       "MannwhitneyuResult(statistic=166806485.5, pvalue=5.631445090500635e-60)"
      ]
     },
     "execution_count": 109,
     "metadata": {},
     "output_type": "execute_result"
    }
   ],
   "source": [
    "scipy.stats.mannwhitneyu(df1w_ts['minutes'], df_old_workers_ts['minutes'])"
   ]
  },
  {
   "cell_type": "markdown",
   "id": "aa0d5119",
   "metadata": {},
   "source": [
    "Нулевую гипотезу можно отвергнуть, разница в медианных значениях этих групп есть.  \n",
    "Отсюда вывод, что одни и те же сотрудники стали выполнять задачи дольше.  \n",
    "Это может быть по ряду причин:\n",
    "1) ушли сотрудники, которые оказывали сильное влияние на быстрое решение задач  \n",
    "2) задачи для сотрудников стали сложнее, либо добавились новые сложные задачи  \n",
    "3) сотрудники стали тщательнее выполнять задачи  \n",
    "4) иные факторы"
   ]
  },
  {
   "cell_type": "markdown",
   "id": "c94fe082",
   "metadata": {},
   "source": [
    "1)"
   ]
  },
  {
   "cell_type": "markdown",
   "id": "2bdddcf1",
   "metadata": {},
   "source": [
    "Вопрос про ушедших сотрудников можно закрыть, т.к. выше я показал, что ушел один сотрудник, вдобавок, он выполнял задачи медленне большинства"
   ]
  },
  {
   "cell_type": "markdown",
   "id": "958265ef",
   "metadata": {},
   "source": [
    "2)"
   ]
  },
  {
   "cell_type": "markdown",
   "id": "b42672f9",
   "metadata": {},
   "source": [
    "Посмотрю как быстро выполняют одни и те же сотрудники задачи в первую и вторую недели"
   ]
  },
  {
   "cell_type": "code",
   "execution_count": 110,
   "id": "c8b2d60b",
   "metadata": {},
   "outputs": [],
   "source": [
    "df_builds_before_ts = df1w_ts['build_name'].value_counts()\\\n",
    "                                            .to_frame()\\\n",
    "                                            .reset_index().rename(columns={'index':'build_name',\n",
    "                                                                           'build_name':'count_before'})\\\n",
    "                                            .merge(df1w_ts.groupby('build_name')['minutes'].sum().to_frame().reset_index(), on='build_name')\\\n",
    "                                            .sort_values(by='minutes', ascending=False)"
   ]
  },
  {
   "cell_type": "code",
   "execution_count": 111,
   "id": "7273619e",
   "metadata": {},
   "outputs": [],
   "source": [
    "df_builds_after_ts = df_old_workers_ts['build_name'].value_counts()\\\n",
    "                                            .to_frame()\\\n",
    "                                            .reset_index().rename(columns={'index':'build_name',\n",
    "                                                                           'build_name':'count_after'})\\\n",
    "                                            .merge(df_old_workers_ts.groupby('build_name')['minutes'].sum().to_frame().reset_index(), on='build_name')\\\n",
    "                                            .sort_values(by='minutes', ascending=False)"
   ]
  },
  {
   "cell_type": "code",
   "execution_count": 112,
   "id": "38412a5f",
   "metadata": {},
   "outputs": [],
   "source": [
    "df_builds_b_a_ts = df_builds_before_ts.merge(df_builds_after_ts, how='outer', on='build_name', suffixes=('_before', '_after'))"
   ]
  },
  {
   "cell_type": "code",
   "execution_count": 113,
   "id": "b6bafdcf",
   "metadata": {
    "scrolled": true
   },
   "outputs": [
    {
     "data": {
      "text/html": [
       "<div>\n",
       "<style scoped>\n",
       "    .dataframe tbody tr th:only-of-type {\n",
       "        vertical-align: middle;\n",
       "    }\n",
       "\n",
       "    .dataframe tbody tr th {\n",
       "        vertical-align: top;\n",
       "    }\n",
       "\n",
       "    .dataframe thead th {\n",
       "        text-align: right;\n",
       "    }\n",
       "</style>\n",
       "<table border=\"1\" class=\"dataframe\">\n",
       "  <thead>\n",
       "    <tr style=\"text-align: right;\">\n",
       "      <th></th>\n",
       "      <th>build_name</th>\n",
       "      <th>count_before</th>\n",
       "      <th>minutes_before</th>\n",
       "      <th>count_after</th>\n",
       "      <th>minutes_after</th>\n",
       "    </tr>\n",
       "  </thead>\n",
       "  <tbody>\n",
       "    <tr>\n",
       "      <th>0</th>\n",
       "      <td>build_cyan_executable</td>\n",
       "      <td>3987.0</td>\n",
       "      <td>99465.313000</td>\n",
       "      <td>5147.0</td>\n",
       "      <td>153882.750917</td>\n",
       "    </tr>\n",
       "    <tr>\n",
       "      <th>1</th>\n",
       "      <td>build_cyan_texture</td>\n",
       "      <td>2768.0</td>\n",
       "      <td>58647.380383</td>\n",
       "      <td>2346.0</td>\n",
       "      <td>60786.589400</td>\n",
       "    </tr>\n",
       "    <tr>\n",
       "      <th>2</th>\n",
       "      <td>validate_green_executable</td>\n",
       "      <td>4002.0</td>\n",
       "      <td>32675.966450</td>\n",
       "      <td>4527.0</td>\n",
       "      <td>57820.519367</td>\n",
       "    </tr>\n",
       "    <tr>\n",
       "      <th>3</th>\n",
       "      <td>deploy_cyan_texture</td>\n",
       "      <td>1062.0</td>\n",
       "      <td>29908.416133</td>\n",
       "      <td>745.0</td>\n",
       "      <td>29945.871133</td>\n",
       "    </tr>\n",
       "    <tr>\n",
       "      <th>4</th>\n",
       "      <td>build_yellow_sound</td>\n",
       "      <td>1770.0</td>\n",
       "      <td>23270.168283</td>\n",
       "      <td>1611.0</td>\n",
       "      <td>56248.182917</td>\n",
       "    </tr>\n",
       "    <tr>\n",
       "      <th>5</th>\n",
       "      <td>test_red_data</td>\n",
       "      <td>623.0</td>\n",
       "      <td>22505.915317</td>\n",
       "      <td>581.0</td>\n",
       "      <td>23214.000183</td>\n",
       "    </tr>\n",
       "    <tr>\n",
       "      <th>6</th>\n",
       "      <td>validate_blue_executable</td>\n",
       "      <td>827.0</td>\n",
       "      <td>17697.177750</td>\n",
       "      <td>988.0</td>\n",
       "      <td>27978.987667</td>\n",
       "    </tr>\n",
       "    <tr>\n",
       "      <th>7</th>\n",
       "      <td>build_green_data</td>\n",
       "      <td>269.0</td>\n",
       "      <td>14810.915500</td>\n",
       "      <td>238.0</td>\n",
       "      <td>13865.304850</td>\n",
       "    </tr>\n",
       "    <tr>\n",
       "      <th>8</th>\n",
       "      <td>test_green_data</td>\n",
       "      <td>340.0</td>\n",
       "      <td>10191.998850</td>\n",
       "      <td>532.0</td>\n",
       "      <td>21247.440033</td>\n",
       "    </tr>\n",
       "    <tr>\n",
       "      <th>9</th>\n",
       "      <td>build_yellow_data</td>\n",
       "      <td>179.0</td>\n",
       "      <td>7297.802450</td>\n",
       "      <td>40.0</td>\n",
       "      <td>2414.303800</td>\n",
       "    </tr>\n",
       "    <tr>\n",
       "      <th>10</th>\n",
       "      <td>build_red_library</td>\n",
       "      <td>258.0</td>\n",
       "      <td>4645.505183</td>\n",
       "      <td>267.0</td>\n",
       "      <td>5943.507900</td>\n",
       "    </tr>\n",
       "    <tr>\n",
       "      <th>11</th>\n",
       "      <td>test_cyan_data</td>\n",
       "      <td>151.0</td>\n",
       "      <td>4263.131050</td>\n",
       "      <td>104.0</td>\n",
       "      <td>1144.434117</td>\n",
       "    </tr>\n",
       "    <tr>\n",
       "      <th>12</th>\n",
       "      <td>build_red_sound</td>\n",
       "      <td>116.0</td>\n",
       "      <td>3781.812150</td>\n",
       "      <td>370.0</td>\n",
       "      <td>12743.826050</td>\n",
       "    </tr>\n",
       "    <tr>\n",
       "      <th>13</th>\n",
       "      <td>test_red_texture</td>\n",
       "      <td>225.0</td>\n",
       "      <td>3213.030800</td>\n",
       "      <td>165.0</td>\n",
       "      <td>3068.500783</td>\n",
       "    </tr>\n",
       "    <tr>\n",
       "      <th>14</th>\n",
       "      <td>deploy_yellow_executable</td>\n",
       "      <td>144.0</td>\n",
       "      <td>2987.846450</td>\n",
       "      <td>34.0</td>\n",
       "      <td>580.761933</td>\n",
       "    </tr>\n",
       "    <tr>\n",
       "      <th>15</th>\n",
       "      <td>validate_blue_sound</td>\n",
       "      <td>820.0</td>\n",
       "      <td>2398.408417</td>\n",
       "      <td>990.0</td>\n",
       "      <td>3913.825450</td>\n",
       "    </tr>\n",
       "    <tr>\n",
       "      <th>16</th>\n",
       "      <td>test_green_texture</td>\n",
       "      <td>7.0</td>\n",
       "      <td>1487.854400</td>\n",
       "      <td>4.0</td>\n",
       "      <td>1136.999700</td>\n",
       "    </tr>\n",
       "    <tr>\n",
       "      <th>17</th>\n",
       "      <td>build_green_sound</td>\n",
       "      <td>83.0</td>\n",
       "      <td>1421.450333</td>\n",
       "      <td>98.0</td>\n",
       "      <td>1556.600983</td>\n",
       "    </tr>\n",
       "    <tr>\n",
       "      <th>18</th>\n",
       "      <td>validate_cyan_sound</td>\n",
       "      <td>28.0</td>\n",
       "      <td>426.495133</td>\n",
       "      <td>35.0</td>\n",
       "      <td>541.364767</td>\n",
       "    </tr>\n",
       "    <tr>\n",
       "      <th>19</th>\n",
       "      <td>build_red_texture</td>\n",
       "      <td>64.0</td>\n",
       "      <td>348.802733</td>\n",
       "      <td>44.0</td>\n",
       "      <td>2662.134317</td>\n",
       "    </tr>\n",
       "    <tr>\n",
       "      <th>20</th>\n",
       "      <td>build_red_data</td>\n",
       "      <td>169.0</td>\n",
       "      <td>253.456167</td>\n",
       "      <td>153.0</td>\n",
       "      <td>288.127533</td>\n",
       "    </tr>\n",
       "    <tr>\n",
       "      <th>21</th>\n",
       "      <td>deploy_red_texture</td>\n",
       "      <td>42.0</td>\n",
       "      <td>165.507883</td>\n",
       "      <td>39.0</td>\n",
       "      <td>149.437350</td>\n",
       "    </tr>\n",
       "    <tr>\n",
       "      <th>22</th>\n",
       "      <td>build_yellow_library</td>\n",
       "      <td>7.0</td>\n",
       "      <td>157.727483</td>\n",
       "      <td>6.0</td>\n",
       "      <td>154.639433</td>\n",
       "    </tr>\n",
       "    <tr>\n",
       "      <th>23</th>\n",
       "      <td>deploy_yellow_sound</td>\n",
       "      <td>6.0</td>\n",
       "      <td>147.527517</td>\n",
       "      <td>5.0</td>\n",
       "      <td>218.812350</td>\n",
       "    </tr>\n",
       "    <tr>\n",
       "      <th>24</th>\n",
       "      <td>test_blue_library</td>\n",
       "      <td>35.0</td>\n",
       "      <td>145.274767</td>\n",
       "      <td>26.0</td>\n",
       "      <td>46.316650</td>\n",
       "    </tr>\n",
       "    <tr>\n",
       "      <th>25</th>\n",
       "      <td>build_blue_sound</td>\n",
       "      <td>8.0</td>\n",
       "      <td>115.475450</td>\n",
       "      <td>4.0</td>\n",
       "      <td>66.641283</td>\n",
       "    </tr>\n",
       "    <tr>\n",
       "      <th>26</th>\n",
       "      <td>test_red_library</td>\n",
       "      <td>14.0</td>\n",
       "      <td>104.047950</td>\n",
       "      <td>21.0</td>\n",
       "      <td>54.486883</td>\n",
       "    </tr>\n",
       "    <tr>\n",
       "      <th>27</th>\n",
       "      <td>deploy_green_data</td>\n",
       "      <td>221.0</td>\n",
       "      <td>97.352150</td>\n",
       "      <td>174.0</td>\n",
       "      <td>114.082383</td>\n",
       "    </tr>\n",
       "    <tr>\n",
       "      <th>28</th>\n",
       "      <td>build_red_executable</td>\n",
       "      <td>166.0</td>\n",
       "      <td>88.530333</td>\n",
       "      <td>143.0</td>\n",
       "      <td>60.768117</td>\n",
       "    </tr>\n",
       "    <tr>\n",
       "      <th>29</th>\n",
       "      <td>deploy_yellow_data</td>\n",
       "      <td>7.0</td>\n",
       "      <td>88.430083</td>\n",
       "      <td>6.0</td>\n",
       "      <td>111.211733</td>\n",
       "    </tr>\n",
       "    <tr>\n",
       "      <th>30</th>\n",
       "      <td>test_yellow_texture</td>\n",
       "      <td>46.0</td>\n",
       "      <td>80.077833</td>\n",
       "      <td>29.0</td>\n",
       "      <td>44.436133</td>\n",
       "    </tr>\n",
       "    <tr>\n",
       "      <th>31</th>\n",
       "      <td>build_yellow_texture</td>\n",
       "      <td>7.0</td>\n",
       "      <td>62.430100</td>\n",
       "      <td>6.0</td>\n",
       "      <td>64.214000</td>\n",
       "    </tr>\n",
       "    <tr>\n",
       "      <th>32</th>\n",
       "      <td>test_blue_executable</td>\n",
       "      <td>14.0</td>\n",
       "      <td>49.412700</td>\n",
       "      <td>31.0</td>\n",
       "      <td>71.755817</td>\n",
       "    </tr>\n",
       "    <tr>\n",
       "      <th>33</th>\n",
       "      <td>validate_green_library</td>\n",
       "      <td>24.0</td>\n",
       "      <td>48.901833</td>\n",
       "      <td>114.0</td>\n",
       "      <td>794.834867</td>\n",
       "    </tr>\n",
       "    <tr>\n",
       "      <th>34</th>\n",
       "      <td>build_green_texture</td>\n",
       "      <td>36.0</td>\n",
       "      <td>28.125900</td>\n",
       "      <td>152.0</td>\n",
       "      <td>5996.397867</td>\n",
       "    </tr>\n",
       "    <tr>\n",
       "      <th>35</th>\n",
       "      <td>test_blue_texture</td>\n",
       "      <td>40.0</td>\n",
       "      <td>21.540450</td>\n",
       "      <td>25.0</td>\n",
       "      <td>19.046417</td>\n",
       "    </tr>\n",
       "    <tr>\n",
       "      <th>36</th>\n",
       "      <td>test_yellow_library</td>\n",
       "      <td>4.0</td>\n",
       "      <td>19.051633</td>\n",
       "      <td>NaN</td>\n",
       "      <td>NaN</td>\n",
       "    </tr>\n",
       "    <tr>\n",
       "      <th>37</th>\n",
       "      <td>validate_yellow_library</td>\n",
       "      <td>11.0</td>\n",
       "      <td>9.870950</td>\n",
       "      <td>1.0</td>\n",
       "      <td>0.523350</td>\n",
       "    </tr>\n",
       "    <tr>\n",
       "      <th>38</th>\n",
       "      <td>deploy_cyan_library</td>\n",
       "      <td>5.0</td>\n",
       "      <td>4.676767</td>\n",
       "      <td>8.0</td>\n",
       "      <td>27.045633</td>\n",
       "    </tr>\n",
       "    <tr>\n",
       "      <th>39</th>\n",
       "      <td>deploy_cyan_sound</td>\n",
       "      <td>2.0</td>\n",
       "      <td>0.484517</td>\n",
       "      <td>6.0</td>\n",
       "      <td>0.648033</td>\n",
       "    </tr>\n",
       "    <tr>\n",
       "      <th>40</th>\n",
       "      <td>test_yellow_data</td>\n",
       "      <td>7.0</td>\n",
       "      <td>0.123500</td>\n",
       "      <td>7.0</td>\n",
       "      <td>0.247533</td>\n",
       "    </tr>\n",
       "    <tr>\n",
       "      <th>41</th>\n",
       "      <td>deploy_red_executable</td>\n",
       "      <td>5.0</td>\n",
       "      <td>0.096500</td>\n",
       "      <td>6.0</td>\n",
       "      <td>0.106767</td>\n",
       "    </tr>\n",
       "    <tr>\n",
       "      <th>42</th>\n",
       "      <td>deploy_red_data</td>\n",
       "      <td>2.0</td>\n",
       "      <td>0.042467</td>\n",
       "      <td>NaN</td>\n",
       "      <td>NaN</td>\n",
       "    </tr>\n",
       "    <tr>\n",
       "      <th>43</th>\n",
       "      <td>validate_red_executable</td>\n",
       "      <td>1.0</td>\n",
       "      <td>0.033333</td>\n",
       "      <td>NaN</td>\n",
       "      <td>NaN</td>\n",
       "    </tr>\n",
       "    <tr>\n",
       "      <th>44</th>\n",
       "      <td>deploy_cyan_executable</td>\n",
       "      <td>2.0</td>\n",
       "      <td>0.022717</td>\n",
       "      <td>NaN</td>\n",
       "      <td>NaN</td>\n",
       "    </tr>\n",
       "    <tr>\n",
       "      <th>45</th>\n",
       "      <td>deploy_blue_library</td>\n",
       "      <td>NaN</td>\n",
       "      <td>NaN</td>\n",
       "      <td>8.0</td>\n",
       "      <td>1602.098700</td>\n",
       "    </tr>\n",
       "    <tr>\n",
       "      <th>46</th>\n",
       "      <td>test_cyan_texture</td>\n",
       "      <td>NaN</td>\n",
       "      <td>NaN</td>\n",
       "      <td>2.0</td>\n",
       "      <td>77.317317</td>\n",
       "    </tr>\n",
       "    <tr>\n",
       "      <th>47</th>\n",
       "      <td>build_green_library</td>\n",
       "      <td>NaN</td>\n",
       "      <td>NaN</td>\n",
       "      <td>2.0</td>\n",
       "      <td>40.354700</td>\n",
       "    </tr>\n",
       "    <tr>\n",
       "      <th>48</th>\n",
       "      <td>validate_red_texture</td>\n",
       "      <td>NaN</td>\n",
       "      <td>NaN</td>\n",
       "      <td>1.0</td>\n",
       "      <td>2.947933</td>\n",
       "    </tr>\n",
       "    <tr>\n",
       "      <th>49</th>\n",
       "      <td>validate_blue_data</td>\n",
       "      <td>NaN</td>\n",
       "      <td>NaN</td>\n",
       "      <td>1.0</td>\n",
       "      <td>0.035667</td>\n",
       "    </tr>\n",
       "  </tbody>\n",
       "</table>\n",
       "</div>"
      ],
      "text/plain": [
       "                   build_name  count_before  minutes_before  count_after  \\\n",
       "0       build_cyan_executable        3987.0    99465.313000       5147.0   \n",
       "1          build_cyan_texture        2768.0    58647.380383       2346.0   \n",
       "2   validate_green_executable        4002.0    32675.966450       4527.0   \n",
       "3         deploy_cyan_texture        1062.0    29908.416133        745.0   \n",
       "4          build_yellow_sound        1770.0    23270.168283       1611.0   \n",
       "5               test_red_data         623.0    22505.915317        581.0   \n",
       "6    validate_blue_executable         827.0    17697.177750        988.0   \n",
       "7            build_green_data         269.0    14810.915500        238.0   \n",
       "8             test_green_data         340.0    10191.998850        532.0   \n",
       "9           build_yellow_data         179.0     7297.802450         40.0   \n",
       "10          build_red_library         258.0     4645.505183        267.0   \n",
       "11             test_cyan_data         151.0     4263.131050        104.0   \n",
       "12            build_red_sound         116.0     3781.812150        370.0   \n",
       "13           test_red_texture         225.0     3213.030800        165.0   \n",
       "14   deploy_yellow_executable         144.0     2987.846450         34.0   \n",
       "15        validate_blue_sound         820.0     2398.408417        990.0   \n",
       "16         test_green_texture           7.0     1487.854400          4.0   \n",
       "17          build_green_sound          83.0     1421.450333         98.0   \n",
       "18        validate_cyan_sound          28.0      426.495133         35.0   \n",
       "19          build_red_texture          64.0      348.802733         44.0   \n",
       "20             build_red_data         169.0      253.456167        153.0   \n",
       "21         deploy_red_texture          42.0      165.507883         39.0   \n",
       "22       build_yellow_library           7.0      157.727483          6.0   \n",
       "23        deploy_yellow_sound           6.0      147.527517          5.0   \n",
       "24          test_blue_library          35.0      145.274767         26.0   \n",
       "25           build_blue_sound           8.0      115.475450          4.0   \n",
       "26           test_red_library          14.0      104.047950         21.0   \n",
       "27          deploy_green_data         221.0       97.352150        174.0   \n",
       "28       build_red_executable         166.0       88.530333        143.0   \n",
       "29         deploy_yellow_data           7.0       88.430083          6.0   \n",
       "30        test_yellow_texture          46.0       80.077833         29.0   \n",
       "31       build_yellow_texture           7.0       62.430100          6.0   \n",
       "32       test_blue_executable          14.0       49.412700         31.0   \n",
       "33     validate_green_library          24.0       48.901833        114.0   \n",
       "34        build_green_texture          36.0       28.125900        152.0   \n",
       "35          test_blue_texture          40.0       21.540450         25.0   \n",
       "36        test_yellow_library           4.0       19.051633          NaN   \n",
       "37    validate_yellow_library          11.0        9.870950          1.0   \n",
       "38        deploy_cyan_library           5.0        4.676767          8.0   \n",
       "39          deploy_cyan_sound           2.0        0.484517          6.0   \n",
       "40           test_yellow_data           7.0        0.123500          7.0   \n",
       "41      deploy_red_executable           5.0        0.096500          6.0   \n",
       "42            deploy_red_data           2.0        0.042467          NaN   \n",
       "43    validate_red_executable           1.0        0.033333          NaN   \n",
       "44     deploy_cyan_executable           2.0        0.022717          NaN   \n",
       "45        deploy_blue_library           NaN             NaN          8.0   \n",
       "46          test_cyan_texture           NaN             NaN          2.0   \n",
       "47        build_green_library           NaN             NaN          2.0   \n",
       "48       validate_red_texture           NaN             NaN          1.0   \n",
       "49         validate_blue_data           NaN             NaN          1.0   \n",
       "\n",
       "    minutes_after  \n",
       "0   153882.750917  \n",
       "1    60786.589400  \n",
       "2    57820.519367  \n",
       "3    29945.871133  \n",
       "4    56248.182917  \n",
       "5    23214.000183  \n",
       "6    27978.987667  \n",
       "7    13865.304850  \n",
       "8    21247.440033  \n",
       "9     2414.303800  \n",
       "10    5943.507900  \n",
       "11    1144.434117  \n",
       "12   12743.826050  \n",
       "13    3068.500783  \n",
       "14     580.761933  \n",
       "15    3913.825450  \n",
       "16    1136.999700  \n",
       "17    1556.600983  \n",
       "18     541.364767  \n",
       "19    2662.134317  \n",
       "20     288.127533  \n",
       "21     149.437350  \n",
       "22     154.639433  \n",
       "23     218.812350  \n",
       "24      46.316650  \n",
       "25      66.641283  \n",
       "26      54.486883  \n",
       "27     114.082383  \n",
       "28      60.768117  \n",
       "29     111.211733  \n",
       "30      44.436133  \n",
       "31      64.214000  \n",
       "32      71.755817  \n",
       "33     794.834867  \n",
       "34    5996.397867  \n",
       "35      19.046417  \n",
       "36            NaN  \n",
       "37       0.523350  \n",
       "38      27.045633  \n",
       "39       0.648033  \n",
       "40       0.247533  \n",
       "41       0.106767  \n",
       "42            NaN  \n",
       "43            NaN  \n",
       "44            NaN  \n",
       "45    1602.098700  \n",
       "46      77.317317  \n",
       "47      40.354700  \n",
       "48       2.947933  \n",
       "49       0.035667  "
      ]
     },
     "execution_count": 113,
     "metadata": {},
     "output_type": "execute_result"
    }
   ],
   "source": [
    "df_builds_b_a_ts"
   ]
  },
  {
   "cell_type": "markdown",
   "id": "2d019f6d",
   "metadata": {},
   "source": [
    "Как видно, во второй неделе как появились новые уникальные задачи, так и не было задач, которые были в первой неделе.  \n",
    "Посмотрю какое процентное соотношение вносят задачи, которые появились на второй неделе"
   ]
  },
  {
   "cell_type": "code",
   "execution_count": 114,
   "id": "193d8e15",
   "metadata": {
    "scrolled": true
   },
   "outputs": [
    {
     "data": {
      "text/plain": [
       "0.35107922311342055"
      ]
     },
     "execution_count": 114,
     "metadata": {},
     "output_type": "execute_result"
    }
   ],
   "source": [
    "(df_builds_b_a_ts.loc[df_builds_b_a_ts['count_before'].isna()]['minutes_after'].sum()/df_builds_b_a_ts['minutes_after'].sum())*100"
   ]
  },
  {
   "cell_type": "markdown",
   "id": "873c1c6f",
   "metadata": {},
   "source": [
    "Это значение является процентным соотношением суммы затраченных ресурсов на задачи, которые появились во второй неделе относительно суммы затраченных ресурсов на задачи в целом для одних и тех же сотрудников. Оно является очень маленьким, поэтому можно убрать их "
   ]
  },
  {
   "cell_type": "markdown",
   "id": "0fd11f81",
   "metadata": {},
   "source": [
    "Теперь посмотрю то же самое, только для задач, которых не было на второй неделе"
   ]
  },
  {
   "cell_type": "code",
   "execution_count": 115,
   "id": "8d634b6c",
   "metadata": {},
   "outputs": [
    {
     "data": {
      "text/plain": [
       "0.005580960111232822"
      ]
     },
     "execution_count": 115,
     "metadata": {},
     "output_type": "execute_result"
    }
   ],
   "source": [
    "(df_builds_b_a_ts.loc[df_builds_b_a_ts['count_after'].isna()]['minutes_before'].sum()/df_builds_b_a_ts['minutes_before'].sum())*100"
   ]
  },
  {
   "cell_type": "markdown",
   "id": "58a11d20",
   "metadata": {},
   "source": [
    "Оно еще меньше, тоже можно убрать"
   ]
  },
  {
   "cell_type": "code",
   "execution_count": 116,
   "id": "9aaa4a81",
   "metadata": {},
   "outputs": [],
   "source": [
    "df_builds_b_a_ts.dropna(inplace=True)"
   ]
  },
  {
   "cell_type": "markdown",
   "id": "1802dd1a",
   "metadata": {},
   "source": [
    "Посмотрю время выполнения одной и той же задачи в первую и во вторую неделю одними и теми же сотрудниками"
   ]
  },
  {
   "cell_type": "code",
   "execution_count": 117,
   "id": "873d82bb",
   "metadata": {},
   "outputs": [],
   "source": [
    "df_builds_b_a_ts['task_time_before'] = df_builds_b_a_ts['minutes_before']/df_builds_b_a_ts['count_before']"
   ]
  },
  {
   "cell_type": "code",
   "execution_count": 118,
   "id": "d6e4d543",
   "metadata": {},
   "outputs": [],
   "source": [
    "df_builds_b_a_ts['task_time_after'] = df_builds_b_a_ts['minutes_after']/df_builds_b_a_ts['count_after']"
   ]
  },
  {
   "cell_type": "code",
   "execution_count": 119,
   "id": "5215a986",
   "metadata": {
    "scrolled": true
   },
   "outputs": [
    {
     "data": {
      "text/html": [
       "<div>\n",
       "<style scoped>\n",
       "    .dataframe tbody tr th:only-of-type {\n",
       "        vertical-align: middle;\n",
       "    }\n",
       "\n",
       "    .dataframe tbody tr th {\n",
       "        vertical-align: top;\n",
       "    }\n",
       "\n",
       "    .dataframe thead th {\n",
       "        text-align: right;\n",
       "    }\n",
       "</style>\n",
       "<table border=\"1\" class=\"dataframe\">\n",
       "  <thead>\n",
       "    <tr style=\"text-align: right;\">\n",
       "      <th></th>\n",
       "      <th>build_name</th>\n",
       "      <th>count_before</th>\n",
       "      <th>minutes_before</th>\n",
       "      <th>count_after</th>\n",
       "      <th>minutes_after</th>\n",
       "      <th>task_time_before</th>\n",
       "      <th>task_time_after</th>\n",
       "    </tr>\n",
       "  </thead>\n",
       "  <tbody>\n",
       "    <tr>\n",
       "      <th>0</th>\n",
       "      <td>build_cyan_executable</td>\n",
       "      <td>3987.0</td>\n",
       "      <td>99465.313000</td>\n",
       "      <td>5147.0</td>\n",
       "      <td>153882.750917</td>\n",
       "      <td>24.947407</td>\n",
       "      <td>29.897562</td>\n",
       "    </tr>\n",
       "    <tr>\n",
       "      <th>1</th>\n",
       "      <td>build_cyan_texture</td>\n",
       "      <td>2768.0</td>\n",
       "      <td>58647.380383</td>\n",
       "      <td>2346.0</td>\n",
       "      <td>60786.589400</td>\n",
       "      <td>21.187637</td>\n",
       "      <td>25.910737</td>\n",
       "    </tr>\n",
       "    <tr>\n",
       "      <th>2</th>\n",
       "      <td>validate_green_executable</td>\n",
       "      <td>4002.0</td>\n",
       "      <td>32675.966450</td>\n",
       "      <td>4527.0</td>\n",
       "      <td>57820.519367</td>\n",
       "      <td>8.164909</td>\n",
       "      <td>12.772370</td>\n",
       "    </tr>\n",
       "    <tr>\n",
       "      <th>3</th>\n",
       "      <td>deploy_cyan_texture</td>\n",
       "      <td>1062.0</td>\n",
       "      <td>29908.416133</td>\n",
       "      <td>745.0</td>\n",
       "      <td>29945.871133</td>\n",
       "      <td>28.162350</td>\n",
       "      <td>40.195800</td>\n",
       "    </tr>\n",
       "    <tr>\n",
       "      <th>4</th>\n",
       "      <td>build_yellow_sound</td>\n",
       "      <td>1770.0</td>\n",
       "      <td>23270.168283</td>\n",
       "      <td>1611.0</td>\n",
       "      <td>56248.182917</td>\n",
       "      <td>13.146988</td>\n",
       "      <td>34.915073</td>\n",
       "    </tr>\n",
       "    <tr>\n",
       "      <th>5</th>\n",
       "      <td>test_red_data</td>\n",
       "      <td>623.0</td>\n",
       "      <td>22505.915317</td>\n",
       "      <td>581.0</td>\n",
       "      <td>23214.000183</td>\n",
       "      <td>36.125065</td>\n",
       "      <td>39.955250</td>\n",
       "    </tr>\n",
       "    <tr>\n",
       "      <th>6</th>\n",
       "      <td>validate_blue_executable</td>\n",
       "      <td>827.0</td>\n",
       "      <td>17697.177750</td>\n",
       "      <td>988.0</td>\n",
       "      <td>27978.987667</td>\n",
       "      <td>21.399248</td>\n",
       "      <td>28.318813</td>\n",
       "    </tr>\n",
       "    <tr>\n",
       "      <th>7</th>\n",
       "      <td>build_green_data</td>\n",
       "      <td>269.0</td>\n",
       "      <td>14810.915500</td>\n",
       "      <td>238.0</td>\n",
       "      <td>13865.304850</td>\n",
       "      <td>55.059165</td>\n",
       "      <td>58.257583</td>\n",
       "    </tr>\n",
       "    <tr>\n",
       "      <th>8</th>\n",
       "      <td>test_green_data</td>\n",
       "      <td>340.0</td>\n",
       "      <td>10191.998850</td>\n",
       "      <td>532.0</td>\n",
       "      <td>21247.440033</td>\n",
       "      <td>29.976467</td>\n",
       "      <td>39.938797</td>\n",
       "    </tr>\n",
       "    <tr>\n",
       "      <th>9</th>\n",
       "      <td>build_yellow_data</td>\n",
       "      <td>179.0</td>\n",
       "      <td>7297.802450</td>\n",
       "      <td>40.0</td>\n",
       "      <td>2414.303800</td>\n",
       "      <td>40.769846</td>\n",
       "      <td>60.357595</td>\n",
       "    </tr>\n",
       "    <tr>\n",
       "      <th>10</th>\n",
       "      <td>build_red_library</td>\n",
       "      <td>258.0</td>\n",
       "      <td>4645.505183</td>\n",
       "      <td>267.0</td>\n",
       "      <td>5943.507900</td>\n",
       "      <td>18.005834</td>\n",
       "      <td>22.260329</td>\n",
       "    </tr>\n",
       "    <tr>\n",
       "      <th>11</th>\n",
       "      <td>test_cyan_data</td>\n",
       "      <td>151.0</td>\n",
       "      <td>4263.131050</td>\n",
       "      <td>104.0</td>\n",
       "      <td>1144.434117</td>\n",
       "      <td>28.232656</td>\n",
       "      <td>11.004174</td>\n",
       "    </tr>\n",
       "    <tr>\n",
       "      <th>12</th>\n",
       "      <td>build_red_sound</td>\n",
       "      <td>116.0</td>\n",
       "      <td>3781.812150</td>\n",
       "      <td>370.0</td>\n",
       "      <td>12743.826050</td>\n",
       "      <td>32.601829</td>\n",
       "      <td>34.442773</td>\n",
       "    </tr>\n",
       "    <tr>\n",
       "      <th>13</th>\n",
       "      <td>test_red_texture</td>\n",
       "      <td>225.0</td>\n",
       "      <td>3213.030800</td>\n",
       "      <td>165.0</td>\n",
       "      <td>3068.500783</td>\n",
       "      <td>14.280137</td>\n",
       "      <td>18.596974</td>\n",
       "    </tr>\n",
       "    <tr>\n",
       "      <th>14</th>\n",
       "      <td>deploy_yellow_executable</td>\n",
       "      <td>144.0</td>\n",
       "      <td>2987.846450</td>\n",
       "      <td>34.0</td>\n",
       "      <td>580.761933</td>\n",
       "      <td>20.748934</td>\n",
       "      <td>17.081233</td>\n",
       "    </tr>\n",
       "    <tr>\n",
       "      <th>15</th>\n",
       "      <td>validate_blue_sound</td>\n",
       "      <td>820.0</td>\n",
       "      <td>2398.408417</td>\n",
       "      <td>990.0</td>\n",
       "      <td>3913.825450</td>\n",
       "      <td>2.924888</td>\n",
       "      <td>3.953359</td>\n",
       "    </tr>\n",
       "    <tr>\n",
       "      <th>16</th>\n",
       "      <td>test_green_texture</td>\n",
       "      <td>7.0</td>\n",
       "      <td>1487.854400</td>\n",
       "      <td>4.0</td>\n",
       "      <td>1136.999700</td>\n",
       "      <td>212.550629</td>\n",
       "      <td>284.249925</td>\n",
       "    </tr>\n",
       "    <tr>\n",
       "      <th>17</th>\n",
       "      <td>build_green_sound</td>\n",
       "      <td>83.0</td>\n",
       "      <td>1421.450333</td>\n",
       "      <td>98.0</td>\n",
       "      <td>1556.600983</td>\n",
       "      <td>17.125908</td>\n",
       "      <td>15.883684</td>\n",
       "    </tr>\n",
       "    <tr>\n",
       "      <th>18</th>\n",
       "      <td>validate_cyan_sound</td>\n",
       "      <td>28.0</td>\n",
       "      <td>426.495133</td>\n",
       "      <td>35.0</td>\n",
       "      <td>541.364767</td>\n",
       "      <td>15.231969</td>\n",
       "      <td>15.467565</td>\n",
       "    </tr>\n",
       "    <tr>\n",
       "      <th>19</th>\n",
       "      <td>build_red_texture</td>\n",
       "      <td>64.0</td>\n",
       "      <td>348.802733</td>\n",
       "      <td>44.0</td>\n",
       "      <td>2662.134317</td>\n",
       "      <td>5.450043</td>\n",
       "      <td>60.503053</td>\n",
       "    </tr>\n",
       "    <tr>\n",
       "      <th>20</th>\n",
       "      <td>build_red_data</td>\n",
       "      <td>169.0</td>\n",
       "      <td>253.456167</td>\n",
       "      <td>153.0</td>\n",
       "      <td>288.127533</td>\n",
       "      <td>1.499741</td>\n",
       "      <td>1.883186</td>\n",
       "    </tr>\n",
       "    <tr>\n",
       "      <th>21</th>\n",
       "      <td>deploy_red_texture</td>\n",
       "      <td>42.0</td>\n",
       "      <td>165.507883</td>\n",
       "      <td>39.0</td>\n",
       "      <td>149.437350</td>\n",
       "      <td>3.940664</td>\n",
       "      <td>3.831727</td>\n",
       "    </tr>\n",
       "    <tr>\n",
       "      <th>22</th>\n",
       "      <td>build_yellow_library</td>\n",
       "      <td>7.0</td>\n",
       "      <td>157.727483</td>\n",
       "      <td>6.0</td>\n",
       "      <td>154.639433</td>\n",
       "      <td>22.532498</td>\n",
       "      <td>25.773239</td>\n",
       "    </tr>\n",
       "    <tr>\n",
       "      <th>23</th>\n",
       "      <td>deploy_yellow_sound</td>\n",
       "      <td>6.0</td>\n",
       "      <td>147.527517</td>\n",
       "      <td>5.0</td>\n",
       "      <td>218.812350</td>\n",
       "      <td>24.587919</td>\n",
       "      <td>43.762470</td>\n",
       "    </tr>\n",
       "    <tr>\n",
       "      <th>24</th>\n",
       "      <td>test_blue_library</td>\n",
       "      <td>35.0</td>\n",
       "      <td>145.274767</td>\n",
       "      <td>26.0</td>\n",
       "      <td>46.316650</td>\n",
       "      <td>4.150708</td>\n",
       "      <td>1.781410</td>\n",
       "    </tr>\n",
       "    <tr>\n",
       "      <th>25</th>\n",
       "      <td>build_blue_sound</td>\n",
       "      <td>8.0</td>\n",
       "      <td>115.475450</td>\n",
       "      <td>4.0</td>\n",
       "      <td>66.641283</td>\n",
       "      <td>14.434431</td>\n",
       "      <td>16.660321</td>\n",
       "    </tr>\n",
       "    <tr>\n",
       "      <th>26</th>\n",
       "      <td>test_red_library</td>\n",
       "      <td>14.0</td>\n",
       "      <td>104.047950</td>\n",
       "      <td>21.0</td>\n",
       "      <td>54.486883</td>\n",
       "      <td>7.431996</td>\n",
       "      <td>2.594613</td>\n",
       "    </tr>\n",
       "    <tr>\n",
       "      <th>27</th>\n",
       "      <td>deploy_green_data</td>\n",
       "      <td>221.0</td>\n",
       "      <td>97.352150</td>\n",
       "      <td>174.0</td>\n",
       "      <td>114.082383</td>\n",
       "      <td>0.440507</td>\n",
       "      <td>0.655646</td>\n",
       "    </tr>\n",
       "    <tr>\n",
       "      <th>28</th>\n",
       "      <td>build_red_executable</td>\n",
       "      <td>166.0</td>\n",
       "      <td>88.530333</td>\n",
       "      <td>143.0</td>\n",
       "      <td>60.768117</td>\n",
       "      <td>0.533315</td>\n",
       "      <td>0.424952</td>\n",
       "    </tr>\n",
       "    <tr>\n",
       "      <th>29</th>\n",
       "      <td>deploy_yellow_data</td>\n",
       "      <td>7.0</td>\n",
       "      <td>88.430083</td>\n",
       "      <td>6.0</td>\n",
       "      <td>111.211733</td>\n",
       "      <td>12.632869</td>\n",
       "      <td>18.535289</td>\n",
       "    </tr>\n",
       "    <tr>\n",
       "      <th>30</th>\n",
       "      <td>test_yellow_texture</td>\n",
       "      <td>46.0</td>\n",
       "      <td>80.077833</td>\n",
       "      <td>29.0</td>\n",
       "      <td>44.436133</td>\n",
       "      <td>1.740822</td>\n",
       "      <td>1.532280</td>\n",
       "    </tr>\n",
       "    <tr>\n",
       "      <th>31</th>\n",
       "      <td>build_yellow_texture</td>\n",
       "      <td>7.0</td>\n",
       "      <td>62.430100</td>\n",
       "      <td>6.0</td>\n",
       "      <td>64.214000</td>\n",
       "      <td>8.918586</td>\n",
       "      <td>10.702333</td>\n",
       "    </tr>\n",
       "    <tr>\n",
       "      <th>32</th>\n",
       "      <td>test_blue_executable</td>\n",
       "      <td>14.0</td>\n",
       "      <td>49.412700</td>\n",
       "      <td>31.0</td>\n",
       "      <td>71.755817</td>\n",
       "      <td>3.529479</td>\n",
       "      <td>2.314704</td>\n",
       "    </tr>\n",
       "    <tr>\n",
       "      <th>33</th>\n",
       "      <td>validate_green_library</td>\n",
       "      <td>24.0</td>\n",
       "      <td>48.901833</td>\n",
       "      <td>114.0</td>\n",
       "      <td>794.834867</td>\n",
       "      <td>2.037576</td>\n",
       "      <td>6.972236</td>\n",
       "    </tr>\n",
       "    <tr>\n",
       "      <th>34</th>\n",
       "      <td>build_green_texture</td>\n",
       "      <td>36.0</td>\n",
       "      <td>28.125900</td>\n",
       "      <td>152.0</td>\n",
       "      <td>5996.397867</td>\n",
       "      <td>0.781275</td>\n",
       "      <td>39.449986</td>\n",
       "    </tr>\n",
       "    <tr>\n",
       "      <th>35</th>\n",
       "      <td>test_blue_texture</td>\n",
       "      <td>40.0</td>\n",
       "      <td>21.540450</td>\n",
       "      <td>25.0</td>\n",
       "      <td>19.046417</td>\n",
       "      <td>0.538511</td>\n",
       "      <td>0.761857</td>\n",
       "    </tr>\n",
       "    <tr>\n",
       "      <th>37</th>\n",
       "      <td>validate_yellow_library</td>\n",
       "      <td>11.0</td>\n",
       "      <td>9.870950</td>\n",
       "      <td>1.0</td>\n",
       "      <td>0.523350</td>\n",
       "      <td>0.897359</td>\n",
       "      <td>0.523350</td>\n",
       "    </tr>\n",
       "    <tr>\n",
       "      <th>38</th>\n",
       "      <td>deploy_cyan_library</td>\n",
       "      <td>5.0</td>\n",
       "      <td>4.676767</td>\n",
       "      <td>8.0</td>\n",
       "      <td>27.045633</td>\n",
       "      <td>0.935353</td>\n",
       "      <td>3.380704</td>\n",
       "    </tr>\n",
       "    <tr>\n",
       "      <th>39</th>\n",
       "      <td>deploy_cyan_sound</td>\n",
       "      <td>2.0</td>\n",
       "      <td>0.484517</td>\n",
       "      <td>6.0</td>\n",
       "      <td>0.648033</td>\n",
       "      <td>0.242258</td>\n",
       "      <td>0.108006</td>\n",
       "    </tr>\n",
       "    <tr>\n",
       "      <th>40</th>\n",
       "      <td>test_yellow_data</td>\n",
       "      <td>7.0</td>\n",
       "      <td>0.123500</td>\n",
       "      <td>7.0</td>\n",
       "      <td>0.247533</td>\n",
       "      <td>0.017643</td>\n",
       "      <td>0.035362</td>\n",
       "    </tr>\n",
       "    <tr>\n",
       "      <th>41</th>\n",
       "      <td>deploy_red_executable</td>\n",
       "      <td>5.0</td>\n",
       "      <td>0.096500</td>\n",
       "      <td>6.0</td>\n",
       "      <td>0.106767</td>\n",
       "      <td>0.019300</td>\n",
       "      <td>0.017794</td>\n",
       "    </tr>\n",
       "  </tbody>\n",
       "</table>\n",
       "</div>"
      ],
      "text/plain": [
       "                   build_name  count_before  minutes_before  count_after  \\\n",
       "0       build_cyan_executable        3987.0    99465.313000       5147.0   \n",
       "1          build_cyan_texture        2768.0    58647.380383       2346.0   \n",
       "2   validate_green_executable        4002.0    32675.966450       4527.0   \n",
       "3         deploy_cyan_texture        1062.0    29908.416133        745.0   \n",
       "4          build_yellow_sound        1770.0    23270.168283       1611.0   \n",
       "5               test_red_data         623.0    22505.915317        581.0   \n",
       "6    validate_blue_executable         827.0    17697.177750        988.0   \n",
       "7            build_green_data         269.0    14810.915500        238.0   \n",
       "8             test_green_data         340.0    10191.998850        532.0   \n",
       "9           build_yellow_data         179.0     7297.802450         40.0   \n",
       "10          build_red_library         258.0     4645.505183        267.0   \n",
       "11             test_cyan_data         151.0     4263.131050        104.0   \n",
       "12            build_red_sound         116.0     3781.812150        370.0   \n",
       "13           test_red_texture         225.0     3213.030800        165.0   \n",
       "14   deploy_yellow_executable         144.0     2987.846450         34.0   \n",
       "15        validate_blue_sound         820.0     2398.408417        990.0   \n",
       "16         test_green_texture           7.0     1487.854400          4.0   \n",
       "17          build_green_sound          83.0     1421.450333         98.0   \n",
       "18        validate_cyan_sound          28.0      426.495133         35.0   \n",
       "19          build_red_texture          64.0      348.802733         44.0   \n",
       "20             build_red_data         169.0      253.456167        153.0   \n",
       "21         deploy_red_texture          42.0      165.507883         39.0   \n",
       "22       build_yellow_library           7.0      157.727483          6.0   \n",
       "23        deploy_yellow_sound           6.0      147.527517          5.0   \n",
       "24          test_blue_library          35.0      145.274767         26.0   \n",
       "25           build_blue_sound           8.0      115.475450          4.0   \n",
       "26           test_red_library          14.0      104.047950         21.0   \n",
       "27          deploy_green_data         221.0       97.352150        174.0   \n",
       "28       build_red_executable         166.0       88.530333        143.0   \n",
       "29         deploy_yellow_data           7.0       88.430083          6.0   \n",
       "30        test_yellow_texture          46.0       80.077833         29.0   \n",
       "31       build_yellow_texture           7.0       62.430100          6.0   \n",
       "32       test_blue_executable          14.0       49.412700         31.0   \n",
       "33     validate_green_library          24.0       48.901833        114.0   \n",
       "34        build_green_texture          36.0       28.125900        152.0   \n",
       "35          test_blue_texture          40.0       21.540450         25.0   \n",
       "37    validate_yellow_library          11.0        9.870950          1.0   \n",
       "38        deploy_cyan_library           5.0        4.676767          8.0   \n",
       "39          deploy_cyan_sound           2.0        0.484517          6.0   \n",
       "40           test_yellow_data           7.0        0.123500          7.0   \n",
       "41      deploy_red_executable           5.0        0.096500          6.0   \n",
       "\n",
       "    minutes_after  task_time_before  task_time_after  \n",
       "0   153882.750917         24.947407        29.897562  \n",
       "1    60786.589400         21.187637        25.910737  \n",
       "2    57820.519367          8.164909        12.772370  \n",
       "3    29945.871133         28.162350        40.195800  \n",
       "4    56248.182917         13.146988        34.915073  \n",
       "5    23214.000183         36.125065        39.955250  \n",
       "6    27978.987667         21.399248        28.318813  \n",
       "7    13865.304850         55.059165        58.257583  \n",
       "8    21247.440033         29.976467        39.938797  \n",
       "9     2414.303800         40.769846        60.357595  \n",
       "10    5943.507900         18.005834        22.260329  \n",
       "11    1144.434117         28.232656        11.004174  \n",
       "12   12743.826050         32.601829        34.442773  \n",
       "13    3068.500783         14.280137        18.596974  \n",
       "14     580.761933         20.748934        17.081233  \n",
       "15    3913.825450          2.924888         3.953359  \n",
       "16    1136.999700        212.550629       284.249925  \n",
       "17    1556.600983         17.125908        15.883684  \n",
       "18     541.364767         15.231969        15.467565  \n",
       "19    2662.134317          5.450043        60.503053  \n",
       "20     288.127533          1.499741         1.883186  \n",
       "21     149.437350          3.940664         3.831727  \n",
       "22     154.639433         22.532498        25.773239  \n",
       "23     218.812350         24.587919        43.762470  \n",
       "24      46.316650          4.150708         1.781410  \n",
       "25      66.641283         14.434431        16.660321  \n",
       "26      54.486883          7.431996         2.594613  \n",
       "27     114.082383          0.440507         0.655646  \n",
       "28      60.768117          0.533315         0.424952  \n",
       "29     111.211733         12.632869        18.535289  \n",
       "30      44.436133          1.740822         1.532280  \n",
       "31      64.214000          8.918586        10.702333  \n",
       "32      71.755817          3.529479         2.314704  \n",
       "33     794.834867          2.037576         6.972236  \n",
       "34    5996.397867          0.781275        39.449986  \n",
       "35      19.046417          0.538511         0.761857  \n",
       "37       0.523350          0.897359         0.523350  \n",
       "38      27.045633          0.935353         3.380704  \n",
       "39       0.648033          0.242258         0.108006  \n",
       "40       0.247533          0.017643         0.035362  \n",
       "41       0.106767          0.019300         0.017794  "
      ]
     },
     "execution_count": 119,
     "metadata": {},
     "output_type": "execute_result"
    }
   ],
   "source": [
    "df_builds_b_a_ts"
   ]
  },
  {
   "cell_type": "markdown",
   "id": "cc6f8a07",
   "metadata": {},
   "source": [
    "Проверю различается ли статистически время выполнения одной задачи теми же сотрудниками в первую и во вторую неделю.  \n",
    "Нулевая гипотеза: нет разницы в медианных значениях между групп; альфа=0.05"
   ]
  },
  {
   "cell_type": "code",
   "execution_count": 120,
   "id": "44f01824",
   "metadata": {},
   "outputs": [
    {
     "data": {
      "text/plain": [
       "MannwhitneyuResult(statistic=735.0, pvalue=0.33017005193778604)"
      ]
     },
     "execution_count": 120,
     "metadata": {},
     "output_type": "execute_result"
    }
   ],
   "source": [
    "scipy.stats.mannwhitneyu(df_builds_b_a_ts['task_time_before'], df_builds_b_a_ts['task_time_after'])"
   ]
  },
  {
   "cell_type": "markdown",
   "id": "adc7c045",
   "metadata": {},
   "source": [
    "Принимаем нулевую гипотезу, можно сказать, что одни и те же задачи сотрудники выполняют одинаково (не учитывая то, что один сотрудник мог выполнять одну и ту же задачу либо медленне, либо быстрее)"
   ]
  },
  {
   "cell_type": "markdown",
   "id": "8e60d5ff",
   "metadata": {},
   "source": [
    "3)"
   ]
  },
  {
   "cell_type": "markdown",
   "id": "371d0ddf",
   "metadata": {},
   "source": [
    "Проверю соотношение классов статуса задачи для одних и тех же сотрудников на первой неделе и на второй"
   ]
  },
  {
   "cell_type": "code",
   "execution_count": 121,
   "id": "986fb0c1",
   "metadata": {},
   "outputs": [
    {
     "data": {
      "text/plain": [
       "Text(0.5, 1.0, 'same workers on the 2nd week')"
      ]
     },
     "execution_count": 121,
     "metadata": {},
     "output_type": "execute_result"
    },
    {
     "data": {
      "image/png": "[encoded data removed]",
      "text/plain": [
       "<Figure size 720x720 with 2 Axes>"
      ]
     },
     "metadata": {},
     "output_type": "display_data"
    }
   ],
   "source": [
    "fig, ax = plt.subplots(1,2, figsize=(10,10))\n",
    "\n",
    "ax[0].pie(df1w_ts['status'].value_counts(), labels=df1w_ts['status'].value_counts().index, autopct='%.2f%%')\n",
    "ax[1].pie(df_old_workers_ts['status'].value_counts(), labels=df_old_workers_ts['status'].value_counts().index, autopct='%.2f%%')\n",
    "\n",
    "ax[0].set_title('same workers on the 1st week')\n",
    "ax[1].set_title('same workers on the 2nd week')"
   ]
  },
  {
   "cell_type": "markdown",
   "id": "1109a282",
   "metadata": {},
   "source": [
    "Как видно из графика, те же работники стали меньше успешно выполнять таски"
   ]
  },
  {
   "cell_type": "markdown",
   "id": "4a03a760",
   "metadata": {},
   "source": [
    "Стоит проверить, различается ли время успешного выполнения таски, потому что такии различия в соотношениях классов могут быть из-за того, что на второй неделе те же сотрудники стремились быстрее выполнять задачи, и поэтому количество успешно выполненых уменьшилось"
   ]
  },
  {
   "cell_type": "code",
   "execution_count": 122,
   "id": "030f0fa6",
   "metadata": {},
   "outputs": [
    {
     "data": {
      "text/plain": [
       "5.74515"
      ]
     },
     "execution_count": 122,
     "metadata": {},
     "output_type": "execute_result"
    }
   ],
   "source": [
    "df1w_ts[df1w_ts['status']=='success']['minutes'].median()"
   ]
  },
  {
   "cell_type": "code",
   "execution_count": 123,
   "id": "a9383ea3",
   "metadata": {},
   "outputs": [
    {
     "data": {
      "text/plain": [
       "8.8474"
      ]
     },
     "execution_count": 123,
     "metadata": {},
     "output_type": "execute_result"
    }
   ],
   "source": [
    "df_old_workers_ts[df_old_workers_ts['status']=='success']['minutes'].median()"
   ]
  },
  {
   "cell_type": "markdown",
   "id": "118ab379",
   "metadata": {},
   "source": [
    "Нулевая гипотеза: нет разницы в медианном значении затраченного времени, при том, что таска была успешно выполнена; альфа=0.05"
   ]
  },
  {
   "cell_type": "code",
   "execution_count": 124,
   "id": "ec26f9cd",
   "metadata": {},
   "outputs": [
    {
     "data": {
      "text/plain": [
       "MannwhitneyuResult(statistic=85627601.5, pvalue=9.586464550728863e-49)"
      ]
     },
     "execution_count": 124,
     "metadata": {},
     "output_type": "execute_result"
    }
   ],
   "source": [
    "scipy.stats.mannwhitneyu(df1w_ts[df1w_ts['status']=='success']['minutes'], df_old_workers_ts[df_old_workers_ts['status']=='success']['minutes'])"
   ]
  },
  {
   "cell_type": "markdown",
   "id": "b5bb9ba0",
   "metadata": {},
   "source": [
    "Отклоняем нулевую гипотезу. Мое предположение тоже опровергается, т.к. медианное время для тех же работников во вторую неделю наоборот больше. Можно сказать, что, действительно, сотрудники успешно выполняют таски дольше. То же самое можно проверить и с другими статусами таски"
   ]
  },
  {
   "cell_type": "markdown",
   "id": "d90d8a46",
   "metadata": {},
   "source": [
    "Для статуса fail"
   ]
  },
  {
   "cell_type": "code",
   "execution_count": 125,
   "id": "b51c9e22",
   "metadata": {},
   "outputs": [
    {
     "data": {
      "text/plain": [
       "MannwhitneyuResult(statistic=3323008.0, pvalue=2.0961359403246863e-08)"
      ]
     },
     "execution_count": 125,
     "metadata": {},
     "output_type": "execute_result"
    }
   ],
   "source": [
    "scipy.stats.mannwhitneyu(df1w_ts[df1w_ts['status']=='fail']['minutes'], df_old_workers_ts[df_old_workers_ts['status']=='fail']['minutes'])"
   ]
  },
  {
   "cell_type": "markdown",
   "id": "bf70ff36",
   "metadata": {},
   "source": [
    "Отклоняем нулевую гипотезу"
   ]
  },
  {
   "cell_type": "markdown",
   "id": "c33af6c3",
   "metadata": {},
   "source": [
    "Для статуса cancel"
   ]
  },
  {
   "cell_type": "code",
   "execution_count": 126,
   "id": "493101e0",
   "metadata": {},
   "outputs": [
    {
     "data": {
      "text/plain": [
       "MannwhitneyuResult(statistic=747673.5, pvalue=0.005418619406766655)"
      ]
     },
     "execution_count": 126,
     "metadata": {},
     "output_type": "execute_result"
    }
   ],
   "source": [
    "scipy.stats.mannwhitneyu(df1w_ts[df1w_ts['status']=='cancel']['minutes'], df_old_workers_ts[df_old_workers_ts['status']=='cancel']['minutes'])"
   ]
  },
  {
   "cell_type": "markdown",
   "id": "357ae07a",
   "metadata": {},
   "source": [
    "Отклоняем нулевую гипотезу"
   ]
  },
  {
   "cell_type": "markdown",
   "id": "7fc1dd76",
   "metadata": {},
   "source": [
    "Можно сказать, что сотрудники тратят больше ресурсов и на успешное выполние, и на не выполнение, и на отмену таски"
   ]
  },
  {
   "cell_type": "markdown",
   "id": "e9b85f37",
   "metadata": {},
   "source": [
    "## --------------------------------------------------------------------------------------------------------------------------------------"
   ]
  },
  {
   "cell_type": "markdown",
   "id": "c78c9dd5",
   "metadata": {},
   "source": [
    "Исходя из всего выше, можно сделать выводы:  \n",
    "Те сотрудники, которые были как в первой, так и во второй неделе стали тратить больше ресурсов на выполнение тасок, что описывается иными факторами, данных которых не имеется в датасете  \n",
    "Те сотрудники, которые появились во второй неделе тратят больше ресурсов, чем сотрудники, которые уже были в первой неделе. Это объясняется тем, что для новых сотрудников сложнее даются сами задачи, а также это может быть объяснено тоже иными факторами, данных которые нет"
   ]
  },
  {
   "cell_type": "markdown",
   "id": "a28f201e",
   "metadata": {},
   "source": [
    "При чем это все вдобавок к тому, что само количество тасок увеличилось"
   ]
  },
  {
   "cell_type": "markdown",
   "id": "b09fe991",
   "metadata": {},
   "source": [
    "Выводы могут поменяться в зависимости от выбираемого уровня значимости, т.к. было много случаев, когда полученное в результате теста значение p-value было близко к уровню значимости, который я везде выбирал за 0.05"
   ]
  }
 ],
 "metadata": {
  "kernelspec": {
   "display_name": "Python 3 (ipykernel)",
   "language": "python",
   "name": "python3"
  },
  "language_info": {
   "codemirror_mode": {
    "name": "ipython",
    "version": 3
   },
   "file_extension": ".py",
   "mimetype": "text/x-python",
   "name": "python",
   "nbconvert_exporter": "python",
   "pygments_lexer": "ipython3",
   "version": "3.9.12"
  }
 },
 "nbformat": 4,
 "nbformat_minor": 5
}
